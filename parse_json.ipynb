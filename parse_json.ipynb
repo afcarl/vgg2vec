{
 "cells": [
  {
   "cell_type": "code",
   "execution_count": 22,
   "metadata": {
    "collapsed": true
   },
   "outputs": [],
   "source": [
    "# This file is a nice place to parse JSON output by Kimono and download lots of it\n",
    "\n",
    "from __future__ import print_function\n",
    "import urllib\n",
    "import base64\n",
    "\n",
    "import json\n",
    "from pprint import pprint"
   ]
  },
  {
   "cell_type": "code",
   "execution_count": 2,
   "metadata": {
    "collapsed": true
   },
   "outputs": [],
   "source": [
    "json_in = '100.json'    # http://www.listology.com/lukeprog/list/100-greatest-paintings-all-time-pics\n",
    "out_dir = \"data/100/\"\n",
    "\n",
    "with open(json_in) as df:\n",
    "    data = json.load(df)"
   ]
  },
  {
   "cell_type": "code",
   "execution_count": 36,
   "metadata": {
    "collapsed": false
   },
   "outputs": [
    {
     "name": "stdout",
     "output_type": "stream",
     "text": [
      "Bosch_ The Garden of Delights (1504) - Prado_ Madrid http://commonsenseatheism.com/wp-content/uploads/2009/12/001bosch-gardenofdelights.jpg\n",
      "Michelangelo_ Il Giudizio Universale_ Universal Judgement (1541) - Cappella Sistina_ Roma http://commonsenseatheism.com/wp-content/uploads/2009/12/002Michelangelo-TheLastJudgment.JPG\n",
      "Ernst_ Europe After the Rain II (1942) - Sumner Collection_ Hartford http://commonsenseatheism.com/wp-content/uploads/2009/12/003Ernst-EuropeAfterTheRainII.JPG\n",
      "Klimt_ Beethovenfries (1902) - Sezession_ Wien http://commonsenseatheism.com/wp-content/uploads/2009/12/004Klimt-Beethovenfries.jpg\n",
      "Dali_ Persistence of Memory (1931) - Museum of Modern Art_ New York http://commonsenseatheism.com/wp-content/uploads/2009/12/005Dali-PersistenceOfMemory.jpg\n",
      "Klimt_ The Virgin (1913) - National Gallery_ Prague http://commonsenseatheism.com/wp-content/uploads/2009/12/006Klimt-TheVirgin.jpg\n",
      "Bosch_ The Last Judgement (1505) - Gemaldegalerie der Akademie der Bildenden Kunste_ Wien http://commonsenseatheism.com/wp-content/uploads/2009/12/007Bosch-TheLastJudgement.jpg\n",
      "Klimt_ The Kiss (1908) - Belvedere_ Wien http://commonsenseatheism.com/wp-content/uploads/2009/12/008Klimt-TheKiss.jpg\n",
      "Botticelli_ Allegoria della Primavera (1478) - Uffizi_ Firenze http://commonsenseatheism.com/wp-content/uploads/2009/12/009Botticelli-AllegoriadellaPrimavera.jpg\n",
      "Monet_ Nimphee (1926) - Orangerie_ Paris http://commonsenseatheism.com/wp-content/uploads/2009/12/010Monet-nympheas.jpg\n",
      "Dali_ Metamorphose de Narcisse (1937) - Tate Gallery_ London http://commonsenseatheism.com/wp-content/uploads/2009/12/011Dali-MetamorphosedeNarcisse.jpg\n",
      "Leonardo_ Il Cenacolo_ The Last Supper (1497) - S.Maria delle Grazie_ Milano http://commonsenseatheism.com/wp-content/uploads/2009/12/012Leonardo-thelastsupper.jpg\n",
      "Rubens_ Fall of the Damned_ Der Hollensturz der Verdammten http://commonsenseatheism.com/wp-content/uploads/2009/12/013rubens-fallofthedamned.jpg\n",
      "Uccello_ Battaglia di San Romano_Part I (1456) - Uffizi_ Firenze http://commonsenseatheism.com/wp-content/uploads/2009/12/014Uccello-battleofsanromano.jpg\n",
      "Van Gogh_ Starry Night (1889) - Museum of Modern Art_ New York http://commonsenseatheism.com/wp-content/uploads/2009/12/015VanGogh-StarryNight.jpg\n",
      "Raffaello_ Sposalizio della Vergine (1504) - Piancoteca di Brera_ Milano http://commonsenseatheism.com/wp-content/uploads/2009/12/016Raffaello-SposaliziodellaVergine.jpg\n",
      "Dali_ Soft Construction with Boiled Beans (1936) - Museum of Art_ Philadelphia http://commonsenseatheism.com/wp-content/uploads/2009/12/017Dali-softconstructionwithboiledbeans.jpg\n",
      "Bruegel_ Triumph of Death (1562) - Prado_ Madrid http://commonsenseatheism.com/wp-content/uploads/2009/12/018Bruegel-TriumphOfDeath.jpg\n",
      "Botticelli_ Nascita di Venere (1485) - Uffizi_ Firenze http://commonsenseatheism.com/wp-content/uploads/2009/12/019Boticelli-BirthOfVenus.jpg\n",
      "Rubens_ The Adoration of the Magi_ Prado_ Madrid http://commonsenseatheism.com/wp-content/uploads/2009/12/020Rubens-AdorationOfTheMagi.jpg\n",
      "Monet_ Cathedrale de Rouen_ Musee National d'Orsay_ Paris http://commonsenseatheism.com/wp-content/uploads/2009/12/021Monet-CathedraledeRouen.jpg\n",
      "Greco_ Toledo (1599) - Metropolitan Museum of Art_ New York http://commonsenseatheism.com/wp-content/uploads/2009/12/022Greco-Toledo.jpg\n",
      "Giotto_ Cappella degli Scrovegni_ Padova (1305) http://commonsenseatheism.com/wp-content/uploads/2009/12/023Giotto-CappelladegliScrovegni.jpg\n",
      "Cranach_ Flugelaltar mit dem Jungsten Gericht (1524) - Gemaldegalerie_ Berlin http://commonsenseatheism.com/wp-content/uploads/2009/12/024Cranach-FlugelaltarmitdemJungstenGericht.jpg\n",
      "Seurat_ La Parade du Cirque (1888) - Metropolitan Museum of Art_ New York http://commonsenseatheism.com/wp-content/uploads/2009/12/025Seurat-LaParadeduCirque.jpg\n",
      "Ernst_ La Ville Entiere (1936) - Kunsthaus_ Zurich http://commonsenseatheism.com/wp-content/uploads/2009/12/026Ernst-LaVilleEntiere.jpg\n",
      "Rembrandt_ Militia Company (1642) - Stedelijk Museum_ Amsterdam http://commonsenseatheism.com/wp-content/uploads/2009/12/027Rembrandt-MilitaCompany.jpg\n",
      "Van Eyck_ Madonna in the Church (1425) - Gemaldegalerie_ Berlin http://commonsenseatheism.com/wp-content/uploads/2009/12/028VanEyck-MadonnaInTheChurch.jpg\n",
      "Bruegel_ The Battle Between Carnival and Lent (1559) - Kunsthistorisches Museum_ Wien http://commonsenseatheism.com/wp-content/uploads/2009/12/029Bruegel-thebattlebetween.jpg\n",
      "Leonardo_ Gioconda_ Mona Lisa (1505) - Louvre_ Paris http://commonsenseatheism.com/wp-content/uploads/2009/12/030Leonardo-MonaLisa.jpg\n",
      "Raffaello_ Trasfigurazione (1519) - Pinacoteca Vaticana_ Roma http://commonsenseatheism.com/wp-content/uploads/2009/12/031Rafael-Transfiguration.jpg\n",
      "Rousseau_ Sleeping Gypsy (1897) - Museum of Modern Art_ New York http://commonsenseatheism.com/wp-content/uploads/2009/12/032Rousseau-SleepingGypsy.jpg\n",
      "Piero della Francesca_ Leggenda della Vera Croce (1460) - S.Francesco_ Arezzo http://commonsenseatheism.com/wp-content/uploads/2009/12/033PierodellaFrancesca-LeggendadellaVeraCroce.jpg\n",
      "Van Gogh_ Potato Eaters (1885) - Van Gogh Museum_ Amsterdam http://commonsenseatheism.com/wp-content/uploads/2009/12/034VanGogh-PotatoEaters.jpg\n",
      "Bruegel_ Dutch Proverbs (1559) - Gemaldegalerie_ Berlin http://commonsenseatheism.com/wp-content/uploads/2009/12/035Bruegel-DutchProverbs.jpg\n",
      "Greco_ La Crucifixion (1594) - Prado_ Madrid http://commonsenseatheism.com/wp-content/uploads/2009/12/036Greco-TheCrucifixion.jpg\n",
      "Seurat_ La Grande Jatte (1886) - Art Institute_ Chicago http://commonsenseatheism.com/wp-content/uploads/2009/12/037Seurat-LaGrandeJatte.jpg\n",
      "Altdorfer_ The Battle of Alexander the Great (1529) - Alte Pinakothek_ Munchen http://commonsenseatheism.com/wp-content/uploads/2009/12/038Altdorfer-TheBattleOfAlexanderTheGreat.jpg\n",
      "Monet_ The Grainstack (1896) - Museum of Fine Arts_ Boston http://commonsenseatheism.com/wp-content/uploads/2009/12/039Monet-theGrainstack.jpg\n",
      "Klee_ Ad Marginen (1930) - Kunstmuseum_ Basel http://commonsenseatheism.com/wp-content/uploads/2009/12/040Klee-AdMarginen.jpg\n",
      "Rembrandt_ Belshazzar's Feast (1635) - National Gallery_ London http://commonsenseatheism.com/wp-content/uploads/2009/12/041Rembrandt-BelshazzarsFeast.jpg\n",
      "Van Gogh_ Cypresses (1889) - Metropolitan Museum of Art_ New York http://commonsenseatheism.com/wp-content/uploads/2009/12/042VanGogh-Cypresses.jpg\n",
      "Rubens_ St Agustine_ National Gallery_ Prague http://commonsenseatheism.com/wp-content/uploads/2009/12/043Rubens-StAugustine.jpg\n",
      "Van Eyck_ Giovanni Arnolfini and his Wife (1434) - National Gallery_ London http://commonsenseatheism.com/wp-content/uploads/2009/12/044VanEyck-GiovanniArnolfini.jpg\n",
      "Renoir_ Bal du Moulin de la Galette (1876) - Musee National d'Orsay_ Paris http://commonsenseatheism.com/wp-content/uploads/2009/12/045Renoir-BalduMoulindelaGalett.jpg\n",
      "Renoir_ Le Dejeuner des Canotiers (1881) - Phillips Collection_ Washington http://commonsenseatheism.com/wp-content/uploads/2009/12/046Renoir-LeDejeunerdesCanotiers.jpg\n",
      "Goya_ Aquelarre_ Il Grande Caprone (1821) - Prado_ Madrid http://commonsenseatheism.com/wp-content/uploads/2009/12/047Goya-Aquelarre.jpg\n",
      "Velasquez_ Las Meninas (1656) - Prado_ Madrid http://commonsenseatheism.com/wp-content/uploads/2009/12/048Velasquez-LasMeninas.jpg\n",
      "Chagall_ I and the Village (1911) - Museum of Modern Art_ New York http://commonsenseatheism.com/wp-content/uploads/2009/12/049Chagal-IAndTheVillage.jpg\n",
      "Van der Weyden_ Deposition (1435) - Prado_ Madrid http://commonsenseatheism.com/wp-content/uploads/2009/12/050VanderWeyden-Deposition.jpg\n",
      "Rembrandt_ Anatomy Lesson of Dr Nicolaes Tulp (1632) - Mauritshuis_ Den Haag http://commonsenseatheism.com/wp-content/uploads/2009/12/051Rembrandt-AnatomyLesson.jpg\n",
      "Van Eyck_ Rinaldo e Armida_ Louvre_ Paris http://commonsenseatheism.com/wp-content/uploads/2009/12/052VanEyck-Rinaldo.jpg\n",
      "Rousseau_ Carnival Evening (1886) - Museum of Art_ Philadelphia http://commonsenseatheism.com/wp-content/uploads/2009/12/053Rosseau-CarnivalEvening.jpg\n",
      "Renoir_ Les Parapluies_ The Umbrellas (1884) - National Gallery_ London http://commonsenseatheism.com/wp-content/uploads/2009/12/054Renoir-TheUmbrellas.jpg\n",
      "Van Eyck_ The Virgin of Ivers (1435) - Louvre_ Paris http://commonsenseatheism.com/wp-content/uploads/2009/12/055Eyck-Virgin.jpg\n",
      "Goya_ Asmodeo (1821) - Prado_ Madrid http://commonsenseatheism.com/wp-content/uploads/2009/12/056Goya-Asmodeo.jpg\n",
      "Greco_ Lacoonte (1610) - National Gallery_ Washington http://commonsenseatheism.com/wp-content/uploads/2009/12/057Greco-Lacoonte.jpg\n",
      "Magritte_ Specchio Falso (1928) - Museum of Modern Art_ New York http://commonsenseatheism.com/wp-content/uploads/2009/12/058Magritte-SpecchioFalso.jpg\n",
      "Magritte_ Condition Humain (1934) - National Gallery_ Washington http://commonsenseatheism.com/wp-content/uploads/2009/12/059Magritte-HumanCondition.jpg\n",
      "Giacometti_ Das Kreisen der Planeten (1910) - Kunsthaus_ Zurich http://commonsenseatheism.com/wp-content/uploads/2009/12/060Giacometti-DasKreisenderPlaneten.jpg\n",
      "Tansey_ Triumph over Mastery (1986) - #_ # http://commonsenseatheism.com/wp-content/uploads/2009/12/061Tansey-TriumphOverMastery.jpg\n",
      "Tansey_ Forward Retreat (1986) - Broad Art Foundation_ # http://commonsenseatheism.com/wp-content/uploads/2009/12/062Tansey-ForwardRetreat.GIF\n",
      "Tansey_ Mont Sainte-Victoire (1987) - #_ # http://commonsenseatheism.com/wp-content/uploads/2009/12/063Millet-HarvestersResting.jpg\n",
      "Millet_ Harvesters Resting (1853) http://commonsenseatheism.com/wp-content/uploads/2009/12/063Tansey-MontSainteVictoire.jpg\n",
      "Veronese_ Nozze di Cana (1563) - Louvre_ Paris http://commonsenseatheism.com/wp-content/uploads/2009/12/065Veronese-NozzediCana.jpg\n",
      "DeVries_ Palastarchitektur mit Badernder (1596) - Kunsthistorische Muzeum_ Wien http://commonsenseatheism.com/wp-content/uploads/2009/12/066deVries-PalaceArchitectureWithBadernder.jpg\n",
      "Velasquez_ Las Hilanderas (166?) - Prado_ Madrid http://commonsenseatheism.com/wp-content/uploads/2009/12/067Velasquez-LasHilanderas.jpg\n",
      "Memling_ Johannesalterarn (1490) - Kunsthistorische Muzeum_ Wien http://commonsenseatheism.com/wp-content/uploads/2009/12/068Memling-Triptych.jpg\n",
      "Bruegel_ Babel Tower (1563) - Kunsthistorische Muzeum_ Wien http://commonsenseatheism.com/wp-content/uploads/2009/12/069Bruegel-BabelTower.jpg\n",
      "Bruegel_ Procession to Calvary (1564) - Kunsthistorische Muzeum_ Wien http://commonsenseatheism.com/wp-content/uploads/2009/12/070Bruegel-ProcessionToCalvary.jpg\n",
      "Bruegel_ Massacre of the Innocents (1567) - Kunsthistorische Muzeum_ Wien http://commonsenseatheism.com/wp-content/uploads/2009/12/071Bruegel-MassacreOfTheInnocents.jpg\n",
      "Bruegel_ Bethlem (1566) - Kunsthistorische Muzeum_ Wien http://commonsenseatheism.com/wp-content/uploads/2009/12/072Bruegel-Bethlehem.gif\n",
      "Cranach_ Johan Friedun (1544) - Kunsthistorische Muzeum_ Wien http://commonsenseatheism.com/wp-content/uploads/2009/12/073Cranach-Johan.jpg\n",
      "Caravaggio_ Davide_ Galea (1607) - Kunsthistorische Muzeum_ Wien http://commonsenseatheism.com/wp-content/uploads/2009/12/074Caravaggio-David.jpg\n",
      "Rubens_ Stormy Landscape with Philomenon_ Gemitterland Schaft mit Philenen (1625) - Kunsthistorische Muzeum_ Wien http://commonsenseatheism.com/wp-content/uploads/2009/12/075Rubens-StormyLandscapewithPhilemonandBaucis.jpg\n",
      "Rubens_ Feast of Venus_ Vennsfest (1637) - Kunsthistorische Muzeum_ Wien http://commonsenseatheism.com/wp-content/uploads/2009/12/076Rubens-FeastOfVenus.jpg\n",
      "Rubens_ Miracle of St Ignatz (1618) - Kunsthistorische Muzeum_ Wien http://commonsenseatheism.com/wp-content/uploads/2009/12/077Rubens-MiracleOfStIgnatz.jpg\n",
      "Vermeer_ Malkunst (1666) - Kunsthistorische Muzeum_ Wien http://commonsenseatheism.com/wp-content/uploads/2009/12/078Vermeer-Malkunst.jpg\n",
      "Vermeer_ The Astronomer (1668) - Louvre_ Paris http://commonsenseatheism.com/wp-content/uploads/2009/12/079Vermeer-Astronomer.jpg\n",
      "Klimt_ Judith I (1901) - Belvedere_ Wien http://commonsenseatheism.com/wp-content/uploads/2009/12/080Klimt-JudithI.jpg\n",
      "Klimt_ Melo (1912) - Belvedere_ Wien http://commonsenseatheism.com/wp-content/uploads/2009/12/081Klimt-Melo.jpeg\n",
      "Paolo Uccello_ Battaglia di San Romano_Part II (1456) - National Gallery_ London http://commonsenseatheism.com/wp-content/uploads/2009/12/082Uccello-BattleofSanRomanoII.jpg\n",
      "Paolo Uccello_ Battaglia di San Romano_Part III (1456) - Louvre_ Paris http://commonsenseatheism.com/wp-content/uploads/2009/12/083Uccello-BattleofSanRomanoIII.jpg\n",
      "Paolo Uccello_ San Giorgio e il Dragone - National Gallery_ London http://commonsenseatheism.com/wp-content/uploads/2009/12/084Uccello-StGiorgioAndTheDragon.jpg\n",
      "Klimt_ Avenue Schloss Kaven (1912) - Belvedere_ Wien http://commonsenseatheism.com/wp-content/uploads/2009/12/085Klimt-Avenu-SchlossKaven.jpg\n",
      "Klimt_ Beechwood (1903) - Belvedere_ Wien http://commonsenseatheism.com/wp-content/uploads/2009/12/086Klimt-Beechwood.jpg\n",
      "Klimt_ Fritza Riedler (1906) - Belvedere_ Wien http://commonsenseatheism.com/wp-content/uploads/2009/12/087Klimt-FritzaRiedler.jpg\n",
      "Klimt_ Adele Blochbauer (1907) - Belvedere_ Wien http://commonsenseatheism.com/wp-content/uploads/2009/12/088Klimt-AdeleBlochbauer.jpg\n",
      "Schiele_ Death and the Maiden (1915) - Belvedere_ Wien http://commonsenseatheism.com/wp-content/uploads/2009/12/089schiele-deathandthemaiden.jpg\n",
      "Schiele_ Mother with two children (1917) - Belvedere_ Wien http://commonsenseatheism.com/wp-content/uploads/2009/12/090schiele-motherWithTwoChildren.jpg\n",
      "Schiele_ Rainerbub (1910) - Belvedere_ Wien http://commonsenseatheism.com/wp-content/uploads/2009/12/091Schiele-Rainerbub.jpg\n",
      "Schiele_ Family (1917) - Belvedere_ Wien http://commonsenseatheism.com/wp-content/uploads/2009/12/092scheile-family.jpg\n",
      "Bruegel_ Sermon of St John 1566_ Szepmuveszen Muzeum_ Budapest http://commonsenseatheism.com/wp-content/uploads/2009/12/093Bruegel-SermonOfStJohn.JPG\n",
      "Bruegel_ Triumph of Death (15??) - Museum fur Gegenwartskunst_ Basel http://commonsenseatheism.com/wp-content/uploads/2009/12/094Bruegel-TriumphOfDeath.jpg\n",
      "Holbein_ Nikolaus Kratzer (1528) - Louvre_ Paris http://commonsenseatheism.com/wp-content/uploads/2009/12/095Holbein-NikolausKratzer.jpg\n",
      "Holbein_ Georg Gisze (1532) - Louvre_ Paris http://commonsenseatheism.com/wp-content/uploads/2009/12/096Holbein-GeorgGisze.JPG\n",
      "Holbein_ Ambassadors (1533) - National Gallery_ London http://commonsenseatheism.com/wp-content/uploads/2009/12/097Holbein-Ambassadors.jpg\n",
      "Rubens_ Debarquement de Marie de Medicis (1625) - Louvre_ Paris http://commonsenseatheism.com/wp-content/uploads/2009/12/098Rubens-DebarquementdeMariedeMedicis.jpg\n",
      "Dali_ Apoteosis of Homer_ Staatsgalerie Moderner Kunst_ Munchen http://commonsenseatheism.com/wp-content/uploads/2009/12/099Dali-ApotheosisofHomer.jpg\n",
      "Dali_ L'Enigme du Desir (1929) - Staatsgalerie Moderner Kunst_ Munchen http://commonsenseatheism.com/wp-content/uploads/2009/12/100Dali-TheEnigmaOfDesire.jpg\n"
     ]
    }
   ],
   "source": [
    "for entry in data['top100']:\n",
    "    title = entry['title']\n",
    "    url = entry['img']['src']\n",
    "    \n",
    "    title = re.sub(r':|,|/|\\\\', '_', title)\n",
    "    print(title, url)\n",
    "    \n",
    "    urllib.urlretrieve(url, str(out_dir + title + '.jpg'))\n"
   ]
  }
 ],
 "metadata": {
  "kernelspec": {
   "display_name": "Python 2",
   "language": "python",
   "name": "python2"
  },
  "language_info": {
   "codemirror_mode": {
    "name": "ipython",
    "version": 2
   },
   "file_extension": ".py",
   "mimetype": "text/x-python",
   "name": "python",
   "nbconvert_exporter": "python",
   "pygments_lexer": "ipython2",
   "version": "2.7.10"
  }
 },
 "nbformat": 4,
 "nbformat_minor": 0
}
