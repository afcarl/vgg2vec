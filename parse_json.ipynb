{
 "cells": [
  {
   "cell_type": "code",
   "execution_count": 22,
   "metadata": {
    "collapsed": true
   },
   "outputs": [],
   "source": [
    "# This file is a nice place to parse JSON output by Kimono and download lots of it\n",
    "\n",
    "from __future__ import print_function\n",
    "import urllib\n",
    "import base64\n",
    "\n",
    "import json\n",
    "from pprint import pprint"
   ]
  },
  {
   "cell_type": "code",
   "execution_count": 38,
   "metadata": {
    "collapsed": false
   },
   "outputs": [],
   "source": [
    "def get100():\n",
    "    json_in = '100.json'    # http://www.listology.com/lukeprog/list/100-greatest-paintings-all-time-pics\n",
    "    out_dir = \"data/100/\"\n",
    "\n",
    "    with open(json_in) as df:\n",
    "        data = json.load(df)\n",
    "        \n",
    "    for entry in data['top100']:\n",
    "        title = entry['title']\n",
    "        url = entry['img']['src']\n",
    "\n",
    "        title = re.sub(r':|,|/|\\\\', '_', title)\n",
    "        print(title, url)\n",
    "    \n",
    "        urllib.urlretrieve(url, str(out_dir + title + '.jpg'))\n",
    "    \n",
    "get100()"
   ]
  },
  {
   "cell_type": "code",
   "execution_count": null,
   "metadata": {
    "collapsed": true
   },
   "outputs": [],
   "source": []
  }
 ],
 "metadata": {
  "kernelspec": {
   "display_name": "Python 2",
   "language": "python",
   "name": "python2"
  },
  "language_info": {
   "codemirror_mode": {
    "name": "ipython",
    "version": 2
   },
   "file_extension": ".py",
   "mimetype": "text/x-python",
   "name": "python",
   "nbconvert_exporter": "python",
   "pygments_lexer": "ipython2",
   "version": "2.7.10"
  }
 },
 "nbformat": 4,
 "nbformat_minor": 0
}
