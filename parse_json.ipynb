{
 "cells": [
  {
   "cell_type": "code",
   "execution_count": 7,
   "metadata": {
    "collapsed": true
   },
   "outputs": [],
   "source": [
    "# This file is a nice place to parse JSON output by Kimono and download lots of it\n",
    "\n",
    "from __future__ import print_function\n",
    "import urllib\n",
    "import base64\n",
    "\n",
    "import json\n",
    "from pprint import pprint"
   ]
  },
  {
   "cell_type": "code",
   "execution_count": 38,
   "metadata": {
    "collapsed": false
   },
   "outputs": [],
   "source": [
    "def get100():\n",
    "    json_in = '100.json'    # http://www.listology.com/lukeprog/list/100-greatest-paintings-all-time-pics\n",
    "    out_dir = \"data/100/\"\n",
    "\n",
    "    with open(json_in) as df:\n",
    "        data = json.load(df)\n",
    "        \n",
    "    for entry in data['top100']:\n",
    "        title = entry['title']\n",
    "        url = entry['img']['src']\n",
    "\n",
    "        title = re.sub(r':|,|/|\\\\', '_', title)\n",
    "        print(title, url)\n",
    "    \n",
    "        urllib.urlretrieve(url, str(out_dir + title + '.jpg'))\n",
    "    \n",
    "get100()"
   ]
  },
  {
   "cell_type": "code",
   "execution_count": 9,
   "metadata": {
    "collapsed": false
   },
   "outputs": [],
   "source": [
    "f_labels = 'tsnejs/tmp/p_1234_labels_c.json'\n",
    "f_embed  = 'tsnejs/tmp/p_1234_embedding_c.json'\n",
    "\n",
    "with open(f_labels) as df:\n",
    "    labels = json.load(df)\n",
    "    \n",
    "with open(f_embed) as df:\n",
    "    embed = json.load(df)"
   ]
  },
  {
   "cell_type": "code",
   "execution_count": 16,
   "metadata": {
    "collapsed": false
   },
   "outputs": [
    {
     "name": "stdout",
     "output_type": "stream",
     "text": [
      "Picasso_blue [-337.01423943323, 109.38996161781, -452.41099967597]\n",
      "Picasso_blue1 [-293.15568642211, 57.57589649733, -443.16235438732]\n",
      "Picasso_blue10 [-198.49684613725, 21.656882476811, -520.46055029148]\n",
      "Picasso_blue3 [-386.2858920196, 97.731103651068, -365.02606038954]\n",
      "Picasso_blue5 [-199.69268924244, 84.925305061656, -402.04494953633]\n",
      "Picasso_blue6 [-51.115892734553, 6.4118281867048, -388.5453357451]\n",
      "Picasso_blue7 [-414.81231027113, 106.12962275816, -298.79588442551]\n",
      "Picasso_blue8 [-159.66796653815, 31.159275226241, -449.5506376425]\n",
      "Picasso_blue9 [-277.74101308928, 32.251572999352, -572.89134655145]\n",
      "Picasso_cube0 [-317.25194374062, -346.46537832771, -69.668676637055]\n",
      "Picasso_cube1 [432.3160565598, -61.655389305225, 72.950226485141]\n",
      "Picasso_cube10 [485.28008458487, -73.259522792051, -14.483954208181]\n",
      "Picasso_cube11 [334.72149931953, 167.09053474958, 229.14890024543]\n",
      "Picasso_cube2 [-416.8241241926, -23.7060619246, -94.371316814198]\n",
      "Picasso_cube3 [217.65537569347, 76.931053384651, 331.09171146979]\n",
      "Picasso_cube4 [1176.178556064, 162.62071067839, 84.386187442919]\n",
      "Picasso_cube5 [-281.30944211761, -334.94195956634, 2.4617903685034]\n",
      "Picasso_cube6 [-305.42882299068, 329.95653710906, 37.480571588402]\n",
      "Picasso_cube7 [-259.086797767, -234.51822518295, -35.269349949236]\n",
      "Picasso_cube8 [-374.91295921256, -294.08353266882, -53.203029603944]\n",
      "Picasso_cube9 [-330.19317370692, -404.65579922941, -13.317442850887]\n",
      "Picasso_express0 [667.3964271762, -241.16472458442, 5.4788284815492]\n",
      "Picasso_express2 [319.46233236117, -140.11363553156, -78.445997764089]\n",
      "Picasso_express3 [368.90521780939, -308.85165397533, 118.8373505081]\n",
      "Picasso_express4 [281.92688984692, -187.25671729876, 0.54655100722887]\n",
      "Picasso_express6 [438.05097096401, -343.3068920502, 92.375112113212]\n",
      "Picasso_express7 [500.09102438317, 147.5939283083, 182.15111971696]\n",
      "Picasso_express8 [1194.9435102046, 135.59785384824, 18.239001709389]\n",
      "Picasso_express9 [320.01176453277, -302.98625093249, 40.649705267578]\n",
      "Picasso_neo0 [-540.87034883269, 124.6718278875, 30.345075875091]\n",
      "Picasso_neo1 [-470.09390410929, 90.067252949312, -32.563448112607]\n",
      "Picasso_neo10 [-28.180139785813, 41.650341567194, 206.01523595733]\n",
      "Picasso_neo2 [-349.87178003995, 292.72517022203, 5.3317560920447]\n",
      "Picasso_neo3 [1.1131749789481, 40.607905583224, 153.31238439687]\n",
      "Picasso_neo4 [-26.795997696767, 133.82058834214, 70.234999671329]\n",
      "Picasso_neo5 [-183.17052916496, 102.79413810621, 136.66725712043]\n",
      "Picasso_neo6 [-498.74140554923, 210.70811595687, -228.13370100099]\n",
      "Picasso_neo7 [-453.61641679292, 105.96047943671, -197.42909105612]\n",
      "Picasso_neo8 [-392.3298307326, 193.67713813698, -17.091690216544]\n",
      "Picasso_neo9 [317.81424241059, 256.46293450535, 365.77406174344]\n",
      "Picasso_rose0 [-288.02509215972, 108.15224029348, 159.5741370826]\n",
      "Picasso_rose1 [-380.11532255717, 126.82071294124, 7.3776175138833]\n",
      "Picasso_rose10 [-551.66273705704, 168.67869043233, -229.06224038888]\n",
      "Picasso_rose2 [-232.84286293585, 90.517388860143, 197.88913037483]\n",
      "Picasso_rose3 [-12.065126855413, -63.24720253368, 92.679690161684]\n",
      "Picasso_rose4 [-168.19164583214, -97.573816968926, 61.277028586179]\n",
      "Picasso_rose5 [-208.79052215321, 92.203032803822, 291.99343344922]\n",
      "Picasso_rose6 [-411.75244159825, 18.98353250422, 85.538305486797]\n",
      "Picasso_rose8 [-471.14669359652, 103.53281313268, 54.383023605738]\n",
      "Picasso_rose9 [-101.20236123793, -95.555144744855, 52.606462604563]\n",
      "Picasso_surreal0 [242.79844275945, 103.96443913994, 208.53656746663]\n",
      "Picasso_surreal1 [255.34887716719, 178.08203989284, 239.78853690288]\n",
      "Picasso_surreal10 [305.85309612024, -537.49754133251, 84.462066256023]\n",
      "Picasso_surreal2 [319.44031494798, 150.51117627361, 320.3944910806]\n",
      "Picasso_surreal3 [310.27039865829, -137.3651928009, 80.432254525089]\n",
      "Picasso_surreal4 [332.90360728605, -103.17386325383, 128.48803638608]\n",
      "Picasso_surreal5 [459.69386437997, -15.25082851724, 198.76031243282]\n",
      "Picasso_surreal6 [451.50420571047, 54.06064497239, 231.31610986265]\n",
      "Picasso_surreal7 [353.92269130795, 229.08447877134, 181.79562164271]\n",
      "Picasso_surreal8 [284.85233307617, -238.12981574313, 95.157404566221]\n"
     ]
    }
   ],
   "source": [
    "for i in range(len(labels)):\n",
    "    print(labels[i], embed[i])\n",
    "    "
   ]
  }
 ],
 "metadata": {
  "kernelspec": {
   "display_name": "Python 2",
   "language": "python",
   "name": "python2"
  },
  "language_info": {
   "codemirror_mode": {
    "name": "ipython",
    "version": 2
   },
   "file_extension": ".py",
   "mimetype": "text/x-python",
   "name": "python",
   "nbconvert_exporter": "python",
   "pygments_lexer": "ipython2",
   "version": "2.7.10"
  }
 },
 "nbformat": 4,
 "nbformat_minor": 0
}
