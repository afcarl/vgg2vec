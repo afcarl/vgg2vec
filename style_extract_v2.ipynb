{
 "cells": [
  {
   "cell_type": "code",
   "execution_count": 1,
   "metadata": {
    "collapsed": true
   },
   "outputs": [],
   "source": [
    "require 'torch'\n",
    "require 'nn'\n",
    "require 'image'\n",
    "require 'optim'\n",
    "\n",
    "loadcaffe_wrap = require 'loadcaffe_wrapper'\n",
    "cjson = require 'cjson'\n",
    "string = require 'string'\n",
    "\n",
    "cmd = torch.CmdLine()\n",
    "\n",
    "-- Hacking torch\n",
    "cmd:option('-start_at', 1, 'index to start at – worst hack I\\'ve ever written')\n",
    "cmd:option('-iter', 100, 'how many images to run over – please don\\'t segfault')\n",
    "cmd:option('-img_size', 512, 'all images will be resized to this max dimension' )\n",
    "cmd:option('-name', '', 'name to attach to output')\n",
    "cmd:option('-thumb_size', 100, 'thumbnail size')\n",
    "\n",
    "-- Basic options\n",
    "cmd:option('-style_dir', 'data/picasso_cubism/', 'Style input directory')\n",
    "cmd:option('-tmp_dir', 'tmp/', 'Directory to store vectors on disk')\n",
    "cmd:option('-gpu', -1, 'Zero-indexed ID of the GPU to use; for CPU mode set -gpu = -1')\n",
    "\n",
    "-- Other options\n",
    "cmd:option('-pooling', 'max', 'max|avg')\n",
    "cmd:option('-proto_file', 'models/VGG_ILSVRC_19_layers_deploy.prototxt')\n",
    "cmd:option('-model_file', 'models/VGG_ILSVRC_19_layers.caffemodel')\n",
    "\n",
    "cmd:option('-content_layers', 'relu4_2', 'layers for content')\n",
    "cmd:option('-style_layers', 'relu1_1,relu2_1,relu3_1,relu4_1,relu5_1', 'layers for style') -- tbh all but relu6 and relu7, which cause size mismatches\n",
    "                            -- 'relu1_1,relu2_1,relu3_1,relu4_1,relu5_1'\n",
    "                            -- 'relu1_1,relu1_2,relu2_1,relu2_2,relu3_1,relu3_2,relu3_3,relu3_4,relu4_1,relu4_2,relu4_3,relu4_4,relu5_1,relu5_2,relu5_3,relu5_4'\n",
    "\n",
    "\n",
    "-------------------------------------------------------------------------------------\n",
    "\n",
    "\n",
    "-- Returns a network that computes the CxC Gram matrix from inputs\n",
    "-- of size C x H x W – jcjohnson's version\n",
    "function GramMatrix()\n",
    "    local net = nn.Sequential()\n",
    "    net:add(nn.View(-1):setNumInputDims(2))\n",
    "    local concat = nn.ConcatTable()\n",
    "    concat:add(nn.Identity())\n",
    "    concat:add(nn.Identity())\n",
    "    net:add(concat)\n",
    "    net:add(nn.MM(false, true))\n",
    "    return net\n",
    "end\n",
    "\n",
    "\n",
    "-- utility function to reshape a tensor from M x N x ... to an MxN array\n",
    "function flatten(t)\n",
    "    return torch.view(t, -1)\n",
    "end\n",
    "\n",
    "-- a function to do memory optimizations by \n",
    "-- setting up double-buffering across the network.\n",
    "-- this drastically reduces the memory needed to generate samples.\n",
    "-- from soumith/dcgan.torch\n",
    "function optimizeInferenceMemory(net)\n",
    "    local finput, output, outputB\n",
    "    net:apply(\n",
    "        function(m)\n",
    "            if torch.type(m):find('Convolution') then\n",
    "                finput = finput or m.finput\n",
    "                m.finput = finput\n",
    "                output = output or m.output\n",
    "                m.output = output\n",
    "            elseif torch.type(m):find('ReLU') then\n",
    "                m.inplace = true\n",
    "            elseif torch.type(m):find('BatchNormalization') then\n",
    "                outputB = outputB or m.output\n",
    "                m.output = outputB\n",
    "            end\n",
    "    end)\n",
    "end\n",
    "\n",
    "\n",
    "function Style2Vec(cnn, gram, img)\n",
    "    --[[ runs img through cnn, saving the output tensor at each of style_layers\n",
    "\n",
    "    -- FOR NOW, only returns relu4_1\n",
    "\n",
    "    relu1_1 : FloatTensor - size: 64x64\n",
    "    relu1_2 : FloatTensor - size: 64x64\n",
    "    relu2_1 : FloatTensor - size: 128x128\n",
    "    relu2_2 : FloatTensor - size: 128x128\n",
    "    relu3_1 : FloatTensor - size: 256x256\n",
    "    relu3_2 : FloatTensor - size: 256x256\n",
    "    relu3_3 : FloatTensor - size: 256x256\n",
    "    relu3_4 : FloatTensor - size: 256x256\n",
    "    relu4_1 : FloatTensor - size: 512x512\n",
    "    relu4_2 : FloatTensor - size: 512x512\n",
    "    relu4_3 : FloatTensor - size: 512x512\n",
    "    relu4_4 : FloatTensor - size: 512x512\n",
    "    relu5_1 : FloatTensor - size: 512x512\n",
    "    relu5_2 : FloatTensor - size: 512x512\n",
    "    relu5_3 : FloatTensor - size: 512x512\n",
    "    relu5_4 : FloatTensor - size: 512x512\n",
    "    \n",
    "    Returns a Lua table with the above key-value pairs. \n",
    "\n",
    "    \n",
    "    --]]\n",
    "    \n",
    "    local next_style_idx = 1\n",
    "    local net = nn.Sequential()\n",
    "    local style_layers = params.style_layers:split(',')\n",
    "    \n",
    "    local style_vector = nil \n",
    "\n",
    "    -- THIS GUY THIS GUY THIS GUY THIS GUY\n",
    "    -- nn.JoinTable(1):forward{x, y, x}:float()\n",
    "\n",
    "    -- Build up net from cnn\n",
    "    \n",
    "    for i = 1, #cnn do\n",
    "\n",
    "        if next_style_idx <= #style_layers then\n",
    "            local layer = cnn:get(i)\n",
    "            local layer_name = layer.name\n",
    "\n",
    "            if params.gpu >= 0 then layer = layer:cuda() end\n",
    "\n",
    "            net:add(layer)\n",
    "            \n",
    "            -- now to grab style layers\n",
    "            \n",
    "            if (layer_name == style_layers[next_style_idx]) then\n",
    "                local target_features = net:forward(img)\n",
    "                local target_i = gram:forward(target_features)\n",
    "                target_i:div(target_features:nElement())\n",
    "                \n",
    "                -- add the current gram matrix (flattened) to style_vector\n",
    "                local curr = flatten(target_i):float()\n",
    "                if style_vector == nil then\n",
    "                    style_vector = curr\n",
    "                else\n",
    "                    style_vector = nn.JoinTable(1):forward({style_vector, curr}):float()\n",
    "                end\n",
    "\n",
    "                next_style_idx = next_style_idx + 1     \n",
    "            end\n",
    "        end\n",
    "    end\n",
    "\n",
    "    collectgarbage(); collectgarbage()\n",
    "    return style_vector\n",
    "end\n",
    "\n",
    "\n",
    "function save_json(filename, file)        \n",
    "    local json_string = cjson.encode(file)\n",
    "    torch.save(params.tmp_dir .. filename .. '.json', json_string, 'ascii')\n",
    "\n",
    "    return true\n",
    "end\n",
    "\n",
    "\n",
    "function load(label) -- load and preprocess image\n",
    "\n",
    "    -- Preprocess an image before passing it to a Caffe model.\n",
    "    -- We need to rescale from [0, 1] to [0, 255], convert from RGB to BGR,\n",
    "    -- and subtract the mean pixel. [jcjohnson]\n",
    "    function preprocess(img)\n",
    "      local mean_pixel = torch.DoubleTensor({103.939, 116.779, 123.68})\n",
    "      local perm = torch.LongTensor{3, 2, 1}\n",
    "      local img = img:index(1, perm):mul(256.0)\n",
    "      mean_pixel = mean_pixel:view(3, 1, 1):expandAs(img)\n",
    "      img:add(-1, mean_pixel)\n",
    "      if params.gpu >= 0 then img = img:cuda() end\n",
    "      return img\n",
    "    end\n",
    "\n",
    "    -- load our image\n",
    "    local ok, img = pcall(image.load, params.style_dir .. label .. '.jpg')\n",
    "    if not ok then \n",
    "        print('error loading image')\n",
    "        return nil\n",
    "    end\n",
    "\n",
    "    if img:size()[1] ~= 3 then\n",
    "        print('Not enough dimensions on this one')\n",
    "        return nil\n",
    "    end\n",
    "\n",
    "    -- save thumbnail\n",
    "    assert(save_thumb(img, label))\n",
    "\n",
    "    -- preprocess for return\n",
    "    img = image.scale(img, params.img_size, 'bilinear')\n",
    "    img = preprocess(img):float()\n",
    "\n",
    "    return img\n",
    "end\n",
    "\n",
    "\n",
    "function save_thumb(img, label)\n",
    "    local thumbs = params.tmp_dir .. 'thumbs/'\n",
    "    if paths.dir(thumbs) == nil then paths.mkdir(thumbs) end\n",
    "\n",
    "    local thumb = image.scale(img, params.thumb_size, 'bilinear')\n",
    "    image.save(thumbs .. label .. '.jpg', thumb)\n",
    "    return true\n",
    "end\n",
    "\n",
    "\n",
    "-----------------------------------------------------------------------------------\n"
   ]
  },
  {
   "cell_type": "code",
   "execution_count": 2,
   "metadata": {
    "collapsed": true
   },
   "outputs": [
    {
     "data": {
      "text/plain": [
       "1\tPicasso_blue\t\n",
       "2\tPicasso_blue1\t\n",
       "3\tPicasso_blue10\t\n",
       "4\tPicasso_blue3\t\n",
       "5\tPicasso_blue5\t\n",
       "6\tPicasso_blue6\t\n",
       "7\tPicasso_blue7\t\n",
       "8\tPicasso_blue8\t\n",
       "9\tPicasso_blue9\t\n",
       "10\tPicasso_cube0\t\n",
       "11\tPicasso_cube1\t\n",
       "12\tPicasso_cube10\t\n",
       "13\tPicasso_cube11\t\n",
       "14\tPicasso_cube2\t\n",
       "15\tPicasso_cube3\t\n",
       "16\tPicasso_cube4\t\n",
       "17\tPicasso_cube5\t\n",
       "18\tPicasso_cube6\t\n",
       "19\tPicasso_cube7\t\n",
       "20\tPicasso_cube8\t\n",
       "21\tPicasso_cube9\t\n",
       "22\tPicasso_express0\t\n",
       "23\tPicasso_express1\t\n",
       "24\tPicasso_express2\t\n",
       "25\tPicasso_express3\t\n",
       "26\tPicasso_express4\t\n",
       "27\tPicasso_express6\t\n",
       "28\tPicasso_express7\t\n",
       "29\tPicasso_express8\t\n",
       "30\tPicasso_express9\t\n",
       "31\tPicasso_neo0\t\n",
       "32\tPicasso_neo1\t\n",
       "33\tPicasso_neo10\t\n",
       "34\tPicasso_neo2\t\n",
       "35\tPicasso_neo3\t\n",
       "36\tPicasso_neo4\t\n",
       "37\tPicasso_neo5\t\n",
       "38\tPicasso_neo6\t\n",
       "39\tPicasso_neo7\t\n",
       "40\tPicasso_neo8\t\n",
       "41\tPicasso_neo9\t\n",
       "42\tPicasso_rose0\t\n",
       "43\tPicasso_rose1\t\n",
       "44\tPicasso_rose10\t\n",
       "45\tPicasso_rose2\t\n",
       "46\tPicasso_rose3\t\n",
       "47\tPicasso_rose4\t\n",
       "48\tPicasso_rose5\t\n",
       "49\tPicasso_rose6\t\n",
       "50\tPicasso_rose8\t\n",
       "51\tPicasso_rose9\t\n",
       "52\tPicasso_surreal0\t\n",
       "53\tPicasso_surreal1\t\n",
       "54\tPicasso_surreal10\t\n",
       "55\tPicasso_surreal2\t\n",
       "56\tPicasso_surreal3\t\n"
      ]
     },
     "execution_count": 2,
     "metadata": {},
     "output_type": "execute_result"
    },
    {
     "data": {
      "text/plain": [
       "57\tPicasso_surreal4\t\n",
       "58\tPicasso_surreal5\t\n",
       "59\tPicasso_surreal6\t\n",
       "60\tPicasso_surreal7\t\n",
       "61\tPicasso_surreal8\t\n",
       "62\tPicasso_surreal9\t\n"
      ]
     },
     "execution_count": 2,
     "metadata": {},
     "output_type": "execute_result"
    },
    {
     "data": {
      "text/plain": [
       "1567.2958984375\t\n"
      ]
     },
     "execution_count": 2,
     "metadata": {},
     "output_type": "execute_result"
    },
    {
     "data": {
      "text/plain": [
       "Successfully loaded models/VGG_ILSVRC_19_layers.caffemodel\n"
      ]
     },
     "execution_count": 2,
     "metadata": {},
     "output_type": "execute_result"
    },
    {
     "data": {
      "text/plain": [
       "conv1_1: 64 3 3 3\n"
      ]
     },
     "execution_count": 2,
     "metadata": {},
     "output_type": "execute_result"
    },
    {
     "data": {
      "text/plain": [
       "conv1_2: 64 64 3 3\n",
       "conv2_1: 128 64 3 3\n",
       "conv2_2: 128 128 3 3\n"
      ]
     },
     "execution_count": 2,
     "metadata": {},
     "output_type": "execute_result"
    },
    {
     "data": {
      "text/plain": [
       "conv3_1: 256 128 3 3\n"
      ]
     },
     "execution_count": 2,
     "metadata": {},
     "output_type": "execute_result"
    },
    {
     "data": {
      "text/plain": [
       "conv3_2: 256 256 3 3\n"
      ]
     },
     "execution_count": 2,
     "metadata": {},
     "output_type": "execute_result"
    },
    {
     "data": {
      "text/plain": [
       "conv3_3: 256 256 3 3\n"
      ]
     },
     "execution_count": 2,
     "metadata": {},
     "output_type": "execute_result"
    },
    {
     "data": {
      "text/plain": [
       "conv3_4: 256 256 3 3\n"
      ]
     },
     "execution_count": 2,
     "metadata": {},
     "output_type": "execute_result"
    },
    {
     "data": {
      "text/plain": [
       "conv4_1: 512 256 3 3\n"
      ]
     },
     "execution_count": 2,
     "metadata": {},
     "output_type": "execute_result"
    },
    {
     "data": {
      "text/plain": [
       "conv4_2: 512 512 3 3\n"
      ]
     },
     "execution_count": 2,
     "metadata": {},
     "output_type": "execute_result"
    },
    {
     "data": {
      "text/plain": [
       "conv4_3: 512 512 3 3\n"
      ]
     },
     "execution_count": 2,
     "metadata": {},
     "output_type": "execute_result"
    },
    {
     "data": {
      "text/plain": [
       "conv4_4: 512 512 3 3\n"
      ]
     },
     "execution_count": 2,
     "metadata": {},
     "output_type": "execute_result"
    },
    {
     "data": {
      "text/plain": [
       "conv5_1: 512 512 3 3\n"
      ]
     },
     "execution_count": 2,
     "metadata": {},
     "output_type": "execute_result"
    },
    {
     "data": {
      "text/plain": [
       "conv5_2: 512 512 3 3\n"
      ]
     },
     "execution_count": 2,
     "metadata": {},
     "output_type": "execute_result"
    },
    {
     "data": {
      "text/plain": [
       "conv5_3: 512 512 3 3\n"
      ]
     },
     "execution_count": 2,
     "metadata": {},
     "output_type": "execute_result"
    },
    {
     "data": {
      "text/plain": [
       "conv5_4: 512 512 3 3\n"
      ]
     },
     "execution_count": 2,
     "metadata": {},
     "output_type": "execute_result"
    },
    {
     "data": {
      "text/plain": [
       "fc6: 1 1 25088 4096\n"
      ]
     },
     "execution_count": 2,
     "metadata": {},
     "output_type": "execute_result"
    },
    {
     "data": {
      "text/plain": [
       "fc7: 1 1 4096 4096\n"
      ]
     },
     "execution_count": 2,
     "metadata": {},
     "output_type": "execute_result"
    },
    {
     "data": {
      "text/plain": [
       "fc8: 1 1 4096 1000\n"
      ]
     },
     "execution_count": 2,
     "metadata": {},
     "output_type": "execute_result"
    },
    {
     "data": {
      "text/plain": [
       "1620.2900390625\t\n"
      ]
     },
     "execution_count": 2,
     "metadata": {},
     "output_type": "execute_result"
    }
   ],
   "source": [
    "\n",
    "-----------------------------------------------------------------------------------\n",
    "\n",
    "arg = {}\n",
    "params = cmd:parse(arg)\n",
    "params.style_dir = 'data/picasso/'\n",
    "if paths.dir(params.tmp_dir) == nil then paths.mkdir(params.tmp_dir) end\n",
    "\n",
    "\n",
    "-- gpu\n",
    "\n",
    "if params.gpu >= 0 then\n",
    "    require 'cutorch'\n",
    "    require 'cunn'\n",
    "    cutorch.setDevice(params.gpu + 1)\n",
    "else\n",
    "    params.backend = 'nn-cpu'\n",
    "end\n",
    "\n",
    "\n",
    "-- get sorted\n",
    "sorted = {}\n",
    "\n",
    "for f in paths.iterfiles(params.style_dir) do    \n",
    "    if string.match(f, '.jpg') then\n",
    "        label = string.split(f, '.jpg')[1]\n",
    "        table.insert(sorted, label)\n",
    "    end\n",
    "end\n",
    "\n",
    "table.sort(sorted)\n",
    "for i,n in ipairs(sorted) do print(i, n) end\n",
    "\n",
    "collectgarbage(); collectgarbage()\n",
    "print(collectgarbage('count'))\n",
    "\n",
    "\n",
    "-- load caffe network image\n",
    "\n",
    "cnn = loadcaffe_wrap.load(params.proto_file, params.model_file, params.backend):float()\n",
    "gram = GramMatrix():float()\n",
    "if params.gpu >= 0 then \n",
    "    cnn = cnn:cuda()\n",
    "    gram = gram:cuda() \n",
    "end\n",
    "optimizeInferenceMemory(cnn)\n",
    "\n",
    "collectgarbage(); collectgarbage()\n",
    "print(collectgarbage('count'))"
   ]
  },
  {
   "cell_type": "code",
   "execution_count": 3,
   "metadata": {
    "collapsed": false,
    "scrolled": true
   },
   "outputs": [
    {
     "data": {
      "text/plain": [
       "1 Picasso_blue:\t"
      ]
     },
     "execution_count": 3,
     "metadata": {},
     "output_type": "execute_result"
    },
    {
     "data": {
      "text/plain": [
       " Done!\n",
       "1629.01953125\t\n",
       "2 Picasso_blue1:\t"
      ]
     },
     "execution_count": 3,
     "metadata": {},
     "output_type": "execute_result"
    },
    {
     "data": {
      "text/plain": [
       " Done!\n",
       "1632.17578125\t\n",
       "3 Picasso_blue10:\t"
      ]
     },
     "execution_count": 3,
     "metadata": {},
     "output_type": "execute_result"
    },
    {
     "data": {
      "text/plain": [
       " Done!\n",
       "1636.86328125\t\n",
       "4 Picasso_blue3:\t"
      ]
     },
     "execution_count": 3,
     "metadata": {},
     "output_type": "execute_result"
    },
    {
     "data": {
      "text/plain": [
       " Done!\n",
       "1640.755859375\t\n",
       "5 Picasso_blue5:\t"
      ]
     },
     "execution_count": 3,
     "metadata": {},
     "output_type": "execute_result"
    },
    {
     "data": {
      "text/plain": [
       " Done!\n",
       "1642.869140625\t\n",
       "6 Picasso_blue6:\t"
      ]
     },
     "execution_count": 3,
     "metadata": {},
     "output_type": "execute_result"
    },
    {
     "data": {
      "text/plain": [
       " Done!\n",
       "1644.248046875\t\n",
       "7 Picasso_blue7:\t"
      ]
     },
     "execution_count": 3,
     "metadata": {},
     "output_type": "execute_result"
    },
    {
     "data": {
      "text/plain": [
       " Done!\n",
       "1644.404296875\t\n",
       "8 Picasso_blue8:\t"
      ]
     },
     "execution_count": 3,
     "metadata": {},
     "output_type": "execute_result"
    },
    {
     "data": {
      "text/plain": [
       " Done!\n",
       "1645.052734375\t\n",
       "9 Picasso_blue9:\t"
      ]
     },
     "execution_count": 3,
     "metadata": {},
     "output_type": "execute_result"
    },
    {
     "data": {
      "text/plain": [
       " Done!\n",
       "1645.740234375\t\n",
       "10 Picasso_cube0:\t"
      ]
     },
     "execution_count": 3,
     "metadata": {},
     "output_type": "execute_result"
    },
    {
     "data": {
      "text/plain": [
       " Done!\n",
       "1647.470703125\t\n",
       "11 Picasso_cube1:\t"
      ]
     },
     "execution_count": 3,
     "metadata": {},
     "output_type": "execute_result"
    },
    {
     "data": {
      "text/plain": [
       " Done!\n"
      ]
     },
     "execution_count": 3,
     "metadata": {},
     "output_type": "execute_result"
    },
    {
     "data": {
      "text/plain": [
       "1649.451171875\t\n",
       "12 Picasso_cube10:\t"
      ]
     },
     "execution_count": 3,
     "metadata": {},
     "output_type": "execute_result"
    },
    {
     "data": {
      "text/plain": [
       " Done!\n",
       "1650.619140625\t\n",
       "13 Picasso_cube11:\t"
      ]
     },
     "execution_count": 3,
     "metadata": {},
     "output_type": "execute_result"
    },
    {
     "data": {
      "text/plain": [
       " Done!\n",
       "1651.677734375\t\n",
       "14 Picasso_cube2:\t"
      ]
     },
     "execution_count": 3,
     "metadata": {},
     "output_type": "execute_result"
    },
    {
     "data": {
      "text/plain": [
       " Done!\n",
       "1653.251953125\t\n",
       "15 Picasso_cube3:\t"
      ]
     },
     "execution_count": 3,
     "metadata": {},
     "output_type": "execute_result"
    },
    {
     "data": {
      "text/plain": [
       " Done!\n",
       "1654.119140625\t\n",
       "16 Picasso_cube4:\t"
      ]
     },
     "execution_count": 3,
     "metadata": {},
     "output_type": "execute_result"
    },
    {
     "data": {
      "text/plain": [
       " Done!\n",
       "1654.119140625\t\n",
       "17 Picasso_cube5:\t Done!\n",
       "1654.791015625\t\n",
       "18 Picasso_cube6:\t"
      ]
     },
     "execution_count": 3,
     "metadata": {},
     "output_type": "execute_result"
    },
    {
     "data": {
      "text/plain": [
       " Done!\n",
       "1654.791015625\t\n",
       "19 Picasso_cube7:\t"
      ]
     },
     "execution_count": 3,
     "metadata": {},
     "output_type": "execute_result"
    },
    {
     "data": {
      "text/plain": [
       " Done!\n",
       "1654.791015625\t\n",
       "20 Picasso_cube8:\t Done!\n",
       "1654.791015625\t\n",
       "21 Picasso_cube9:\t"
      ]
     },
     "execution_count": 3,
     "metadata": {},
     "output_type": "execute_result"
    },
    {
     "data": {
      "text/plain": [
       " Done!\n",
       "1654.791015625\t\n",
       "22 Picasso_express0:\t"
      ]
     },
     "execution_count": 3,
     "metadata": {},
     "output_type": "execute_result"
    },
    {
     "data": {
      "text/plain": [
       " Done!\n",
       "1654.791015625\t\n",
       "23 Picasso_express1:\terror loading image\t\n",
       "error loading image\t\n",
       "1654.759765625\t\n",
       "23 Picasso_express2:\t"
      ]
     },
     "execution_count": 3,
     "metadata": {},
     "output_type": "execute_result"
    },
    {
     "data": {
      "text/plain": [
       " Done!\n",
       "1654.791015625\t\n",
       "24 Picasso_express3:\t Done!\n",
       "1655.220703125\t\n",
       "25 Picasso_express4:\t"
      ]
     },
     "execution_count": 3,
     "metadata": {},
     "output_type": "execute_result"
    },
    {
     "data": {
      "text/plain": [
       " Done!\n"
      ]
     },
     "execution_count": 3,
     "metadata": {},
     "output_type": "execute_result"
    },
    {
     "data": {
      "text/plain": [
       "1655.560546875\t\n",
       "26 Picasso_express6:\t"
      ]
     },
     "execution_count": 3,
     "metadata": {},
     "output_type": "execute_result"
    },
    {
     "data": {
      "text/plain": [
       " Done!\n",
       "1656.169921875\t\n",
       "27 Picasso_express7:\t"
      ]
     },
     "execution_count": 3,
     "metadata": {},
     "output_type": "execute_result"
    },
    {
     "data": {
      "text/plain": [
       " Done!\n",
       "1656.169921875\t\n",
       "28 Picasso_express8:\t Done!\n",
       "1656.169921875\t\n",
       "29 Picasso_express9:\t"
      ]
     },
     "execution_count": 3,
     "metadata": {},
     "output_type": "execute_result"
    },
    {
     "data": {
      "text/plain": [
       " Done!\n",
       "1656.662109375\t\n",
       "30 Picasso_neo0:\t"
      ]
     },
     "execution_count": 3,
     "metadata": {},
     "output_type": "execute_result"
    },
    {
     "data": {
      "text/plain": [
       " Done!\n",
       "1656.662109375\t\n",
       "31 Picasso_neo1:\t Done!\n",
       "1656.662109375\t\n",
       "32 Picasso_neo10:\t"
      ]
     },
     "execution_count": 3,
     "metadata": {},
     "output_type": "execute_result"
    },
    {
     "data": {
      "text/plain": [
       " Done!\n",
       "1657.048828125\t\n",
       "33 Picasso_neo2:\t"
      ]
     },
     "execution_count": 3,
     "metadata": {},
     "output_type": "execute_result"
    },
    {
     "data": {
      "text/plain": [
       " Done!\n"
      ]
     },
     "execution_count": 3,
     "metadata": {},
     "output_type": "execute_result"
    },
    {
     "data": {
      "text/plain": [
       "1657.298828125\t\n",
       "34 Picasso_neo3:\t"
      ]
     },
     "execution_count": 3,
     "metadata": {},
     "output_type": "execute_result"
    },
    {
     "data": {
      "text/plain": [
       " Done!\n",
       "1657.298828125\t\n",
       "35 Picasso_neo4:\t"
      ]
     },
     "execution_count": 3,
     "metadata": {},
     "output_type": "execute_result"
    },
    {
     "data": {
      "text/plain": [
       " Done!\n"
      ]
     },
     "execution_count": 3,
     "metadata": {},
     "output_type": "execute_result"
    },
    {
     "data": {
      "text/plain": [
       "1657.298828125\t\n",
       "36 Picasso_neo5:\t"
      ]
     },
     "execution_count": 3,
     "metadata": {},
     "output_type": "execute_result"
    },
    {
     "data": {
      "text/plain": [
       " Done!\n",
       "1657.298828125\t\n",
       "37 Picasso_neo6:\t"
      ]
     },
     "execution_count": 3,
     "metadata": {},
     "output_type": "execute_result"
    },
    {
     "data": {
      "text/plain": [
       " Done!\n",
       "1657.298828125\t\n",
       "38 Picasso_neo7:\t"
      ]
     },
     "execution_count": 3,
     "metadata": {},
     "output_type": "execute_result"
    },
    {
     "data": {
      "text/plain": [
       " Done!\n",
       "1657.298828125\t\n",
       "39 Picasso_neo8:\t Done!\n",
       "1657.298828125\t\n",
       "40 Picasso_neo9:\t"
      ]
     },
     "execution_count": 3,
     "metadata": {},
     "output_type": "execute_result"
    },
    {
     "data": {
      "text/plain": [
       " Done!\n",
       "1657.298828125\t\n",
       "41 Picasso_rose0:\t"
      ]
     },
     "execution_count": 3,
     "metadata": {},
     "output_type": "execute_result"
    },
    {
     "data": {
      "text/plain": [
       " Done!\n",
       "1657.298828125\t\n",
       "42 Picasso_rose1:\t"
      ]
     },
     "execution_count": 3,
     "metadata": {},
     "output_type": "execute_result"
    },
    {
     "data": {
      "text/plain": [
       " Done!\n",
       "1657.298828125\t\n",
       "43 Picasso_rose10:\t"
      ]
     },
     "execution_count": 3,
     "metadata": {},
     "output_type": "execute_result"
    },
    {
     "data": {
      "text/plain": [
       " Done!\n",
       "1657.298828125\t\n",
       "44 Picasso_rose2:\t Done!\n",
       "1657.298828125\t\n",
       "45 Picasso_rose3:\t"
      ]
     },
     "execution_count": 3,
     "metadata": {},
     "output_type": "execute_result"
    },
    {
     "data": {
      "text/plain": [
       " Done!\n",
       "1657.298828125\t\n",
       "46 Picasso_rose4:\t"
      ]
     },
     "execution_count": 3,
     "metadata": {},
     "output_type": "execute_result"
    },
    {
     "data": {
      "text/plain": [
       " Done!\n",
       "1657.298828125\t\n",
       "47 Picasso_rose5:\t Done!\n",
       "1657.646484375\t\n",
       "48 Picasso_rose6:\t"
      ]
     },
     "execution_count": 3,
     "metadata": {},
     "output_type": "execute_result"
    },
    {
     "data": {
      "text/plain": [
       " Done!\n",
       "1657.646484375\t\n",
       "49 Picasso_rose8:\t"
      ]
     },
     "execution_count": 3,
     "metadata": {},
     "output_type": "execute_result"
    },
    {
     "data": {
      "text/plain": [
       " Done!\n",
       "1657.646484375\t\n",
       "50 Picasso_rose9:\t"
      ]
     },
     "execution_count": 3,
     "metadata": {},
     "output_type": "execute_result"
    },
    {
     "data": {
      "text/plain": [
       " Done!\n",
       "1657.646484375\t\n",
       "51 Picasso_surreal0:\t Done!\n",
       "1657.646484375\t\n",
       "52 Picasso_surreal1:\t"
      ]
     },
     "execution_count": 3,
     "metadata": {},
     "output_type": "execute_result"
    },
    {
     "data": {
      "text/plain": [
       " Done!\n",
       "1657.646484375\t\n",
       "53 Picasso_surreal10:\t"
      ]
     },
     "execution_count": 3,
     "metadata": {},
     "output_type": "execute_result"
    },
    {
     "data": {
      "text/plain": [
       " Done!\n",
       "1657.646484375\t\n",
       "54 Picasso_surreal2:\t Done!\n",
       "1657.646484375\t\n",
       "55 Picasso_surreal3:\t"
      ]
     },
     "execution_count": 3,
     "metadata": {},
     "output_type": "execute_result"
    },
    {
     "data": {
      "text/plain": [
       " Done!\n",
       "1657.646484375\t\n",
       "56 Picasso_surreal4:\t"
      ]
     },
     "execution_count": 3,
     "metadata": {},
     "output_type": "execute_result"
    },
    {
     "data": {
      "text/plain": [
       " Done!\n",
       "1657.646484375\t\n",
       "57 Picasso_surreal5:\t Done!\n",
       "1657.646484375\t\n",
       "58 Picasso_surreal6:\t"
      ]
     },
     "execution_count": 3,
     "metadata": {},
     "output_type": "execute_result"
    },
    {
     "data": {
      "text/plain": [
       " Done!\n",
       "1657.646484375\t\n",
       "59 Picasso_surreal7:\t"
      ]
     },
     "execution_count": 3,
     "metadata": {},
     "output_type": "execute_result"
    },
    {
     "data": {
      "text/plain": [
       " Done!\n",
       "1657.646484375\t\n",
       "60 Picasso_surreal8:\t"
      ]
     },
     "execution_count": 3,
     "metadata": {},
     "output_type": "execute_result"
    },
    {
     "data": {
      "text/plain": [
       " Done!\n",
       "1657.646484375\t\n"
      ]
     },
     "execution_count": 3,
     "metadata": {},
     "output_type": "execute_result"
    }
   ],
   "source": [
    "\n",
    "-- Run Style2Vec on image by image\n",
    "\n",
    "ct = 1\n",
    "i = params.start_at\n",
    "\n",
    "vecs = nil\n",
    "out = {}\n",
    "\n",
    "while (i < #sorted) do\n",
    "    label = sorted[i]\n",
    "\n",
    "    io.write(ct .. ' ' .. label .. ':\\t')        --      .. params.style_layers .. ' ...' \n",
    "    \n",
    "    local image = load(label)\n",
    "\n",
    "    if image == nil then\n",
    "        print('error loading image')\n",
    "    else\n",
    "        -- let's do it\n",
    "        local vec = Style2Vec(cnn, gram, image)\n",
    "\n",
    "        if vecs == nil then\n",
    "            vecs = vec \n",
    "        else\n",
    "            vecs = nn.JoinTable(1):forward({vecs, vec}):float()\n",
    "        end\n",
    "\n",
    "        out[ct] = label\n",
    "        \n",
    "        ct = ct + 1\n",
    "\n",
    "        io.write(' Done!\\n')\n",
    "    end\n",
    "\n",
    "    i = i + 1\n",
    "    \n",
    "    if ct > params.iter then break end\n",
    "    collectgarbage(); collectgarbage()\n",
    "    print(collectgarbage('count'))\n",
    "end"
   ]
  },
  {
   "cell_type": "code",
   "execution_count": 4,
   "metadata": {
    "collapsed": false
   },
   "outputs": [
    {
     "data": {
      "text/plain": [
       "\n",
       " 36618240\n",
       "[torch.LongStorage of size 1]\n",
       "\n",
       "61\t\n",
       "0\t\n"
      ]
     },
     "execution_count": 4,
     "metadata": {},
     "output_type": "execute_result"
    }
   ],
   "source": [
    "print(#vecs)\n",
    "print(ct)\n",
    "print(vecs:size()[1] % (ct - 1))"
   ]
  },
  {
   "cell_type": "code",
   "execution_count": null,
   "metadata": {
    "collapsed": false
   },
   "outputs": [],
   "source": [
    "local new = vecs:view(ct-1, -1):float()\n",
    "params.name = 'p_'\n",
    "assert(save_json(params.name .. 'vecs', new:totable()))\n",
    "assert(save_json(params.name .. 'labels', out))"
   ]
  },
  {
   "cell_type": "code",
   "execution_count": null,
   "metadata": {
    "collapsed": true
   },
   "outputs": [],
   "source": []
  }
 ],
 "metadata": {
  "kernelspec": {
   "display_name": "iTorch",
   "language": "lua",
   "name": "itorch"
  },
  "language_info": {
   "name": "lua",
   "version": "20100"
  }
 },
 "nbformat": 4,
 "nbformat_minor": 0
}
