{
 "cells": [
  {
   "cell_type": "code",
   "execution_count": 1,
   "metadata": {
    "collapsed": true
   },
   "outputs": [],
   "source": [
    "require 'torch'\n",
    "require 'nn'\n",
    "require 'image'\n",
    "require 'optim'"
   ]
  },
  {
   "cell_type": "code",
   "execution_count": 2,
   "metadata": {
    "collapsed": true
   },
   "outputs": [],
   "source": [
    "loadcaffe_wrap = require 'loadcaffe_wrapper'\n",
    "-- cjson = require 'cjson'\n",
    "json = require 'json'\n",
    "string = require 'string'\n",
    "m = require 'manifold'"
   ]
  },
  {
   "cell_type": "code",
   "execution_count": 3,
   "metadata": {
    "collapsed": true
   },
   "outputs": [],
   "source": [
    "\n",
    "cmd = torch.CmdLine()\n",
    "\n",
    "-- Hacking torch\n",
    "cmd:option('-start_at', 1, 'index to start at – worst hack I\\'ve ever written')\n",
    "cmd:option('-iter', 100, 'how many images to run over – please don\\'t segfault')\n",
    "cmd:option('-img_size', 512, 'all images will be resized to this max dimension' )\n",
    "cmd:option('-name', '', 'name to attach to output')\n",
    "cmd:option('-thumb_size', 100, 'thumbnail size')\n",
    "\n",
    "\n",
    "-- Basic options\n",
    "cmd:option('-style_dir', 'data/picasso_cubism/', 'Style input directory')\n",
    "cmd:option('-tmp_dir', 'tmp/', 'Directory to store vectors on disk')\n",
    "cmd:option('-gpu', -1, 'Zero-indexed ID of the GPU to use; for CPU mode set -gpu = -1')\n",
    "\n",
    "-- Other options\n",
    "cmd:option('-pooling', 'max', 'max|avg')\n",
    "cmd:option('-proto_file', 'models/VGG_ILSVRC_19_layers_deploy.prototxt')\n",
    "cmd:option('-model_file', 'models/VGG_ILSVRC_19_layers.caffemodel')\n",
    "\n",
    "cmd:option('-content_layers', 'relu4_2', 'layers for content')\n",
    "cmd:option('-style_layers', 'relu1_1,relu2_1,relu3_1,relu4_1,relu5_1', 'layers for style') -- tbh all but relu6 and relu7, which cause size mismatches\n",
    "                            -- 'relu1_1,relu2_1,relu3_1,relu4_1,relu5_1'\n",
    "                            -- 'relu1_1,relu1_2,relu2_1,relu2_2,relu3_1,relu3_2,relu3_3,relu3_4,relu4_1,relu4_2,relu4_3,relu4_4,relu5_1,relu5_2,relu5_3,relu5_4'\n"
   ]
  },
  {
   "cell_type": "code",
   "execution_count": 5,
   "metadata": {
    "collapsed": true
   },
   "outputs": [],
   "source": [
    "function cached(label) -- check if a cached version of vec exists\n",
    "    local filename = params.tmp_dir .. 'cache/' .. label .. '.cache'\n",
    "    local f = io.open(filename,\"r\")\n",
    "    if f ~= nil then\n",
    "        io.close(f)\n",
    "        return true\n",
    "    else\n",
    "        return false\n",
    "    end\n",
    "end\n",
    "\n",
    "function load_cache(label)\n",
    "    print(\"loading  from cache...\")\n",
    "    local filename = params.tmp_dir .. 'cache/' .. label .. '.cache'\n",
    "    local f = torch.load(filename)\n",
    "    return f\n",
    "end\n",
    "\n",
    "function cache(file, label)\n",
    "    if paths.dir(params.tmp_dir .. 'cache/') == nil then paths.mkdir(params.tmp_dir .. 'cache/') end\n",
    "\n",
    "    local filename = params.tmp_dir .. 'cache/' .. label .. '.cache'\n",
    "    local f = torch.save(filename, file)\n",
    "    print(string.format(\"cached  %s\", label))\n",
    "    return true\n",
    "end"
   ]
  },
  {
   "cell_type": "code",
   "execution_count": 4,
   "metadata": {
    "collapsed": true
   },
   "outputs": [],
   "source": [
    "\n",
    "-------------------------------------------------------------------------------------\n",
    "\n",
    "\n",
    "-- Returns a network that computes the CxC Gram matrix from inputs\n",
    "-- of size C x H x W – jcjohnson's version\n",
    "function GramMatrix()\n",
    "    local net = nn.Sequential()\n",
    "    net:add(nn.View(-1):setNumInputDims(2))\n",
    "    local concat = nn.ConcatTable()\n",
    "    concat:add(nn.Identity())\n",
    "    concat:add(nn.Identity())\n",
    "    net:add(concat)\n",
    "    net:add(nn.MM(false, true))\n",
    "    return net\n",
    "end\n",
    "\n",
    "\n",
    "-- utility function to reshape a tensor from M x N x ... to an MxN array\n",
    "function flatten(t)\n",
    "    return torch.view(t, -1)\n",
    "end\n",
    "\n",
    "-- a function to do memory optimizations by \n",
    "-- setting up double-buffering across the network.\n",
    "-- this drastically reduces the memory needed to generate samples.\n",
    "-- from soumith/dcgan.torch\n",
    "function optimizeInferenceMemory(net)\n",
    "    local finput, output, outputB\n",
    "    net:apply(\n",
    "        function(m)\n",
    "            if torch.type(m):find('Convolution') then\n",
    "                finput = finput or m.finput\n",
    "                m.finput = finput\n",
    "                output = output or m.output\n",
    "                m.output = output\n",
    "            elseif torch.type(m):find('ReLU') then\n",
    "                m.inplace = true\n",
    "            elseif torch.type(m):find('BatchNormalization') then\n",
    "                outputB = outputB or m.output\n",
    "                m.output = outputB\n",
    "            end\n",
    "    end)\n",
    "end\n",
    "\n",
    "\n",
    "function Style2Vec(cnn, gram, img)\n",
    "    --[[ runs img through cnn, saving the output tensor at each of style_layers\n",
    "\n",
    "    -- FOR NOW, only returns relu4_1\n",
    "\n",
    "    relu1_1 : FloatTensor - size: 64x64\n",
    "    relu1_2 : FloatTensor - size: 64x64\n",
    "    relu2_1 : FloatTensor - size: 128x128\n",
    "    relu2_2 : FloatTensor - size: 128x128\n",
    "    relu3_1 : FloatTensor - size: 256x256\n",
    "    relu3_2 : FloatTensor - size: 256x256\n",
    "    relu3_3 : FloatTensor - size: 256x256\n",
    "    relu3_4 : FloatTensor - size: 256x256\n",
    "    relu4_1 : FloatTensor - size: 512x512\n",
    "    relu4_2 : FloatTensor - size: 512x512\n",
    "    relu4_3 : FloatTensor - size: 512x512\n",
    "    relu4_4 : FloatTensor - size: 512x512\n",
    "    relu5_1 : FloatTensor - size: 512x512\n",
    "    relu5_2 : FloatTensor - size: 512x512\n",
    "    relu5_3 : FloatTensor - size: 512x512\n",
    "    relu5_4 : FloatTensor - size: 512x512\n",
    "    \n",
    "    Returns a Lua table with the above key-value pairs. \n",
    "\n",
    "    \n",
    "    --]]\n",
    "    \n",
    "    local next_style_idx = 1\n",
    "    local net = nn.Sequential()\n",
    "    local style_layers = params.style_layers:split(',')\n",
    "    \n",
    "    local style_vector = nil \n",
    "\n",
    "    -- THIS GUY THIS GUY THIS GUY THIS GUY\n",
    "    -- nn.JoinTable(1):forward{x, y, x}:float()\n",
    "\n",
    "    -- Build up net from cnn\n",
    "    \n",
    "    for i = 1, #cnn do\n",
    "\n",
    "        if next_style_idx <= #style_layers then\n",
    "            local layer = cnn:get(i)\n",
    "            local layer_name = layer.name\n",
    "\n",
    "            if params.gpu >= 0 then layer = layer:cuda() end\n",
    "\n",
    "            net:add(layer)\n",
    "            \n",
    "            -- now to grab style layers\n",
    "            \n",
    "            if (layer_name == style_layers[next_style_idx]) then\n",
    "                local target_features = net:forward(img)\n",
    "                local target_i = gram:forward(target_features)\n",
    "                target_i:div(target_features:nElement())\n",
    "                \n",
    "                -- add the current gram matrix (flattened) to style_vector\n",
    "                local curr = flatten(target_i):float()\n",
    "                if style_vector == nil then\n",
    "                    style_vector = curr\n",
    "                else\n",
    "                    style_vector = nn.JoinTable(1):forward({style_vector, curr}):float()\n",
    "                end\n",
    "\n",
    "                next_style_idx = next_style_idx + 1     \n",
    "            end\n",
    "        end\n",
    "    end\n",
    "\n",
    "    collectgarbage(); collectgarbage()\n",
    "    return style_vector\n",
    "end\n",
    "\n",
    "\n",
    "function save_json(filename, file)  \n",
    "    local filename = params.tmp_dir .. filename .. '.json'\n",
    "    local json_string = json.encode(file)\n",
    "    local f = assert(io.open(filename, 'w'))\n",
    "\n",
    "    f:write(json_string)\n",
    "\n",
    "    return true\n",
    "end\n",
    "\n",
    "\n",
    "function load(label) -- load and preprocess image\n",
    "\n",
    "    -- Preprocess an image before passing it to a Caffe model.\n",
    "    -- We need to rescale from [0, 1] to [0, 255], convert from RGB to BGR,\n",
    "    -- and subtract the mean pixel. [jcjohnson]\n",
    "    function preprocess(img)\n",
    "      local mean_pixel = torch.DoubleTensor({103.939, 116.779, 123.68})\n",
    "      local perm = torch.LongTensor{3, 2, 1}\n",
    "      local img = img:index(1, perm):mul(256.0)\n",
    "      mean_pixel = mean_pixel:view(3, 1, 1):expandAs(img)\n",
    "      img:add(-1, mean_pixel)\n",
    "      if params.gpu >= 0 then img = img:cuda() end\n",
    "      return img\n",
    "    end\n",
    "\n",
    "    -- load our image\n",
    "    local ok, img = pcall(image.load, params.style_dir .. label .. '.jpg')\n",
    "    if not ok then \n",
    "        print('error loading image')\n",
    "        return nil\n",
    "    end\n",
    "\n",
    "    if img:size()[1] ~= 3 then\n",
    "        print('Not enough dimensions on this one')\n",
    "        return nil\n",
    "    end\n",
    "\n",
    "    -- save thumbnail\n",
    "    assert(save_thumb(img, label))\n",
    "\n",
    "    -- preprocess for return\n",
    "    img = image.scale(img, params.img_size, 'bilinear')\n",
    "    img = preprocess(img):float()\n",
    "\n",
    "    return img\n",
    "end\n",
    "\n",
    "\n",
    "function save_thumb(img, label)\n",
    "    local thumbs = params.tmp_dir .. 'thumbs/'\n",
    "    if paths.dir(thumbs) == nil then paths.mkdir(thumbs) end\n",
    "\n",
    "    local thumb = image.scale(img, params.thumb_size, 'bilinear')\n",
    "    image.save(thumbs .. label .. '.jpg', thumb)\n",
    "    return true\n",
    "end"
   ]
  },
  {
   "cell_type": "code",
   "execution_count": 8,
   "metadata": {
    "collapsed": false
   },
   "outputs": [],
   "source": [
    "arg = {}\n",
    "params = cmd:parse(arg)\n",
    "if paths.dir(params.tmp_dir) == nil then paths.mkdir(params.tmp_dir) end"
   ]
  },
  {
   "cell_type": "code",
   "execution_count": 9,
   "metadata": {
    "collapsed": true
   },
   "outputs": [],
   "source": [
    "-- gpu\n",
    "\n",
    "if params.gpu >= 0 then\n",
    "    require 'cutorch'\n",
    "    require 'cunn'\n",
    "    cutorch.setDevice(params.gpu + 1)\n",
    "else\n",
    "    params.backend = 'nn-cpu'\n",
    "end"
   ]
  },
  {
   "cell_type": "code",
   "execution_count": 10,
   "metadata": {
    "collapsed": false
   },
   "outputs": [
    {
     "data": {
      "text/plain": [
       "1\tARTSTOR_103_41822001426012\t\n",
       "2\tBRYN_MAWR_95511124810\t\n",
       "3\tBRYN_MAWR_95511125220\t\n",
       "4\tBRYN_MAWR_95511125221\t\n",
       "5\tBRYN_MAWR_95511128363\t\n",
       "6\tBRYN_MAWR_9559344931\t\n",
       "7\tBRYN_MAWR_9559344942\t\n",
       "8\tBRYN_MAWR_9559344968\t\n",
       "9\tBRYN_MAWR_9559345042\t\n",
       "10\tBRYN_MAWR_9559345159\t\n",
       "11\tBRYN_MAWR_9559352713\t\n",
       "12\tLESSING_ART_10310751494\t\n"
      ]
     },
     "execution_count": 10,
     "metadata": {},
     "output_type": "execute_result"
    }
   ],
   "source": [
    "-- get sorted\n",
    "sorted = {}\n",
    "\n",
    "for f in paths.iterfiles(params.style_dir) do    \n",
    "    if string.match(f, '.jpg') then\n",
    "        label = string.split(f, '.jpg')[1]\n",
    "        table.insert(sorted, label)\n",
    "    end\n",
    "end\n",
    "\n",
    "table.sort(sorted)\n",
    "for i,n in ipairs(sorted) do print(i, n) end\n"
   ]
  },
  {
   "cell_type": "code",
   "execution_count": 11,
   "metadata": {
    "collapsed": false
   },
   "outputs": [
    {
     "data": {
      "text/plain": [
       "Successfully loaded models/VGG_ILSVRC_19_layers.caffemodel\n"
      ]
     },
     "execution_count": 11,
     "metadata": {},
     "output_type": "execute_result"
    },
    {
     "data": {
      "text/plain": [
       "conv1_1: 64 3 3 3\n"
      ]
     },
     "execution_count": 11,
     "metadata": {},
     "output_type": "execute_result"
    },
    {
     "data": {
      "text/plain": [
       "conv1_2: 64 64 3 3\n",
       "conv2_1: 128 64 3 3\n",
       "conv2_2: 128 128 3 3\n",
       "conv3_1: 256 128 3 3\n",
       "conv3_2: 256 256 3 3\n",
       "conv3_3: 256 256 3 3\n"
      ]
     },
     "execution_count": 11,
     "metadata": {},
     "output_type": "execute_result"
    },
    {
     "data": {
      "text/plain": [
       "conv3_4: 256 256 3 3\n"
      ]
     },
     "execution_count": 11,
     "metadata": {},
     "output_type": "execute_result"
    },
    {
     "data": {
      "text/plain": [
       "conv4_1: 512 256 3 3\n"
      ]
     },
     "execution_count": 11,
     "metadata": {},
     "output_type": "execute_result"
    },
    {
     "data": {
      "text/plain": [
       "conv4_2: 512 512 3 3\n"
      ]
     },
     "execution_count": 11,
     "metadata": {},
     "output_type": "execute_result"
    },
    {
     "data": {
      "text/plain": [
       "conv4_3: 512 512 3 3\n"
      ]
     },
     "execution_count": 11,
     "metadata": {},
     "output_type": "execute_result"
    },
    {
     "data": {
      "text/plain": [
       "conv4_4: 512 512 3 3\n"
      ]
     },
     "execution_count": 11,
     "metadata": {},
     "output_type": "execute_result"
    },
    {
     "data": {
      "text/plain": [
       "conv5_1: 512 512 3 3\n"
      ]
     },
     "execution_count": 11,
     "metadata": {},
     "output_type": "execute_result"
    },
    {
     "data": {
      "text/plain": [
       "conv5_2: 512 512 3 3\n"
      ]
     },
     "execution_count": 11,
     "metadata": {},
     "output_type": "execute_result"
    },
    {
     "data": {
      "text/plain": [
       "conv5_3: 512 512 3 3\n"
      ]
     },
     "execution_count": 11,
     "metadata": {},
     "output_type": "execute_result"
    },
    {
     "data": {
      "text/plain": [
       "conv5_4: 512 512 3 3\n"
      ]
     },
     "execution_count": 11,
     "metadata": {},
     "output_type": "execute_result"
    },
    {
     "data": {
      "text/plain": [
       "fc6: 1 1 25088 4096\n"
      ]
     },
     "execution_count": 11,
     "metadata": {},
     "output_type": "execute_result"
    },
    {
     "data": {
      "text/plain": [
       "fc7: 1 1 4096 4096\n"
      ]
     },
     "execution_count": 11,
     "metadata": {},
     "output_type": "execute_result"
    },
    {
     "data": {
      "text/plain": [
       "fc8: 1 1 4096 1000\n"
      ]
     },
     "execution_count": 11,
     "metadata": {},
     "output_type": "execute_result"
    }
   ],
   "source": [
    "-- load caffe network image\n",
    "\n",
    "local cnn = loadcaffe_wrap.load(params.proto_file, params.model_file, params.backend):float()\n",
    "local gram = GramMatrix():float()\n",
    "if params.gpu >= 0 then \n",
    "    cnn = cnn:cuda()\n",
    "    gram = gram:cuda() \n",
    "end\n",
    "optimizeInferenceMemory(cnn)\n",
    "\n",
    "collectgarbage(); collectgarbage()"
   ]
  },
  {
   "cell_type": "code",
   "execution_count": 12,
   "metadata": {
    "collapsed": false
   },
   "outputs": [
    {
     "data": {
      "text/plain": [
       "1 ARTSTOR_103_41822001426012:\tloading  from cache...\t\n",
       "elapsed time: 0.31\n",
       "\t\n",
       "1 BRYN_MAWR_95511124810:\tloading  from cache...\t\n",
       "elapsed time: 0.18\n",
       "\t\n",
       "2 BRYN_MAWR_95511125220:\tloading  from cache...\t\n",
       "elapsed time: 0.17\n",
       "\t\n",
       "3 BRYN_MAWR_95511125221:\tloading  from cache...\t\n",
       "elapsed time: 0.19\n",
       "\t\n",
       "4 BRYN_MAWR_95511128363:\tloading  from cache...\t\n",
       "elapsed time: 0.23\n",
       "\t\n",
       "5 BRYN_MAWR_9559344931:\tloading  from cache...\t\n",
       "elapsed time: 0.14\n",
       "\t\n",
       "6 BRYN_MAWR_9559344942:\tloading  from cache...\t\n",
       "elapsed time: 0.14\n",
       "\t\n",
       "7 BRYN_MAWR_9559344968:\tloading  from cache...\t\n"
      ]
     },
     "execution_count": 12,
     "metadata": {},
     "output_type": "execute_result"
    },
    {
     "data": {
      "text/plain": [
       "elapsed time: 0.26\n",
       "\t\n",
       "8 BRYN_MAWR_9559345042:\t"
      ]
     },
     "execution_count": 12,
     "metadata": {},
     "output_type": "execute_result"
    },
    {
     "data": {
      "text/plain": [
       "loading  from cache...\t\n"
      ]
     },
     "execution_count": 12,
     "metadata": {},
     "output_type": "execute_result"
    },
    {
     "data": {
      "text/plain": [
       "elapsed time: 0.24\n",
       "\t\n",
       "9 BRYN_MAWR_9559345159:\t"
      ]
     },
     "execution_count": 12,
     "metadata": {},
     "output_type": "execute_result"
    },
    {
     "data": {
      "text/plain": [
       "loading  from cache...\t\n"
      ]
     },
     "execution_count": 12,
     "metadata": {},
     "output_type": "execute_result"
    },
    {
     "data": {
      "text/plain": [
       "elapsed time: 0.18\n",
       "\t\n",
       "10 BRYN_MAWR_9559352713:\t"
      ]
     },
     "execution_count": 12,
     "metadata": {},
     "output_type": "execute_result"
    },
    {
     "data": {
      "text/plain": [
       "loading  from cache...\t\n"
      ]
     },
     "execution_count": 12,
     "metadata": {},
     "output_type": "execute_result"
    },
    {
     "data": {
      "text/plain": [
       "elapsed time: 0.26\n",
       "\t\n"
      ]
     },
     "execution_count": 12,
     "metadata": {},
     "output_type": "execute_result"
    }
   ],
   "source": [
    "\n",
    "-- Run Style2Vec on image by image\n",
    "\n",
    "ct = 1\n",
    "ct2 = 1\n",
    "i = params.start_at\n",
    "\n",
    "vecs = nil\n",
    "imgs = nil\n",
    "out = {}\n",
    "\n",
    "while (i < #sorted) do\n",
    "    label = sorted[i]\n",
    "    io.write(ct .. ' ' .. label .. ':\\t')        --      .. params.style_layers .. ' ...' \n",
    "\n",
    "    local timer = torch.Timer()\n",
    "    local vec = nil\n",
    "\n",
    "    local img = load(label)\n",
    "\n",
    "    if cached(label) then\n",
    "        vec = load_cache(label)\n",
    "    else        \n",
    "        if img == nil then\n",
    "            print('error loading image')        -- this error doesn't check if cache exists\n",
    "        else\n",
    "            vec = Style2Vec(cnn, gram, img)\n",
    "            cache(vec, label)\n",
    "        end\n",
    "    end\n",
    "\n",
    "    if vec ~= nil then\n",
    "        if vecs == nil then\n",
    "            vecs = vec\n",
    "        else\n",
    "            vecs = nn.JoinTable(1):forward({vecs, vec}):float()\n",
    "            ct = ct + 1\n",
    "        end\n",
    "\n",
    "        -- resize all images to 512x512 before flattening to preserve dims\n",
    "        local std_img = image.scale(img, 512, 512, 'bicubic')\n",
    "        local flat_std = flatten(std_img)\n",
    "\n",
    "        if imgs == nil then\n",
    "            imgs = flat_std\n",
    "        else\n",
    "            imgs = nn.JoinTable(1):forward({imgs, flat_std}):float()\n",
    "            ct2 = ct2 + 1\n",
    "        end\n",
    "    \n",
    "        out[ct] = label\n",
    "    end\n",
    "\n",
    "    i = i + 1\n",
    "    if ct > params.iter then break end\n",
    "    collectgarbage(); collectgarbage()\n",
    "\n",
    "    print(string.format(\"elapsed time: %.2f\\n\", timer:time().real))\n",
    "end"
   ]
  },
  {
   "cell_type": "code",
   "execution_count": 13,
   "metadata": {
    "collapsed": true
   },
   "outputs": [],
   "source": [
    "-- clean up a little\n",
    "cnn = nil\n",
    "style_images = nil\n",
    "collectgarbage(); collectgarbage()"
   ]
  },
  {
   "cell_type": "code",
   "execution_count": 14,
   "metadata": {
    "collapsed": false
   },
   "outputs": [
    {
     "data": {
      "text/plain": [
       "reshaping vecs: \t\n"
      ]
     },
     "execution_count": 14,
     "metadata": {},
     "output_type": "execute_result"
    }
   ],
   "source": [
    "-- reshape into rows for export and t-SNE\n",
    "print('reshaping vecs: ')\n",
    "vecs = vecs:view(ct, -1)\n",
    "imgs = imgs:view(ct2, -1)"
   ]
  },
  {
   "cell_type": "code",
   "execution_count": 15,
   "metadata": {
    "collapsed": false
   },
   "outputs": [
    {
     "data": {
      "text/plain": [
       "\n",
       "     11\n",
       " 610304\n",
       "[torch.LongStorage of size 2]\n",
       "\n",
       "\n",
       "     11\n",
       " 786432\n",
       "[torch.LongStorage of size 2]\n",
       "\n"
      ]
     },
     "execution_count": 15,
     "metadata": {},
     "output_type": "execute_result"
    }
   ],
   "source": [
    "print(#vecs)\n",
    "print(#imgs)"
   ]
  },
  {
   "cell_type": "code",
   "execution_count": 16,
   "metadata": {
    "collapsed": false
   },
   "outputs": [
    {
     "ename": "[string \"function tsne(vecs, perplexity)...\"]:3: attempt to call field 'run_bhtsne' (a nil value)\nstack traceback:\n\t[string \"function tsne(vecs, perplexity)...\"]:3: in function 'tsne'\n\t[string \"local i = 8...\"]:2: in main chunk\n\t[C]: in function 'xpcall'\n\t/Users/razi/torch/install/share/lua/5.1/itorch/main.lua:179: in function </Users/razi/torch/install/share/lua/5.1/itorch/main.lua:143>\n\t/Users/razi/torch/install/share/lua/5.1/lzmq/poller.lua:75: in function 'poll'\n\t/Users/razi/torch/install/share/lua/5.1/lzmq/impl/loop.lua:307: in function 'poll'\n\t/Users/razi/torch/install/share/lua/5.1/lzmq/impl/loop.lua:325: in function 'sleep_ex'\n\t/Users/razi/torch/install/share/lua/5.1/lzmq/impl/loop.lua:370: in function 'start'\n\t/Users/razi/torch/install/share/lua/5.1/itorch/main.lua:350: in main chunk\n\t[C]: in function 'require'\n\t[string \"arg={'/Users/razi/.ipython/profile_default/se...\"]:1: in main chunk",
     "evalue": "",
     "output_type": "error",
     "traceback": [
      "[string \"function tsne(vecs, perplexity)...\"]:3: attempt to call field 'run_bhtsne' (a nil value)\nstack traceback:\n\t[string \"function tsne(vecs, perplexity)...\"]:3: in function 'tsne'\n\t[string \"local i = 8...\"]:2: in main chunk\n\t[C]: in function 'xpcall'\n\t/Users/razi/torch/install/share/lua/5.1/itorch/main.lua:179: in function </Users/razi/torch/install/share/lua/5.1/itorch/main.lua:143>\n\t/Users/razi/torch/install/share/lua/5.1/lzmq/poller.lua:75: in function 'poll'\n\t/Users/razi/torch/install/share/lua/5.1/lzmq/impl/loop.lua:307: in function 'poll'\n\t/Users/razi/torch/install/share/lua/5.1/lzmq/impl/loop.lua:325: in function 'sleep_ex'\n\t/Users/razi/torch/install/share/lua/5.1/lzmq/impl/loop.lua:370: in function 'start'\n\t/Users/razi/torch/install/share/lua/5.1/itorch/main.lua:350: in main chunk\n\t[C]: in function 'require'\n\t[string \"arg={'/Users/razi/.ipython/profile_default/se...\"]:1: in main chunk"
     ]
    }
   ],
   "source": [
    "local i = 8\n",
    "local embedding = tsne(vecs, i)\n",
    "assert(save_json(params.name .. i .. 'embedding', embedding:totable()))"
   ]
  },
  {
   "cell_type": "code",
   "execution_count": 24,
   "metadata": {
    "collapsed": false
   },
   "outputs": [
    {
     "data": {
      "text/plain": [
       "Computing P-values...\t\n"
      ]
     },
     "execution_count": 24,
     "metadata": {},
     "output_type": "execute_result"
    },
    {
     "data": {
      "text/plain": [
       "Running t-SNE...\t\n"
      ]
     },
     "execution_count": 24,
     "metadata": {},
     "output_type": "execute_result"
    },
    {
     "data": {
      "text/plain": [
       "Iteration 10: KL divergence is 18.963903034566\t\n"
      ]
     },
     "execution_count": 24,
     "metadata": {},
     "output_type": "execute_result"
    },
    {
     "data": {
      "text/plain": [
       "Iteration 20: KL divergence is 19.603884907789\t\n"
      ]
     },
     "execution_count": 24,
     "metadata": {},
     "output_type": "execute_result"
    },
    {
     "data": {
      "text/plain": [
       "Iteration 30: KL divergence is 16.194569585329\t\n"
      ]
     },
     "execution_count": 24,
     "metadata": {},
     "output_type": "execute_result"
    },
    {
     "data": {
      "text/plain": [
       "Iteration 40: KL divergence is 15.667954323104\t\n"
      ]
     },
     "execution_count": 24,
     "metadata": {},
     "output_type": "execute_result"
    },
    {
     "data": {
      "text/plain": [
       "Iteration 50: KL divergence is 20.235152664092\t\n"
      ]
     },
     "execution_count": 24,
     "metadata": {},
     "output_type": "execute_result"
    },
    {
     "data": {
      "text/plain": [
       "Iteration 60: KL divergence is 18.703268955027\t\n"
      ]
     },
     "execution_count": 24,
     "metadata": {},
     "output_type": "execute_result"
    },
    {
     "data": {
      "text/plain": [
       "Iteration 70: KL divergence is 28.236769171076\t\n"
      ]
     },
     "execution_count": 24,
     "metadata": {},
     "output_type": "execute_result"
    },
    {
     "data": {
      "text/plain": [
       "Iteration 80: KL divergence is 19.507444378569\t\n"
      ]
     },
     "execution_count": 24,
     "metadata": {},
     "output_type": "execute_result"
    },
    {
     "data": {
      "text/plain": [
       "Iteration 90: KL divergence is 16.351191277685\t\n"
      ]
     },
     "execution_count": 24,
     "metadata": {},
     "output_type": "execute_result"
    },
    {
     "data": {
      "text/plain": [
       "Iteration 100: KL divergence is 21.056486803352\t\n"
      ]
     },
     "execution_count": 24,
     "metadata": {},
     "output_type": "execute_result"
    },
    {
     "data": {
      "text/plain": [
       "Iteration 110: KL divergence is 19.315508569848\t\n"
      ]
     },
     "execution_count": 24,
     "metadata": {},
     "output_type": "execute_result"
    },
    {
     "data": {
      "text/plain": [
       "Iteration 120: KL divergence is 17.127614748954\t\n"
      ]
     },
     "execution_count": 24,
     "metadata": {},
     "output_type": "execute_result"
    },
    {
     "data": {
      "text/plain": [
       "Iteration 130: KL divergence is 16.922886389313\t\n"
      ]
     },
     "execution_count": 24,
     "metadata": {},
     "output_type": "execute_result"
    },
    {
     "data": {
      "text/plain": [
       "Iteration 140: KL divergence is 20.449562914878\t\n"
      ]
     },
     "execution_count": 24,
     "metadata": {},
     "output_type": "execute_result"
    },
    {
     "data": {
      "text/plain": [
       "Iteration 150: KL divergence is 19.519623038258\t\n"
      ]
     },
     "execution_count": 24,
     "metadata": {},
     "output_type": "execute_result"
    },
    {
     "data": {
      "text/plain": [
       "Iteration 160: KL divergence is 16.916892595453\t\n"
      ]
     },
     "execution_count": 24,
     "metadata": {},
     "output_type": "execute_result"
    },
    {
     "data": {
      "text/plain": [
       "Iteration 170: KL divergence is 21.730744300733\t\n"
      ]
     },
     "execution_count": 24,
     "metadata": {},
     "output_type": "execute_result"
    },
    {
     "data": {
      "text/plain": [
       "Iteration 180: KL divergence is 21.69272898141\t\n"
      ]
     },
     "execution_count": 24,
     "metadata": {},
     "output_type": "execute_result"
    },
    {
     "data": {
      "text/plain": [
       "Iteration 190: KL divergence is 23.722572279049\t\n"
      ]
     },
     "execution_count": 24,
     "metadata": {},
     "output_type": "execute_result"
    },
    {
     "data": {
      "text/plain": [
       "Iteration 200: KL divergence is 2.4917938648891\t\n"
      ]
     },
     "execution_count": 24,
     "metadata": {},
     "output_type": "execute_result"
    },
    {
     "data": {
      "text/plain": [
       "Iteration 210: KL divergence is 1.7784561591613\t\n"
      ]
     },
     "execution_count": 24,
     "metadata": {},
     "output_type": "execute_result"
    },
    {
     "data": {
      "text/plain": [
       "Iteration 220: KL divergence is 1.5096128736931\t\n"
      ]
     },
     "execution_count": 24,
     "metadata": {},
     "output_type": "execute_result"
    },
    {
     "data": {
      "text/plain": [
       "Iteration 230: KL divergence is 1.3111277525922\t\n"
      ]
     },
     "execution_count": 24,
     "metadata": {},
     "output_type": "execute_result"
    },
    {
     "data": {
      "text/plain": [
       "Iteration 240: KL divergence is 1.1563156139595\t\n"
      ]
     },
     "execution_count": 24,
     "metadata": {},
     "output_type": "execute_result"
    },
    {
     "data": {
      "text/plain": [
       "Iteration 250: KL divergence is 1.0047926551285\t\n"
      ]
     },
     "execution_count": 24,
     "metadata": {},
     "output_type": "execute_result"
    },
    {
     "data": {
      "text/plain": [
       "Iteration 260: KL divergence is 0.82739305908506\t\n"
      ]
     },
     "execution_count": 24,
     "metadata": {},
     "output_type": "execute_result"
    },
    {
     "data": {
      "text/plain": [
       "Iteration 270: KL divergence is 0.80675510009338\t\n",
       "Iteration 280: KL divergence is 0.627577228151\t\n",
       "Iteration 290: KL divergence is 0.59963620747709\t\n",
       "Iteration 300: KL divergence is 0.57537053862748\t\n"
      ]
     },
     "execution_count": 24,
     "metadata": {},
     "output_type": "execute_result"
    },
    {
     "data": {
      "text/plain": [
       "Iteration 310: KL divergence is 0.55653158358067\t\n"
      ]
     },
     "execution_count": 24,
     "metadata": {},
     "output_type": "execute_result"
    },
    {
     "data": {
      "text/plain": [
       "Iteration 320: KL divergence is 0.54611112270155\t"
      ]
     },
     "execution_count": 24,
     "metadata": {},
     "output_type": "execute_result"
    },
    {
     "data": {
      "text/plain": [
       "\n"
      ]
     },
     "execution_count": 24,
     "metadata": {},
     "output_type": "execute_result"
    },
    {
     "data": {
      "text/plain": [
       "Iteration 330: KL divergence is 0.53909325542166\t\n"
      ]
     },
     "execution_count": 24,
     "metadata": {},
     "output_type": "execute_result"
    },
    {
     "data": {
      "text/plain": [
       "Iteration 340: KL divergence is 0.53321783514503\t\n"
      ]
     },
     "execution_count": 24,
     "metadata": {},
     "output_type": "execute_result"
    },
    {
     "data": {
      "text/plain": [
       "Iteration 350: KL divergence is 0.52617161129282\t\n"
      ]
     },
     "execution_count": 24,
     "metadata": {},
     "output_type": "execute_result"
    },
    {
     "data": {
      "text/plain": [
       "Iteration 360: KL divergence is 0.51654460237247\t\n"
      ]
     },
     "execution_count": 24,
     "metadata": {},
     "output_type": "execute_result"
    },
    {
     "data": {
      "text/plain": [
       "Iteration 370: KL divergence is 0.50471145684636\t\n"
      ]
     },
     "execution_count": 24,
     "metadata": {},
     "output_type": "execute_result"
    },
    {
     "data": {
      "text/plain": [
       "Iteration 380: KL divergence is 0.49174697230624\t\n"
      ]
     },
     "execution_count": 24,
     "metadata": {},
     "output_type": "execute_result"
    },
    {
     "data": {
      "text/plain": [
       "Iteration 390: KL divergence is 0.47925796353116\t\n"
      ]
     },
     "execution_count": 24,
     "metadata": {},
     "output_type": "execute_result"
    },
    {
     "data": {
      "text/plain": [
       "Iteration 400: KL divergence is 0.46864091528455\t\n"
      ]
     },
     "execution_count": 24,
     "metadata": {},
     "output_type": "execute_result"
    },
    {
     "data": {
      "text/plain": [
       "Iteration 410: KL divergence is 0.46013205842865\t\n"
      ]
     },
     "execution_count": 24,
     "metadata": {},
     "output_type": "execute_result"
    },
    {
     "data": {
      "text/plain": [
       "Iteration 420: KL divergence is 0.45275397891745\t\n"
      ]
     },
     "execution_count": 24,
     "metadata": {},
     "output_type": "execute_result"
    },
    {
     "data": {
      "text/plain": [
       "Iteration 430: KL divergence is 0.44603012097174\t\n"
      ]
     },
     "execution_count": 24,
     "metadata": {},
     "output_type": "execute_result"
    },
    {
     "data": {
      "text/plain": [
       "Iteration 440: KL divergence is 0.44003226234436\t\n"
      ]
     },
     "execution_count": 24,
     "metadata": {},
     "output_type": "execute_result"
    },
    {
     "data": {
      "text/plain": [
       "Iteration 450: KL divergence is 0.43494013621203\t\n"
      ]
     },
     "execution_count": 24,
     "metadata": {},
     "output_type": "execute_result"
    },
    {
     "data": {
      "text/plain": [
       "Iteration 460: KL divergence is 0.43076738358991\t\n"
      ]
     },
     "execution_count": 24,
     "metadata": {},
     "output_type": "execute_result"
    },
    {
     "data": {
      "text/plain": [
       "Iteration 470: KL divergence is 0.42735392332966\t\n"
      ]
     },
     "execution_count": 24,
     "metadata": {},
     "output_type": "execute_result"
    },
    {
     "data": {
      "text/plain": [
       "Iteration 480: KL divergence is 0.42464705182394\t\n"
      ]
     },
     "execution_count": 24,
     "metadata": {},
     "output_type": "execute_result"
    },
    {
     "data": {
      "text/plain": [
       "Iteration 490: KL divergence is 0.42077717058359\t\n"
      ]
     },
     "execution_count": 24,
     "metadata": {},
     "output_type": "execute_result"
    },
    {
     "data": {
      "text/plain": [
       "Iteration 500: KL divergence is 0.39415203015403\t\n"
      ]
     },
     "execution_count": 24,
     "metadata": {},
     "output_type": "execute_result"
    },
    {
     "data": {
      "text/plain": [
       "Iteration 510: KL divergence is 0.31620808084774\t\n",
       "Iteration 520: KL divergence is 0.2795424099956\t\n"
      ]
     },
     "execution_count": 24,
     "metadata": {},
     "output_type": "execute_result"
    },
    {
     "data": {
      "text/plain": [
       "Iteration 530: KL divergence is 0.2621372964717\t\n"
      ]
     },
     "execution_count": 24,
     "metadata": {},
     "output_type": "execute_result"
    },
    {
     "data": {
      "text/plain": [
       "Iteration 540: KL divergence is 0.23191593060641\t\n"
      ]
     },
     "execution_count": 24,
     "metadata": {},
     "output_type": "execute_result"
    },
    {
     "data": {
      "text/plain": [
       "Iteration 550: KL divergence is 0.21500073061463\t\n"
      ]
     },
     "execution_count": 24,
     "metadata": {},
     "output_type": "execute_result"
    },
    {
     "data": {
      "text/plain": [
       "Iteration 560: KL divergence is 0.20632212808158\t\n"
      ]
     },
     "execution_count": 24,
     "metadata": {},
     "output_type": "execute_result"
    },
    {
     "data": {
      "text/plain": [
       "Iteration 570: KL divergence is 0.20136229430066\t\n"
      ]
     },
     "execution_count": 24,
     "metadata": {},
     "output_type": "execute_result"
    },
    {
     "data": {
      "text/plain": [
       "Iteration 580: KL divergence is 0.19842403385088\t\n"
      ]
     },
     "execution_count": 24,
     "metadata": {},
     "output_type": "execute_result"
    },
    {
     "data": {
      "text/plain": [
       "Iteration 590: KL divergence is 0.1963783283772\t\n"
      ]
     },
     "execution_count": 24,
     "metadata": {},
     "output_type": "execute_result"
    },
    {
     "data": {
      "text/plain": [
       "Iteration 600: KL divergence is 0.19424926582459\t\n"
      ]
     },
     "execution_count": 24,
     "metadata": {},
     "output_type": "execute_result"
    },
    {
     "data": {
      "text/plain": [
       "Iteration 610: KL divergence is 0.19077760547849\t\n"
      ]
     },
     "execution_count": 24,
     "metadata": {},
     "output_type": "execute_result"
    },
    {
     "data": {
      "text/plain": [
       "Iteration 620: KL divergence is 0.185978481917\t\n"
      ]
     },
     "execution_count": 24,
     "metadata": {},
     "output_type": "execute_result"
    },
    {
     "data": {
      "text/plain": [
       "Iteration 630: KL divergence is 0.18033957550798\t\n"
      ]
     },
     "execution_count": 24,
     "metadata": {},
     "output_type": "execute_result"
    },
    {
     "data": {
      "text/plain": [
       "Iteration 640: KL divergence is 0.17451045208931\t\n"
      ]
     },
     "execution_count": 24,
     "metadata": {},
     "output_type": "execute_result"
    },
    {
     "data": {
      "text/plain": [
       "Iteration 650: KL divergence is 0.16915166315851\t\n"
      ]
     },
     "execution_count": 24,
     "metadata": {},
     "output_type": "execute_result"
    },
    {
     "data": {
      "text/plain": [
       "Iteration 660: KL divergence is 0.16475096425052\t\n"
      ]
     },
     "execution_count": 24,
     "metadata": {},
     "output_type": "execute_result"
    },
    {
     "data": {
      "text/plain": [
       "Iteration 670: KL divergence is 0.1613511067975\t\n"
      ]
     },
     "execution_count": 24,
     "metadata": {},
     "output_type": "execute_result"
    },
    {
     "data": {
      "text/plain": [
       "Iteration 680: KL divergence is 0.15869547321601\t\n"
      ]
     },
     "execution_count": 24,
     "metadata": {},
     "output_type": "execute_result"
    },
    {
     "data": {
      "text/plain": [
       "Iteration 690: KL divergence is 0.15653934525416\t\n"
      ]
     },
     "execution_count": 24,
     "metadata": {},
     "output_type": "execute_result"
    },
    {
     "data": {
      "text/plain": [
       "Iteration 700: KL divergence is 0.15470796144539\t\n"
      ]
     },
     "execution_count": 24,
     "metadata": {},
     "output_type": "execute_result"
    },
    {
     "data": {
      "text/plain": [
       "Iteration 710: KL divergence is 0.15313535182298\t\n"
      ]
     },
     "execution_count": 24,
     "metadata": {},
     "output_type": "execute_result"
    },
    {
     "data": {
      "text/plain": [
       "Iteration 720: KL divergence is 0.15178646053499\t\n"
      ]
     },
     "execution_count": 24,
     "metadata": {},
     "output_type": "execute_result"
    },
    {
     "data": {
      "text/plain": [
       "Iteration 730: KL divergence is 0.15062387727148\t\n"
      ]
     },
     "execution_count": 24,
     "metadata": {},
     "output_type": "execute_result"
    },
    {
     "data": {
      "text/plain": [
       "Iteration 740: KL divergence is 0.14960988565389\t\n"
      ]
     },
     "execution_count": 24,
     "metadata": {},
     "output_type": "execute_result"
    },
    {
     "data": {
      "text/plain": [
       "Iteration 750: KL divergence is 0.14871180880891\t\n"
      ]
     },
     "execution_count": 24,
     "metadata": {},
     "output_type": "execute_result"
    },
    {
     "data": {
      "text/plain": [
       "Iteration 760: KL divergence is 0.14790465122585\t\n"
      ]
     },
     "execution_count": 24,
     "metadata": {},
     "output_type": "execute_result"
    },
    {
     "data": {
      "text/plain": [
       "Iteration 770: KL divergence is 0.14717028727584\t\n"
      ]
     },
     "execution_count": 24,
     "metadata": {},
     "output_type": "execute_result"
    },
    {
     "data": {
      "text/plain": [
       "Iteration 780: KL divergence is 0.14649539903118\t\n"
      ]
     },
     "execution_count": 24,
     "metadata": {},
     "output_type": "execute_result"
    },
    {
     "data": {
      "text/plain": [
       "Iteration 790: KL divergence is 0.14586965080427\t\n",
       "Iteration 800: KL divergence is 0.14528440117526\t\n"
      ]
     },
     "execution_count": 24,
     "metadata": {},
     "output_type": "execute_result"
    },
    {
     "data": {
      "text/plain": [
       "Iteration 810: KL divergence is 0.14473212756789\t\n"
      ]
     },
     "execution_count": 24,
     "metadata": {},
     "output_type": "execute_result"
    },
    {
     "data": {
      "text/plain": [
       "Iteration 820: KL divergence is 0.1442061207563\t\n"
      ]
     },
     "execution_count": 24,
     "metadata": {},
     "output_type": "execute_result"
    },
    {
     "data": {
      "text/plain": [
       "Iteration 830: KL divergence is 0.14370157954512\t\n"
      ]
     },
     "execution_count": 24,
     "metadata": {},
     "output_type": "execute_result"
    },
    {
     "data": {
      "text/plain": [
       "Iteration 840: KL divergence is 0.14321909075323\t\n"
      ]
     },
     "execution_count": 24,
     "metadata": {},
     "output_type": "execute_result"
    },
    {
     "data": {
      "text/plain": [
       "Iteration 850: KL divergence is 0.1427541786285\t\n"
      ]
     },
     "execution_count": 24,
     "metadata": {},
     "output_type": "execute_result"
    },
    {
     "data": {
      "text/plain": [
       "Iteration 860: KL divergence is 0.14229497365909\t\n"
      ]
     },
     "execution_count": 24,
     "metadata": {},
     "output_type": "execute_result"
    },
    {
     "data": {
      "text/plain": [
       "Iteration 870: KL divergence is 0.14184708938644\t\n"
      ]
     },
     "execution_count": 24,
     "metadata": {},
     "output_type": "execute_result"
    },
    {
     "data": {
      "text/plain": [
       "Iteration 880: KL divergence is 0.14141874350563\t\n"
      ]
     },
     "execution_count": 24,
     "metadata": {},
     "output_type": "execute_result"
    },
    {
     "data": {
      "text/plain": [
       "Iteration 890: KL divergence is 0.14101269340356\t\n"
      ]
     },
     "execution_count": 24,
     "metadata": {},
     "output_type": "execute_result"
    },
    {
     "data": {
      "text/plain": [
       "Iteration 900: KL divergence is 0.14062775044625\t"
      ]
     },
     "execution_count": 24,
     "metadata": {},
     "output_type": "execute_result"
    },
    {
     "data": {
      "text/plain": [
       "\n"
      ]
     },
     "execution_count": 24,
     "metadata": {},
     "output_type": "execute_result"
    },
    {
     "data": {
      "text/plain": [
       "Iteration 910: KL divergence is 0.14026164078881\t\n",
       "Iteration 920: KL divergence is 0.13991272101506\t\n"
      ]
     },
     "execution_count": 24,
     "metadata": {},
     "output_type": "execute_result"
    },
    {
     "data": {
      "text/plain": [
       "Iteration 930: KL divergence is 0.13958021271235\t\n"
      ]
     },
     "execution_count": 24,
     "metadata": {},
     "output_type": "execute_result"
    },
    {
     "data": {
      "text/plain": [
       "Iteration 940: KL divergence is 0.13926379129725\t\n"
      ]
     },
     "execution_count": 24,
     "metadata": {},
     "output_type": "execute_result"
    },
    {
     "data": {
      "text/plain": [
       "Iteration 950: KL divergence is 0.13896321393287\t\n"
      ]
     },
     "execution_count": 24,
     "metadata": {},
     "output_type": "execute_result"
    },
    {
     "data": {
      "text/plain": [
       "Iteration 960: KL divergence is 0.13867815760612\t\n",
       "Iteration 970: KL divergence is 0.13840819229855\t\n"
      ]
     },
     "execution_count": 24,
     "metadata": {},
     "output_type": "execute_result"
    },
    {
     "data": {
      "text/plain": [
       "Iteration 980: KL divergence is 0.13815211300714\t\n"
      ]
     },
     "execution_count": 24,
     "metadata": {},
     "output_type": "execute_result"
    },
    {
     "data": {
      "text/plain": [
       "Iteration 990: KL divergence is 0.13790685719931\t"
      ]
     },
     "execution_count": 24,
     "metadata": {},
     "output_type": "execute_result"
    },
    {
     "data": {
      "text/plain": [
       "\n",
       "Iteration 1000: KL divergence is 0.13767317801906\t\n",
       " 124.9486 -191.9213\n",
       " 110.7650  443.1851\n",
       " 411.3295   17.5821\n",
       "  87.3276  674.4307\n",
       "-147.1598  833.2309\n",
       "-590.9827 -494.1040\n",
       " 844.3761 -318.2782\n",
       "-404.2528 -654.8808\n",
       " 613.9590 -121.9251\n",
       "-585.7407 -958.3483\n",
       "-464.5699  771.0288\n",
       "[torch.DoubleTensor of size 11x2]\n",
       "\n"
      ]
     },
     "execution_count": 24,
     "metadata": {},
     "output_type": "execute_result"
    }
   ],
   "source": [
    "tsne(vecs, 3)"
   ]
  },
  {
   "cell_type": "code",
   "execution_count": 23,
   "metadata": {
    "collapsed": true
   },
   "outputs": [],
   "source": [
    "function tsne(vecs, perplexity)\n",
    "    local opts = {dim = 2, perplexity = perplexity}\n",
    "    local p = m.embedding.tsne(vecs:double(), opts)\n",
    "    return p\n",
    "end"
   ]
  }
 ],
 "metadata": {
  "kernelspec": {
   "display_name": "iTorch",
   "language": "lua",
   "name": "itorch"
  },
  "language_info": {
   "name": "lua",
   "version": "20100"
  }
 },
 "nbformat": 4,
 "nbformat_minor": 0
}
