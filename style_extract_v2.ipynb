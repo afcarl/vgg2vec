{
 "cells": [
  {
   "cell_type": "code",
   "execution_count": 1,
   "metadata": {
    "collapsed": true
   },
   "outputs": [],
   "source": [
    "require 'torch'\n",
    "require 'nn'\n",
    "require 'image'\n",
    "require 'optim'"
   ]
  },
  {
   "cell_type": "code",
   "execution_count": 2,
   "metadata": {
    "collapsed": true
   },
   "outputs": [],
   "source": [
    "loadcaffe_wrap = require 'loadcaffe_wrapper'\n",
    "-- cjson = require 'cjson'\n",
    "json = require 'json'\n",
    "string = require 'string'\n",
    "m = require 'manifold'"
   ]
  },
  {
   "cell_type": "code",
   "execution_count": 3,
   "metadata": {
    "collapsed": true
   },
   "outputs": [],
   "source": [
    "\n",
    "cmd = torch.CmdLine()\n",
    "\n",
    "-- Hacking torch\n",
    "cmd:option('-start_at', 1, 'index to start at – worst hack I\\'ve ever written')\n",
    "cmd:option('-iter', 100, 'how many images to run over – please don\\'t segfault')\n",
    "cmd:option('-img_size', 512, 'all images will be resized to this max dimension' )\n",
    "cmd:option('-name', '', 'name to attach to output')\n",
    "cmd:option('-thumb_size', 100, 'thumbnail size')\n",
    "\n",
    "\n",
    "-- Basic options\n",
    "cmd:option('-style_dir', 'data/picasso_braque/', 'Style input directory')\n",
    "cmd:option('-tmp_dir', 'tmp/', 'Directory to store vectors on disk')\n",
    "cmd:option('-gpu', -1, 'Zero-indexed ID of the GPU to use; for CPU mode set -gpu = -1')\n",
    "\n",
    "-- Other options\n",
    "cmd:option('-pooling', 'max', 'max|avg')\n",
    "cmd:option('-proto_file', 'models/VGG_ILSVRC_19_layers_deploy.prototxt')\n",
    "cmd:option('-model_file', 'models/VGG_ILSVRC_19_layers.caffemodel')\n",
    "\n",
    "cmd:option('-content_layers', 'relu4_2', 'layers for content')\n",
    "cmd:option('-style_layers', 'relu1_2,relu2_2,relu3_4,relu4_4,relu5_4', 'layers for style') -- tbh all but relu6 and relu7, which cause size mismatches\n",
    "                            -- 'relu1_1,relu2_1,relu3_1,relu4_1,relu5_1'\n",
    "                            -- 'relu1_1,relu1_2,relu2_1,relu2_2,relu3_1,relu3_2,relu3_3,relu3_4,relu4_1,relu4_2,relu4_3,relu4_4,relu5_1,relu5_2,relu5_3,relu5_4'\n"
   ]
  },
  {
   "cell_type": "code",
   "execution_count": 4,
   "metadata": {
    "collapsed": true
   },
   "outputs": [],
   "source": [
    "function cached(label) -- check if a cached version of vec exists\n",
    "--     local layer_names = params.style_layers:gsub('relu',''):gsub(',','.')\n",
    "    local filename = params.tmp_dir .. 'cache/' .. label  .. '.cache'\n",
    "    local f = io.open(filename,\"r\")\n",
    "    if f ~= nil then\n",
    "        io.close(f)\n",
    "        return true\n",
    "    else\n",
    "        return false\n",
    "    end\n",
    "end\n",
    "\n",
    "function load_cache(label)\n",
    "    print(\"loading  from cache...\")\n",
    "--     local layer_names = params.style_layers:gsub('relu',''):gsub(',','.')\n",
    "    local filename = params.tmp_dir .. 'cache/' .. label  .. '.cache'\n",
    "    local f = torch.load(filename)\n",
    "    return f\n",
    "end\n",
    "\n",
    "function DEP_load_cache(label)\n",
    "    print(\"loading  from cache...\")\n",
    "    local filename = params.tmp_dir .. 'cache/' .. label .. '.cache'\n",
    "    local f = torch.load(filename)\n",
    "    return f\n",
    "end\n",
    "\n",
    "function cache(file, label)\n",
    "    if paths.dir(params.tmp_dir .. 'cache/') == nil then paths.mkdir(params.tmp_dir .. 'cache/') end\n",
    "\n",
    "    local filename = params.tmp_dir .. 'cache/' .. label .. '.cache'\n",
    "    local f = torch.save(filename, file)\n",
    "    print(string.format(\"cached  %s\", label))\n",
    "    return true\n",
    "end"
   ]
  },
  {
   "cell_type": "code",
   "execution_count": 5,
   "metadata": {
    "collapsed": true
   },
   "outputs": [],
   "source": [
    "function labels_to_jpg(path, embedding, labels)\n",
    "    local map_im = draw_text_map(embedding, labels)\n",
    "    image.save(path, map_im)\n",
    "    return true\n",
    "end"
   ]
  },
  {
   "cell_type": "code",
   "execution_count": 6,
   "metadata": {
    "collapsed": true
   },
   "outputs": [],
   "source": [
    "\n",
    "-------------------------------------------------------------------------------------\n",
    "\n",
    "\n",
    "-- Returns a network that computes the CxC Gram matrix from inputs\n",
    "-- of size C x H x W – jcjohnson's version\n",
    "function GramMatrix()\n",
    "    local net = nn.Sequential()\n",
    "    net:add(nn.View(-1):setNumInputDims(2))\n",
    "    local concat = nn.ConcatTable()\n",
    "    concat:add(nn.Identity())\n",
    "    concat:add(nn.Identity())\n",
    "    net:add(concat)\n",
    "    net:add(nn.MM(false, true))\n",
    "    return net\n",
    "end\n",
    "\n",
    "\n",
    "-- utility function to reshape a tensor from M x N x ... to an MxN array\n",
    "function flatten(t)\n",
    "    return torch.view(t, -1)\n",
    "end\n",
    "\n",
    "-- a function to do memory optimizations by \n",
    "-- setting up double-buffering across the network.\n",
    "-- this drastically reduces the memory needed to generate samples.\n",
    "-- from soumith/dcgan.torch\n",
    "function optimizeInferenceMemory(net)\n",
    "    local finput, output, outputB\n",
    "    net:apply(\n",
    "        function(m)\n",
    "            if torch.type(m):find('Convolution') then\n",
    "                finput = finput or m.finput\n",
    "                m.finput = finput\n",
    "                output = output or m.output\n",
    "                m.output = output\n",
    "            elseif torch.type(m):find('ReLU') then\n",
    "                m.inplace = true\n",
    "            elseif torch.type(m):find('BatchNormalization') then\n",
    "                outputB = outputB or m.output\n",
    "                m.output = outputB\n",
    "            end\n",
    "    end)\n",
    "end\n",
    "\n",
    "\n",
    "function Style2Vec(cnn, gram, img)\n",
    "    --[[ runs img through cnn, saving the output tensor at each of style_layers\n",
    "\n",
    "    -- FOR NOW, only returns relu4_1\n",
    "\n",
    "    relu1_1 : FloatTensor - size: 64x64\n",
    "    relu1_2 : FloatTensor - size: 64x64\n",
    "    relu2_1 : FloatTensor - size: 128x128\n",
    "    relu2_2 : FloatTensor - size: 128x128\n",
    "    relu3_1 : FloatTensor - size: 256x256\n",
    "    relu3_2 : FloatTensor - size: 256x256\n",
    "    relu3_3 : FloatTensor - size: 256x256\n",
    "    relu3_4 : FloatTensor - size: 256x256\n",
    "    relu4_1 : FloatTensor - size: 512x512\n",
    "    relu4_2 : FloatTensor - size: 512x512\n",
    "    relu4_3 : FloatTensor - size: 512x512\n",
    "    relu4_4 : FloatTensor - size: 512x512\n",
    "    relu5_1 : FloatTensor - size: 512x512\n",
    "    relu5_2 : FloatTensor - size: 512x512\n",
    "    relu5_3 : FloatTensor - size: 512x512\n",
    "    relu5_4 : FloatTensor - size: 512x512\n",
    "    \n",
    "    Returns a Lua table with the above key-value pairs. \n",
    "\n",
    "    \n",
    "    --]]\n",
    "    \n",
    "    local next_style_idx = 1\n",
    "    local net = nn.Sequential()\n",
    "    local style_layers = params.style_layers:split(',')\n",
    "    \n",
    "    local style_vector = nil \n",
    "\n",
    "    -- Build up net from cnn\n",
    "    \n",
    "    for i = 1, #cnn do\n",
    "\n",
    "        if next_style_idx <= #style_layers then\n",
    "            local layer = cnn:get(i)\n",
    "            local layer_name = layer.name\n",
    "\n",
    "            if params.gpu >= 0 then layer = layer:cuda() end\n",
    "\n",
    "            net:add(layer)\n",
    "            \n",
    "            -- now to grab style layers\n",
    "            \n",
    "            if (layer_name == style_layers[next_style_idx]) then\n",
    "                local target_features = net:forward(img)\n",
    "                local target_i = gram:forward(target_features)\n",
    "                target_i:div(target_features:nElement())\n",
    "                \n",
    "                -- add the current gram matrix (flattened) to style_vector\n",
    "                local curr = flatten(target_i):float()\n",
    "                if style_vector == nil then\n",
    "                    style_vector = curr\n",
    "                else\n",
    "                    style_vector = nn.JoinTable(1):forward({style_vector, curr}):float()\n",
    "                end\n",
    "\n",
    "                next_style_idx = next_style_idx + 1     \n",
    "            end\n",
    "        end\n",
    "    end\n",
    "\n",
    "    collectgarbage(); collectgarbage()\n",
    "    return style_vector\n",
    "end\n",
    "\n",
    "\n",
    "function save_json(filename, file)  \n",
    "    local filename = 'tsnejs/tmp/' .. filename .. '.json'\n",
    "    local json_string = json.encode(file)\n",
    "    local f = io.open(filename, 'w')\n",
    "    f:write(json_string)\n",
    "\n",
    "    return true\n",
    "end\n",
    "\n",
    "\n",
    "function load(label) -- load and preprocess image\n",
    "\n",
    "    -- Preprocess an image before passing it to a Caffe model.\n",
    "    -- We need to rescale from [0, 1] to [0, 255], convert from RGB to BGR,\n",
    "    -- and subtract the mean pixel. [jcjohnson]\n",
    "    function preprocess(img)\n",
    "      local mean_pixel = torch.DoubleTensor({103.939, 116.779, 123.68})\n",
    "      local perm = torch.LongTensor{3, 2, 1}\n",
    "      local img = img:index(1, perm):mul(256.0)\n",
    "      mean_pixel = mean_pixel:view(3, 1, 1):expandAs(img)\n",
    "      img:add(-1, mean_pixel)\n",
    "      if params.gpu >= 0 then img = img:cuda() end\n",
    "      return img\n",
    "    end\n",
    "\n",
    "    -- load our image\n",
    "    local ok, img = pcall(image.load, params.style_dir .. label .. '.jpg')\n",
    "    if not ok then \n",
    "        print('error loading image')\n",
    "        return nil\n",
    "    end\n",
    "\n",
    "    if img:size()[1] ~= 3 then\n",
    "        print('Not enough dimensions on this one')\n",
    "        return nil\n",
    "    end\n",
    "\n",
    "    -- save thumbnail\n",
    "    assert(save_thumb(img, label))\n",
    "\n",
    "    -- preprocess for return\n",
    "    img = image.scale(img, params.img_size, 'bilinear')\n",
    "    img = preprocess(img):float()\n",
    "\n",
    "    return img\n",
    "end\n",
    "\n",
    "\n",
    "function save_thumb(img, label)\n",
    "    local thumbs = params.tmp_dir .. 'thumbs/'\n",
    "    if paths.dir(thumbs) == nil then paths.mkdir(thumbs) end\n",
    "\n",
    "    local thumb = image.scale(img, params.thumb_size, 'bilinear')\n",
    "    image.save(thumbs .. label .. '.jpg', thumb)\n",
    "    return true\n",
    "end"
   ]
  },
  {
   "cell_type": "code",
   "execution_count": 7,
   "metadata": {
    "collapsed": true
   },
   "outputs": [],
   "source": [
    "-- function that draw text map: [modified from clementfarabet/manifold]\n",
    "function draw_text_map(X, words, inp_map_size, inp_font_size)\n",
    "  -- NOTE: This function assumes vocabulary is indexed by words, values indicate the index of a word into X!\n",
    "  \n",
    "    -- this function assumes embeddings normalized to 1... yech\n",
    "    \n",
    "  -- input options:\n",
    "  local map_size  = inp_map_size or 512\n",
    "  local font_size = inp_font_size or 9\n",
    "  \n",
    "  -- check inputs are correct:\n",
    "  local N = X:size(1)\n",
    "  if X:nDimension() ~= 2 or X:size(2) ~= 2 then\n",
    "    error('This function is designed to operate on 2D embeddings only.')\n",
    "  end\n",
    "  if X:size(1) ~= #words then\n",
    "    error('Number of words should match the number of rows in X.')\n",
    "  end\n",
    "    \n",
    "    -- normalize data \n",
    "    X:add(-X:min())\n",
    "    X:div( X:max())\n",
    "  \n",
    "  -- prepare image for rendering:\n",
    "  require 'image'\n",
    "  require 'qtwidget'\n",
    "  require 'qttorch'\n",
    "  local win = qtwidget.newimage(map_size, map_size)\n",
    "  \n",
    "  --render the words:\n",
    "  for key,val in pairs(words) do\n",
    "--     print(X[key])\n",
    "    win:setfont(qt.QFont{serif = false, size = fontsize})\n",
    "    win:moveto(math.floor(X[key][1] * 0.9 * map_size), math.floor(X[key][2] * map_size))\n",
    "    win:show(val)\n",
    "  end\n",
    "  \n",
    "  -- render to tensor:\n",
    "  local map_im = win:image():toTensor()\n",
    "  \n",
    "  -- return text map:\n",
    "  return map_im\n",
    "end"
   ]
  },
  {
   "cell_type": "code",
   "execution_count": 8,
   "metadata": {
    "collapsed": true
   },
   "outputs": [],
   "source": [
    "function tsne(vecs, perplexity)\n",
    "    local opts = {dim = 2, perplexity = perplexity}\n",
    "    local p = m.embedding.tsne(vecs:double(), opts)\n",
    "    return p\n",
    "end"
   ]
  },
  {
   "cell_type": "code",
   "execution_count": 9,
   "metadata": {
    "collapsed": false
   },
   "outputs": [
    {
     "data": {
      "text/plain": [
       "{\n",
       "  gpu : -1\n",
       "  pooling : max\n",
       "  content_layers : relu4_2\n",
       "  style_dir : data/picasso_braque/\n",
       "  img_size : 512\n",
       "  proto_file : models/VGG_ILSVRC_19_layers_deploy.prototxt\n",
       "  thumb_size : 100\n",
       "  model_file : models/VGG_ILSVRC_19_layers.caffemodel\n",
       "  style_layers : relu1_2,relu2_2,relu3_4,relu4_4,relu5_4\n",
       "  iter : 100\n",
       "  name : \n",
       "  start_at : 1\n",
       "  tmp_dir : tmp/\n",
       "}\n"
      ]
     },
     "execution_count": 9,
     "metadata": {},
     "output_type": "execute_result"
    }
   ],
   "source": [
    "arg = {}\n",
    "params = cmd:parse(arg)\n",
    "if paths.dir(params.tmp_dir) == nil then paths.mkdir(params.tmp_dir) end\n",
    "\n",
    "print(params)"
   ]
  },
  {
   "cell_type": "code",
   "execution_count": 10,
   "metadata": {
    "collapsed": true
   },
   "outputs": [],
   "source": [
    "-- gpu\n",
    "\n",
    "if params.gpu >= 0 then\n",
    "    require 'cutorch'\n",
    "    require 'cunn'\n",
    "    cutorch.setDevice(params.gpu + 1)\n",
    "else\n",
    "    params.backend = 'nn-cpu'\n",
    "end"
   ]
  },
  {
   "cell_type": "code",
   "execution_count": 12,
   "metadata": {
    "collapsed": false,
    "scrolled": true
   },
   "outputs": [
    {
     "data": {
      "text/plain": [
       "1\tBraque1\t\n",
       "2\tBraque2\t\n",
       "3\tBraque3\t\n",
       "4\tBraque4\t\n",
       "5\tBraque5\t\n",
       "6\tBraque6\t\n",
       "7\tBraque7\t\n",
       "8\tBraque8\t\n",
       "9\tPicasso1\t\n",
       "10\tPicasso2\t\n",
       "11\tPicasso3\t\n",
       "12\tPicasso4\t\n",
       "13\tPicasso5\t\n",
       "14\tPicasso6\t\n",
       "15\tPicasso7\t\n"
      ]
     },
     "execution_count": 12,
     "metadata": {},
     "output_type": "execute_result"
    }
   ],
   "source": [
    "-- get sorted\n",
    "sorted = {}\n",
    "files = {}\n",
    "for f in paths.iterfiles(params.style_dir) do    \n",
    "    if string.match(f, '.jpg') then\n",
    "        label = string.split(f, '.jpg')[1]\n",
    "        table.insert(sorted, label)\n",
    "        table.insert(files, params.style_dir .. f)\n",
    "    end\n",
    "end\n",
    "\n",
    "table.sort(sorted)\n",
    "for i,n in ipairs(sorted) do print(i, n) end\n"
   ]
  },
  {
   "cell_type": "code",
   "execution_count": 13,
   "metadata": {
    "collapsed": false
   },
   "outputs": [
    {
     "data": {
      "text/plain": [
       "Successfully loaded models/VGG_ILSVRC_19_layers.caffemodel\n"
      ]
     },
     "execution_count": 13,
     "metadata": {},
     "output_type": "execute_result"
    },
    {
     "data": {
      "text/plain": [
       "conv1_1: 64 3 3 3\n",
       "conv1_2: 64 64 3 3\n",
       "conv2_1: 128 64 3 3\n",
       "conv2_2: 128 128 3 3\n",
       "conv3_1: 256 128 3 3\n",
       "conv3_2: 256 256 3 3\n",
       "conv3_3: 256 256 3 3\n",
       "conv3_4: 256 256 3 3\n",
       "conv4_1: 512 256 3 3\n",
       "conv4_2: 512 512 3 3\n",
       "conv4_3: 512 512 3 3\n",
       "conv4_4: 512 512 3 3\n",
       "conv5_1: 512 512 3 3\n",
       "conv5_2: 512 512 3 3\n",
       "conv5_3: 512 512 3 3\n",
       "conv5_4: 512 512 3 3\n",
       "fc6: 1 1 25088 4096\n",
       "fc7: 1 1 4096 4096\n",
       "fc8: 1 1 4096 1000\n"
      ]
     },
     "execution_count": 13,
     "metadata": {},
     "output_type": "execute_result"
    }
   ],
   "source": [
    "-- load caffe network image\n",
    "\n",
    "cnn = loadcaffe_wrap.load(params.proto_file, params.model_file, params.backend):float()\n",
    "gram = GramMatrix():float()\n",
    "if params.gpu >= 0 then \n",
    "    cnn = cnn:cuda()\n",
    "    gram = gram:cuda() \n",
    "end\n",
    "optimizeInferenceMemory(cnn)\n",
    "\n",
    "collectgarbage(); collectgarbage()"
   ]
  },
  {
   "cell_type": "code",
   "execution_count": 17,
   "metadata": {
    "collapsed": false,
    "scrolled": true
   },
   "outputs": [
    {
     "data": {
      "text/plain": [
       "1 Braque1:\tloading  from cache...\t\n",
       "elapsed time: 0.18\n",
       "\t\n",
       "1 Braque2:\tloading  from cache...\t\n",
       "elapsed time: 0.19\n",
       "\t\n",
       "2 Braque3:\tloading  from cache...\t\n",
       "elapsed time: 0.12\n",
       "\t\n",
       "3 Braque4:\tloading  from cache...\t\n",
       "elapsed time: 0.20\n",
       "\t\n",
       "4 Braque5:\tloading  from cache...\t\n",
       "elapsed time: 0.21\n",
       "\t\n",
       "5 Braque6:\tloading  from cache...\t\n",
       "elapsed time: 0.19\n",
       "\t\n",
       "6 Braque7:\tloading  from cache...\t\n",
       "elapsed time: 0.25\n",
       "\t\n",
       "7 Braque8:\tloading  from cache...\t\n",
       "elapsed time: 0.32\n",
       "\t\n",
       "8 Picasso1:\tloading  from cache...\t\n",
       "elapsed time: 0.24\n",
       "\t\n",
       "9 Picasso2:\t"
      ]
     },
     "execution_count": 17,
     "metadata": {},
     "output_type": "execute_result"
    },
    {
     "data": {
      "text/plain": [
       "loading  from cache...\t\n"
      ]
     },
     "execution_count": 17,
     "metadata": {},
     "output_type": "execute_result"
    },
    {
     "data": {
      "text/plain": [
       "elapsed time: 2.29\n",
       "\t\n",
       "10 Picasso3:\t"
      ]
     },
     "execution_count": 17,
     "metadata": {},
     "output_type": "execute_result"
    },
    {
     "data": {
      "text/plain": [
       "cached  Picasso3\t\n",
       "elapsed time: 12.01\n",
       "\t\n",
       "11 Picasso4:\tloading  from cache...\t\n",
       "elapsed time: 0.27\n",
       "\t\n",
       "12 Picasso5:\tloading  from cache...\t\n",
       "elapsed time: 0.34\n",
       "\t\n",
       "13 Picasso6:\tloading  from cache...\t\n",
       "elapsed time: 0.31\n",
       "\t\n",
       "14 Picasso7:\tloading  from cache...\t\n"
      ]
     },
     "execution_count": 17,
     "metadata": {},
     "output_type": "execute_result"
    },
    {
     "data": {
      "text/plain": [
       "elapsed time: 0.40\n",
       "\t\n",
       "error loading 0 images\t\n"
      ]
     },
     "execution_count": 17,
     "metadata": {},
     "output_type": "execute_result"
    }
   ],
   "source": [
    "-- Run Style2Vec on image by image\n",
    "\n",
    "ct = 1\n",
    "ct2 = 1\n",
    "errct = 0\n",
    "i = params.start_at\n",
    "\n",
    "vecs = nil\n",
    "imgs = nil\n",
    "labels = {}\n",
    "\n",
    "while (i < #sorted + 1) do\n",
    "    label = sorted[i]\n",
    "    io.write(ct .. ' ' .. label .. ':\\t')        --      .. params.style_layers .. ' ...' \n",
    "\n",
    "    local timer = torch.Timer()\n",
    "    local vec = nil\n",
    "\n",
    "    local img = load(label)\n",
    "\n",
    "    if cached(label) then\n",
    "        vec = load_cache(label)\n",
    "    else        \n",
    "        if img == nil then\n",
    "            print('error loading image')        -- note: if cache exists, we don't check the image itself\n",
    "            errct = errct + 1\n",
    "        else\n",
    "            vec = Style2Vec(cnn, gram, img)\n",
    "            cache(vec, label)\n",
    "        end\n",
    "    end\n",
    "\n",
    "    if vec ~= nil then\n",
    "        if vecs == nil then\n",
    "            vecs = vec\n",
    "        else\n",
    "            vecs = nn.JoinTable(1):forward({vecs, vec}):float()\n",
    "            ct = ct + 1\n",
    "        end\n",
    "\n",
    "        -- resize all images to 512x512 before flattening to preserve dims\n",
    "        local std_img = image.scale(img, 512, 512, 'bicubic')\n",
    "        local flat_std = flatten(std_img)\n",
    "\n",
    "        if imgs == nil then\n",
    "            imgs = flat_std\n",
    "        else\n",
    "            imgs = nn.JoinTable(1):forward({imgs, flat_std}):float()\n",
    "            ct2 = ct2 + 1\n",
    "        end\n",
    "    \n",
    "        labels[ct] = label\n",
    "    end\n",
    "\n",
    "    i = i + 1\n",
    "--     if ct > params.iter then break end\n",
    "    collectgarbage(); collectgarbage()\n",
    "\n",
    "    print(string.format(\"elapsed time: %.2f\\n\", timer:time().real))\n",
    "end\n",
    "print(string.format(\"error loading %d images\", errct))"
   ]
  },
  {
   "cell_type": "code",
   "execution_count": null,
   "metadata": {
    "collapsed": true
   },
   "outputs": [],
   "source": [
    "-- -- clean up a little\n",
    "-- cnn = nil\n",
    "-- style_images = nil\n",
    "-- collectgarbage(); collectgarbage()"
   ]
  },
  {
   "cell_type": "code",
   "execution_count": 18,
   "metadata": {
    "collapsed": false
   },
   "outputs": [
    {
     "data": {
      "text/plain": [
       "reshaping vecs: \t\n",
       "\n",
       "     15\n",
       " 610304\n",
       "[torch.LongStorage of size 2]\n",
       "\n",
       "\n",
       "     15\n",
       " 786432\n",
       "[torch.LongStorage of size 2]\n",
       "\n"
      ]
     },
     "execution_count": 18,
     "metadata": {},
     "output_type": "execute_result"
    }
   ],
   "source": [
    "-- reshape into rows for export and t-SNE\n",
    "print('reshaping vecs: ')\n",
    "vecs = vecs:view(ct, -1)\n",
    "imgs = imgs:view(ct2, -1)\n",
    "print(#vecs)\n",
    "print(#imgs)"
   ]
  },
  {
   "cell_type": "code",
   "execution_count": 19,
   "metadata": {
    "collapsed": false,
    "scrolled": false
   },
   "outputs": [
    {
     "data": {
      "text/plain": [
       "Embedding at 11: \t\n",
       "Computing P-values...\t\n",
       "Running t-SNE...\t\n",
       "Iteration 100: KL divergence is 27.488963732981\t\n",
       "Iteration 200: KL divergence is 1.4630587532344\t\n",
       "Iteration 300: KL divergence is 0.30934677538012\t\n"
      ]
     },
     "execution_count": 19,
     "metadata": {},
     "output_type": "execute_result"
    },
    {
     "data": {
      "text/plain": [
       "Iteration 400: KL divergence is 0.23311187403534\t\n"
      ]
     },
     "execution_count": 19,
     "metadata": {},
     "output_type": "execute_result"
    },
    {
     "data": {
      "text/plain": [
       "Iteration 500: KL divergence is 0.21698226723205\t\n"
      ]
     },
     "execution_count": 19,
     "metadata": {},
     "output_type": "execute_result"
    },
    {
     "data": {
      "text/plain": [
       "Iteration 600: KL divergence is 0.21208043866473\t\n"
      ]
     },
     "execution_count": 19,
     "metadata": {},
     "output_type": "execute_result"
    },
    {
     "data": {
      "text/plain": [
       "Iteration 700: KL divergence is 0.20874951657439\t\n"
      ]
     },
     "execution_count": 19,
     "metadata": {},
     "output_type": "execute_result"
    },
    {
     "data": {
      "text/plain": [
       "Iteration 800: KL divergence is 0.20523165345975\t\n"
      ]
     },
     "execution_count": 19,
     "metadata": {},
     "output_type": "execute_result"
    },
    {
     "data": {
      "text/plain": [
       "Iteration 900: KL divergence is 0.20333045625773\t\n"
      ]
     },
     "execution_count": 19,
     "metadata": {},
     "output_type": "execute_result"
    },
    {
     "data": {
      "text/plain": [
       "Iteration 1000: KL divergence is 0.20251786655158\t\n"
      ]
     },
     "execution_count": 19,
     "metadata": {},
     "output_type": "execute_result"
    },
    {
     "data": {
      "text/plain": [
       "saving embedding to pb_11emb\t\n"
      ]
     },
     "execution_count": 19,
     "metadata": {},
     "output_type": "execute_result"
    },
    {
     "data": {
      "image/png": "[encoded data removed]",
      "text/plain": [
       "Console does not support images"
      ]
     },
     "metadata": {
      "image/png": {
       "height": 700,
       "width": 700
      }
     },
     "output_type": "display_data"
    },
    {
     "data": {
      "text/plain": [
       "Embedding at 13: \t\n"
      ]
     },
     "execution_count": 19,
     "metadata": {},
     "output_type": "execute_result"
    },
    {
     "data": {
      "text/plain": [
       "Computing P-values...\t\n"
      ]
     },
     "execution_count": 19,
     "metadata": {},
     "output_type": "execute_result"
    },
    {
     "data": {
      "text/plain": [
       "Running t-SNE...\t\n"
      ]
     },
     "execution_count": 19,
     "metadata": {},
     "output_type": "execute_result"
    },
    {
     "data": {
      "text/plain": [
       "Iteration 100: KL divergence is 22.689577018964\t\n"
      ]
     },
     "execution_count": 19,
     "metadata": {},
     "output_type": "execute_result"
    },
    {
     "data": {
      "text/plain": [
       "Iteration 200: KL divergence is 2.7554077330083\t\n"
      ]
     },
     "execution_count": 19,
     "metadata": {},
     "output_type": "execute_result"
    },
    {
     "data": {
      "text/plain": [
       "Iteration 300: KL divergence is 0.64780191355002\t\n"
      ]
     },
     "execution_count": 19,
     "metadata": {},
     "output_type": "execute_result"
    },
    {
     "data": {
      "text/plain": [
       "Iteration 400: KL divergence is 0.48416176620051\t\n"
      ]
     },
     "execution_count": 19,
     "metadata": {},
     "output_type": "execute_result"
    },
    {
     "data": {
      "text/plain": [
       "Iteration 500: KL divergence is 0.39860678424149\t\n"
      ]
     },
     "execution_count": 19,
     "metadata": {},
     "output_type": "execute_result"
    },
    {
     "data": {
      "text/plain": [
       "Iteration 600: KL divergence is 0.36016366780841\t\n"
      ]
     },
     "execution_count": 19,
     "metadata": {},
     "output_type": "execute_result"
    },
    {
     "data": {
      "text/plain": [
       "Iteration 700: KL divergence is 0.32300188365031\t\n"
      ]
     },
     "execution_count": 19,
     "metadata": {},
     "output_type": "execute_result"
    },
    {
     "data": {
      "text/plain": [
       "Iteration 800: KL divergence is 0.31639966859599\t\n"
      ]
     },
     "execution_count": 19,
     "metadata": {},
     "output_type": "execute_result"
    },
    {
     "data": {
      "text/plain": [
       "Iteration 900: KL divergence is 0.31494597554892\t\n"
      ]
     },
     "execution_count": 19,
     "metadata": {},
     "output_type": "execute_result"
    },
    {
     "data": {
      "text/plain": [
       "Iteration 1000: KL divergence is 0.31271739973114\t\n"
      ]
     },
     "execution_count": 19,
     "metadata": {},
     "output_type": "execute_result"
    },
    {
     "data": {
      "text/plain": [
       "saving embedding to pb_13emb\t\n"
      ]
     },
     "execution_count": 19,
     "metadata": {},
     "output_type": "execute_result"
    },
    {
     "data": {
      "image/png": "[encoded data removed]",
      "text/plain": [
       "Console does not support images"
      ]
     },
     "metadata": {
      "image/png": {
       "height": 700,
       "width": 700
      }
     },
     "output_type": "display_data"
    },
    {
     "data": {
      "text/plain": [
       "Embedding at 15: \t\n"
      ]
     },
     "execution_count": 19,
     "metadata": {},
     "output_type": "execute_result"
    },
    {
     "data": {
      "text/plain": [
       "Computing P-values...\t\n"
      ]
     },
     "execution_count": 19,
     "metadata": {},
     "output_type": "execute_result"
    },
    {
     "data": {
      "text/plain": [
       "Running t-SNE...\t\n"
      ]
     },
     "execution_count": 19,
     "metadata": {},
     "output_type": "execute_result"
    },
    {
     "data": {
      "text/plain": [
       "Iteration 100: KL divergence is 25.621921497928\t\n"
      ]
     },
     "execution_count": 19,
     "metadata": {},
     "output_type": "execute_result"
    },
    {
     "data": {
      "text/plain": [
       "Iteration 200: KL divergence is 1.7436874678961\t\n"
      ]
     },
     "execution_count": 19,
     "metadata": {},
     "output_type": "execute_result"
    },
    {
     "data": {
      "text/plain": [
       "Iteration 300: KL divergence is 0.38041650321432\t\n"
      ]
     },
     "execution_count": 19,
     "metadata": {},
     "output_type": "execute_result"
    },
    {
     "data": {
      "text/plain": [
       "Iteration 400: KL divergence is 0.3559207364749\t\n"
      ]
     },
     "execution_count": 19,
     "metadata": {},
     "output_type": "execute_result"
    },
    {
     "data": {
      "text/plain": [
       "Iteration 500: KL divergence is 0.35591855978995\t\n"
      ]
     },
     "execution_count": 19,
     "metadata": {},
     "output_type": "execute_result"
    },
    {
     "data": {
      "text/plain": [
       "Iteration 600: KL divergence is 0.35591855978995\t\n"
      ]
     },
     "execution_count": 19,
     "metadata": {},
     "output_type": "execute_result"
    },
    {
     "data": {
      "text/plain": [
       "Iteration 700: KL divergence is 0.3556907209903\t\n"
      ]
     },
     "execution_count": 19,
     "metadata": {},
     "output_type": "execute_result"
    },
    {
     "data": {
      "text/plain": [
       "Iteration 800: KL divergence is 0.35563429188814\t\n"
      ]
     },
     "execution_count": 19,
     "metadata": {},
     "output_type": "execute_result"
    },
    {
     "data": {
      "text/plain": [
       "Iteration 900: KL divergence is 0.35563398508759\t\n"
      ]
     },
     "execution_count": 19,
     "metadata": {},
     "output_type": "execute_result"
    },
    {
     "data": {
      "text/plain": [
       "Iteration 1000: KL divergence is 0.35354594449547\t\n"
      ]
     },
     "execution_count": 19,
     "metadata": {},
     "output_type": "execute_result"
    },
    {
     "data": {
      "text/plain": [
       "saving embedding to pb_15emb\t\n"
      ]
     },
     "execution_count": 19,
     "metadata": {},
     "output_type": "execute_result"
    },
    {
     "data": {
      "image/png": "[encoded data removed]",
      "text/plain": [
       "Console does not support images"
      ]
     },
     "metadata": {
      "image/png": {
       "height": 700,
       "width": 700
      }
     },
     "output_type": "display_data"
    },
    {
     "data": {
      "text/plain": [
       "Embedding at 17: \t\n"
      ]
     },
     "execution_count": 19,
     "metadata": {},
     "output_type": "execute_result"
    },
    {
     "data": {
      "text/plain": [
       "Computing P-values...\t\n"
      ]
     },
     "execution_count": 19,
     "metadata": {},
     "output_type": "execute_result"
    },
    {
     "data": {
      "text/plain": [
       "Running t-SNE...\t\n"
      ]
     },
     "execution_count": 19,
     "metadata": {},
     "output_type": "execute_result"
    },
    {
     "data": {
      "text/plain": [
       "Iteration 100: KL divergence is 32.43096252921\t\n"
      ]
     },
     "execution_count": 19,
     "metadata": {},
     "output_type": "execute_result"
    },
    {
     "data": {
      "text/plain": [
       "Iteration 200: KL divergence is 1.3321725102395\t\n"
      ]
     },
     "execution_count": 19,
     "metadata": {},
     "output_type": "execute_result"
    },
    {
     "data": {
      "text/plain": [
       "Iteration 300: KL divergence is 0.36781349792361\t\n"
      ]
     },
     "execution_count": 19,
     "metadata": {},
     "output_type": "execute_result"
    },
    {
     "data": {
      "text/plain": [
       "Iteration 400: KL divergence is 0.34738263837586\t\n"
      ]
     },
     "execution_count": 19,
     "metadata": {},
     "output_type": "execute_result"
    },
    {
     "data": {
      "text/plain": [
       "Iteration 500: KL divergence is 0.34730806799134\t\n"
      ]
     },
     "execution_count": 19,
     "metadata": {},
     "output_type": "execute_result"
    },
    {
     "data": {
      "image/png": "[encoded data removed]",
      "text/plain": [
       "Console does not support images"
      ]
     },
     "metadata": {
      "image/png": {
       "height": 700,
       "width": 700
      }
     },
     "output_type": "display_data"
    },
    {
     "data": {
      "text/plain": [
       "Iteration 600: KL divergence is 0.34712637748506\t\n",
       "Iteration 700: KL divergence is 0.34662266707206\t\n",
       "Iteration 800: KL divergence is 0.3448464422565\t\n",
       "Iteration 900: KL divergence is 0.34479548160564\t\n",
       "Iteration 1000: KL divergence is 0.34479238042269\t\n",
       "saving embedding to pb_17emb\t\n"
      ]
     },
     "execution_count": 19,
     "metadata": {},
     "output_type": "execute_result"
    }
   ],
   "source": [
    "params.name = 'pb_'\n",
    "perplexities = { 11, 13, 15, 17}\n",
    "\n",
    "for _, i in pairs(perplexities) do\n",
    "    print(string.format('Embedding at %d: ', i))\n",
    "\n",
    "    local embedding = tsne(vecs, i)\n",
    "    local map_im = draw_text_map(embedding, labels, 700, 9)\n",
    "    print('saving embedding to '.. params.name .. i .. 'emb')\n",
    "    assert(save_json(params.name .. i .. 'emb', embedding:totable()))\n",
    "    \n",
    "    itorch.image(map_im)                   -- labels_to_jpg('text_embedding.jpg', embedding, out)\n",
    "    os.execute(\"sleep \" .. tonumber(0.5))\n",
    "end"
   ]
  },
  {
   "cell_type": "code",
   "execution_count": 23,
   "metadata": {
    "collapsed": false
   },
   "outputs": [
    {
     "data": {
      "text/plain": [
       "[\"Braque1\",\"Braque2\",\"Braque3\",\"Braque4\",\"Braque5\",\"Braque6\",\"Braque7\",\"Braque8\",\"Picasso1\",\"Picasso2\",\"Picasso3\",\"Picasso4\",\"Picasso5\",\"Picasso6\",\"Picasso7\"]\t\n"
      ]
     },
     "execution_count": 23,
     "metadata": {},
     "output_type": "execute_result"
    }
   ],
   "source": [
    "save_json(params.name .. 'labels', labels)\n",
    "print(json.encode(labels))"
   ]
  }
 ],
 "metadata": {
  "kernelspec": {
   "display_name": "iTorch",
   "language": "lua",
   "name": "itorch"
  },
  "language_info": {
   "name": "lua",
   "version": "20100"
  }
 },
 "nbformat": 4,
 "nbformat_minor": 0
}
