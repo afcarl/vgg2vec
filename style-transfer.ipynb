{
 "cells": [
  {
   "cell_type": "code",
   "execution_count": 1,
   "metadata": {
    "collapsed": true
   },
   "outputs": [],
   "source": [
    "require 'torch'\n",
    "require 'nn'\n",
    "require 'image'\n",
    "require 'optim'"
   ]
  },
  {
   "cell_type": "code",
   "execution_count": 3,
   "metadata": {
    "collapsed": false
   },
   "outputs": [
    {
     "ename": "./loadcaffe_wrapper.lua:2: module 'loadcaffe' not found:\n\tno field package.preload['loadcaffe']\n\tno file '/Users/razi/.luarocks/share/lua/5.1/loadcaffe.lua'\n\tno file '/Users/razi/.luarocks/share/lua/5.1/loadcaffe/init.lua'\n\tno file '/Users/razi/torch/install/share/lua/5.1/loadcaffe.lua'\n\tno file '/Users/razi/torch/install/share/lua/5.1/loadcaffe/init.lua'\n\tno file './loadcaffe.lua'\n\tno file '/Users/razi/torch/install/share/luajit-2.1.0-alpha/loadcaffe.lua'\n\tno file '/usr/local/share/lua/5.1/loadcaffe.lua'\n\tno file '/usr/local/share/lua/5.1/loadcaffe/init.lua'\n\tno file '/Users/razi/.luarocks/lib/lua/5.1/loadcaffe.so'\n\tno file '/Users/razi/torch/install/lib/lua/5.1/loadcaffe.so'\n\tno file './loadcaffe.so'\n\tno file '/usr/local/lib/lua/5.1/loadcaffe.so'\n\tno file '/usr/local/lib/lua/5.1/loadall.so'\nstack traceback:\n\t[C]: in function 'require'\n\t./loadcaffe_wrapper.lua:2: in main chunk\n\t[C]: in function 'require'\n\t[string \"local loadcaffe_wrap = require 'loadcaffe_wra...\"]:1: in main chunk\n\t[C]: in function 'xpcall'\n\t/Users/razi/torch/install/share/lua/5.1/itorch/main.lua:179: in function </Users/razi/torch/install/share/lua/5.1/itorch/main.lua:143>\n\t/Users/razi/torch/install/share/lua/5.1/lzmq/poller.lua:75: in function 'poll'\n\t/Users/razi/torch/install/share/lua/5.1/lzmq/impl/loop.lua:307: in function 'poll'\n\t/Users/razi/torch/install/share/lua/5.1/lzmq/impl/loop.lua:325: in function 'sleep_ex'\n\t/Users/razi/torch/install/share/lua/5.1/lzmq/impl/loop.lua:370: in function 'start'\n\t/Users/razi/torch/install/share/lua/5.1/itorch/main.lua:350: in main chunk\n\t[C]: in function 'require'\n\t[string \"arg={'/Users/razi/.ipython/profile_default/se...\"]:1: in main chunk",
     "evalue": "",
     "output_type": "error",
     "traceback": [
      "./loadcaffe_wrapper.lua:2: module 'loadcaffe' not found:\n\tno field package.preload['loadcaffe']\n\tno file '/Users/razi/.luarocks/share/lua/5.1/loadcaffe.lua'\n\tno file '/Users/razi/.luarocks/share/lua/5.1/loadcaffe/init.lua'\n\tno file '/Users/razi/torch/install/share/lua/5.1/loadcaffe.lua'\n\tno file '/Users/razi/torch/install/share/lua/5.1/loadcaffe/init.lua'\n\tno file './loadcaffe.lua'\n\tno file '/Users/razi/torch/install/share/luajit-2.1.0-alpha/loadcaffe.lua'\n\tno file '/usr/local/share/lua/5.1/loadcaffe.lua'\n\tno file '/usr/local/share/lua/5.1/loadcaffe/init.lua'\n\tno file '/Users/razi/.luarocks/lib/lua/5.1/loadcaffe.so'\n\tno file '/Users/razi/torch/install/lib/lua/5.1/loadcaffe.so'\n\tno file './loadcaffe.so'\n\tno file '/usr/local/lib/lua/5.1/loadcaffe.so'\n\tno file '/usr/local/lib/lua/5.1/loadall.so'\nstack traceback:\n\t[C]: in function 'require'\n\t./loadcaffe_wrapper.lua:2: in main chunk\n\t[C]: in function 'require'\n\t[string \"local loadcaffe_wrap = require 'loadcaffe_wra...\"]:1: in main chunk\n\t[C]: in function 'xpcall'\n\t/Users/razi/torch/install/share/lua/5.1/itorch/main.lua:179: in function </Users/razi/torch/install/share/lua/5.1/itorch/main.lua:143>\n\t/Users/razi/torch/install/share/lua/5.1/lzmq/poller.lua:75: in function 'poll'\n\t/Users/razi/torch/install/share/lua/5.1/lzmq/impl/loop.lua:307: in function 'poll'\n\t/Users/razi/torch/install/share/lua/5.1/lzmq/impl/loop.lua:325: in function 'sleep_ex'\n\t/Users/razi/torch/install/share/lua/5.1/lzmq/impl/loop.lua:370: in function 'start'\n\t/Users/razi/torch/install/share/lua/5.1/itorch/main.lua:350: in main chunk\n\t[C]: in function 'require'\n\t[string \"arg={'/Users/razi/.ipython/profile_default/se...\"]:1: in main chunk"
     ]
    }
   ],
   "source": [
    "local loadcaffe_wrap = require 'loadcaffe_wrapper'"
   ]
  },
  {
   "cell_type": "code",
   "execution_count": 5,
   "metadata": {
    "collapsed": false
   },
   "outputs": [
    {
     "ename": "[string \"local f = function() return require('loadcaff...\"]:1: module 'loadcaffe' not found:\n\tno field package.preload['loadcaffe']\n\tno file '/Users/razi/.luarocks/share/lua/5.1/loadcaffe.lua'\n\tno file '/Users/razi/.luarocks/share/lua/5.1/loadcaffe/init.lua'\n\tno file '/Users/razi/torch/install/share/lua/5.1/loadcaffe.lua'\n\tno file '/Users/razi/torch/install/share/lua/5.1/loadcaffe/init.lua'\n\tno file './loadcaffe.lua'\n\tno file '/Users/razi/torch/install/share/luajit-2.1.0-alpha/loadcaffe.lua'\n\tno file '/usr/local/share/lua/5.1/loadcaffe.lua'\n\tno file '/usr/local/share/lua/5.1/loadcaffe/init.lua'\n\tno file '/Users/razi/.luarocks/lib/lua/5.1/loadcaffe.so'\n\tno file '/Users/razi/torch/install/lib/lua/5.1/loadcaffe.so'\n\tno file './loadcaffe.so'\n\tno file '/usr/local/lib/lua/5.1/loadcaffe.so'\n\tno file '/usr/local/lib/lua/5.1/loadall.so'\nstack traceback:\n\t[C]: in function 'f'\n\t[string \"local f = function() return require('loadcaff...\"]:1: in main chunk\n\t[C]: in function 'xpcall'\n\t/Users/razi/torch/install/share/lua/5.1/itorch/main.lua:179: in function </Users/razi/torch/install/share/lua/5.1/itorch/main.lua:143>\n\t/Users/razi/torch/install/share/lua/5.1/lzmq/poller.lua:75: in function 'poll'\n\t/Users/razi/torch/install/share/lua/5.1/lzmq/impl/loop.lua:307: in function 'poll'\n\t/Users/razi/torch/install/share/lua/5.1/lzmq/impl/loop.lua:325: in function 'sleep_ex'\n\t/Users/razi/torch/install/share/lua/5.1/lzmq/impl/loop.lua:370: in function 'start'\n\t/Users/razi/torch/install/share/lua/5.1/itorch/main.lua:350: in main chunk\n\t[C]: in function 'require'\n\t[string \"arg={'/Users/razi/.ipython/profile_default/se...\"]:1: in main chunk",
     "evalue": "",
     "output_type": "error",
     "traceback": [
      "[string \"local f = function() return require('loadcaff...\"]:1: module 'loadcaffe' not found:\n\tno field package.preload['loadcaffe']\n\tno file '/Users/razi/.luarocks/share/lua/5.1/loadcaffe.lua'\n\tno file '/Users/razi/.luarocks/share/lua/5.1/loadcaffe/init.lua'\n\tno file '/Users/razi/torch/install/share/lua/5.1/loadcaffe.lua'\n\tno file '/Users/razi/torch/install/share/lua/5.1/loadcaffe/init.lua'\n\tno file './loadcaffe.lua'\n\tno file '/Users/razi/torch/install/share/luajit-2.1.0-alpha/loadcaffe.lua'\n\tno file '/usr/local/share/lua/5.1/loadcaffe.lua'\n\tno file '/usr/local/share/lua/5.1/loadcaffe/init.lua'\n\tno file '/Users/razi/.luarocks/lib/lua/5.1/loadcaffe.so'\n\tno file '/Users/razi/torch/install/lib/lua/5.1/loadcaffe.so'\n\tno file './loadcaffe.so'\n\tno file '/usr/local/lib/lua/5.1/loadcaffe.so'\n\tno file '/usr/local/lib/lua/5.1/loadall.so'\nstack traceback:\n\t[C]: in function 'f'\n\t[string \"local f = function() return require('loadcaff...\"]:1: in main chunk\n\t[C]: in function 'xpcall'\n\t/Users/razi/torch/install/share/lua/5.1/itorch/main.lua:179: in function </Users/razi/torch/install/share/lua/5.1/itorch/main.lua:143>\n\t/Users/razi/torch/install/share/lua/5.1/lzmq/poller.lua:75: in function 'poll'\n\t/Users/razi/torch/install/share/lua/5.1/lzmq/impl/loop.lua:307: in function 'poll'\n\t/Users/razi/torch/install/share/lua/5.1/lzmq/impl/loop.lua:325: in function 'sleep_ex'\n\t/Users/razi/torch/install/share/lua/5.1/lzmq/impl/loop.lua:370: in function 'start'\n\t/Users/razi/torch/install/share/lua/5.1/itorch/main.lua:350: in main chunk\n\t[C]: in function 'require'\n\t[string \"arg={'/Users/razi/.ipython/profile_default/se...\"]:1: in main chunk"
     ]
    }
   ],
   "source": [
    "require('loadcaffe')"
   ]
  },
  {
   "cell_type": "code",
   "execution_count": null,
   "metadata": {
    "collapsed": true
   },
   "outputs": [],
   "source": []
  },
  {
   "cell_type": "code",
   "execution_count": null,
   "metadata": {
    "collapsed": true
   },
   "outputs": [],
   "source": []
  },
  {
   "cell_type": "code",
   "execution_count": null,
   "metadata": {
    "collapsed": true
   },
   "outputs": [],
   "source": []
  },
  {
   "cell_type": "code",
   "execution_count": null,
   "metadata": {
    "collapsed": true
   },
   "outputs": [],
   "source": []
  }
 ],
 "metadata": {
  "kernelspec": {
   "display_name": "iTorch",
   "language": "lua",
   "name": "itorch"
  },
  "language_info": {
   "name": "lua",
   "version": "20100"
  }
 },
 "nbformat": 4,
 "nbformat_minor": 0
}
