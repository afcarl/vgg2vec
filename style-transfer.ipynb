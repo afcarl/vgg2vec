{
 "cells": [
  {
   "cell_type": "code",
   "execution_count": 1,
   "metadata": {
    "collapsed": true
   },
   "outputs": [],
   "source": [
    "require 'torch'\n",
    "require 'nn'\n",
    "require 'image'\n",
    "require 'optim'"
   ]
  },
  {
   "cell_type": "code",
   "execution_count": 2,
   "metadata": {
    "collapsed": false
   },
   "outputs": [],
   "source": [
    "loadcaffe_wrap = require 'loadcaffe_wrapper'\n",
    "cjson = require 'cjson'\n",
    "string = require 'string'"
   ]
  },
  {
   "cell_type": "code",
   "execution_count": 3,
   "metadata": {
    "collapsed": false
   },
   "outputs": [],
   "source": [
    "cmd = torch.CmdLine()\n",
    "\n",
    "-- Basic options\n",
    "cmd:option('-style_dir', 'data/cubism/', 'Style input directory')\n",
    "cmd:option('-tmp_dir', 'tmp/', 'Directory to store vectors on disk')\n",
    "cmd:option('-gpu', -1, 'Zero-indexed ID of the GPU to use; for CPU mode set -gpu = -1')\n",
    "\n",
    "-- Other options\n",
    "cmd:option('-pooling', 'max', 'max|avg')\n",
    "cmd:option('-proto_file', 'models/VGG_ILSVRC_19_layers_deploy.prototxt')\n",
    "cmd:option('-model_file', 'models/VGG_ILSVRC_19_layers.caffemodel')\n",
    "\n",
    "cmd:option('-content_layers', 'relu4_2', 'layers for content')\n",
    "cmd:option('-style_layers', 'relu4_1', 'layers for style') -- tbh all but relu6 and relu7, which cause size mismatches\n",
    "                            -- 'relu1_1,relu2_1,relu3_1,relu4_1,relu5_1'\n",
    "                            -- 'relu1_1,relu1_2,relu2_1,relu2_2,relu3_1,relu3_2,relu3_3,relu3_4,relu4_1,relu4_2,relu4_3,relu4_4,relu5_1,relu5_2,relu5_3,relu5_4'"
   ]
  },
  {
   "cell_type": "code",
   "execution_count": 4,
   "metadata": {
    "collapsed": true
   },
   "outputs": [],
   "source": [
    "-- Preprocess an image before passing it to a Caffe model.\n",
    "-- We need to rescale from [0, 1] to [0, 255], convert from RGB to BGR,\n",
    "-- and subtract the mean pixel. [jcjohnson]\n",
    "function preprocess(img)\n",
    "  local mean_pixel = torch.DoubleTensor({103.939, 116.779, 123.68})\n",
    "  local perm = torch.LongTensor{3, 2, 1}\n",
    "  img = img:index(1, perm):mul(256.0)\n",
    "  mean_pixel = mean_pixel:view(3, 1, 1):expandAs(img)\n",
    "  img:add(-1, mean_pixel)\n",
    "  return img\n",
    "end"
   ]
  },
  {
   "cell_type": "code",
   "execution_count": 5,
   "metadata": {
    "collapsed": true
   },
   "outputs": [],
   "source": [
    "-- Returns a network that computes the CxC Gram matrix from inputs\n",
    "-- of size C x H x W – jcjohnson's version\n",
    "function GramMatrix()\n",
    "    local net = nn.Sequential()\n",
    "    net:add(nn.View(-1):setNumInputDims(2))\n",
    "    local concat = nn.ConcatTable()\n",
    "    concat:add(nn.Identity())\n",
    "    concat:add(nn.Identity())\n",
    "    net:add(concat)\n",
    "    net:add(nn.MM(false, true))\n",
    "    return net\n",
    "end"
   ]
  },
  {
   "cell_type": "code",
   "execution_count": 6,
   "metadata": {
    "collapsed": true
   },
   "outputs": [],
   "source": [
    "-- utility function to reshape a tensor from M x N x ... to an MxN array\n",
    "function flatten(t)\n",
    "    return torch.view(t, -1) -- :storage() exposes a raw memory interface\n",
    "end"
   ]
  },
  {
   "cell_type": "code",
   "execution_count": 7,
   "metadata": {
    "collapsed": false
   },
   "outputs": [],
   "source": [
    "function Style2Vec(img, cnn)\n",
    "    --[[ runs img through cnn, saving the output tensor at each of style_layers\n",
    "\n",
    "    relu1_1 : FloatTensor - size: 64x64\n",
    "    relu1_2 : FloatTensor - size: 64x64\n",
    "    relu2_1 : FloatTensor - size: 128x128\n",
    "    relu2_2 : FloatTensor - size: 128x128\n",
    "    relu3_1 : FloatTensor - size: 256x256\n",
    "    relu3_2 : FloatTensor - size: 256x256\n",
    "    relu3_3 : FloatTensor - size: 256x256\n",
    "    relu3_4 : FloatTensor - size: 256x256\n",
    "    relu4_1 : FloatTensor - size: 512x512\n",
    "    relu4_2 : FloatTensor - size: 512x512\n",
    "    relu4_3 : FloatTensor - size: 512x512\n",
    "    relu4_4 : FloatTensor - size: 512x512\n",
    "    relu5_1 : FloatTensor - size: 512x512\n",
    "    relu5_2 : FloatTensor - size: 512x512\n",
    "    relu5_3 : FloatTensor - size: 512x512\n",
    "    relu5_4 : FloatTensor - size: 512x512\n",
    "    \n",
    "    Returns a Lua table with the above key-value pairs.\n",
    "    \n",
    "    --]]\n",
    "    \n",
    "    local next_style_idx = 1\n",
    "    local net = nn.Sequential()\n",
    "    local style_vec = {}\n",
    "    local style_layers = params.style_layers:split(',')\n",
    "    \n",
    "    -- Build up net from cnn\n",
    "    \n",
    "    for i = 1, #cnn do\n",
    "        if next_style_idx <= #style_layers then\n",
    "            local layer = cnn:get(i)\n",
    "            local layer_name = layer.name\n",
    "            local layer_type = torch.type(layer)\n",
    "            local is_pooling = (layer_type == 'cudnn.SpatialMaxPooling' or layer_type == 'nn.SpatialMaxPooling')\n",
    "            \n",
    "            -- add layers to net from cnn, replacing max-pooling if necessary [jcjohnson]\n",
    "            if is_pooling and params.pooling == 'avg' then\n",
    "                local msg = 'Replacing max pooling at layer %d with average pooling'\n",
    "                print(string.format(msg, i))\n",
    "                assert(layer.padW == 0 and layer.padH == 0)\n",
    "                -- kWxkH regions by step size dWxdH\n",
    "                local kW, kH = layer.kW, layer.kH\n",
    "                local dW, dH = layer.dW, layer.dH\n",
    "                local avg_pool_layer = nn.SpatialAveragePooling(kW, kH, dW, dH):float()\n",
    "                if params.gpu >= 0 then avg_pool_layer:cuda() end\n",
    "                net:add(avg_pool_layer)\n",
    "            else\n",
    "                net:add(layer)\n",
    "            end\n",
    "            \n",
    "            -- now to grab style layers\n",
    "            \n",
    "            if (layer_name == style_layers[next_style_idx]) then\n",
    "                    \n",
    "                local gram = GramMatrix():float()\n",
    "                if params.gpu >= 0 then gram = gram:cuda() end\n",
    "                local target_features = net:forward(img)\n",
    "                local target_i = gram:forward(target_features)\n",
    "                \n",
    "                target_i:div(target_features:nElement())\n",
    "\n",
    "                style_vec[layer_name] = torch.totable(target_i)\n",
    "                -- itorch.image(target_i) -- YA THIS IS THE VECTOR!!!\n",
    "                                \n",
    "                next_style_idx = next_style_idx + 1\n",
    "            end\n",
    "        end\n",
    "    end\n",
    "        \n",
    "    return style_vec\n",
    "end"
   ]
  },
  {
   "cell_type": "code",
   "execution_count": 8,
   "metadata": {
    "collapsed": true
   },
   "outputs": [],
   "source": [
    "function load_json(filename, file)\n",
    "    \n",
    "    local str = torch.load(params.tmp_dir .. filename .. '.json', 'ascii')\n",
    "    \n",
    "    -- print('no copy of ' .. filename .. ' exists')\n",
    "    \n",
    "    return cjson.decode(str)\n",
    "end"
   ]
  },
  {
   "cell_type": "code",
   "execution_count": null,
   "metadata": {
    "collapsed": true
   },
   "outputs": [],
   "source": [
    "function cache_json(filename, file)    \n",
    "    if paths.dir(tmp) == nil then paths.mkdir(tmp) end\n",
    "    \n",
    "    json_string = cjson.encode(file)\n",
    "    torch.save(params.tmp_dir .. filename .. '.json', json_string, 'ascii')\n",
    "end"
   ]
  },
  {
   "cell_type": "code",
   "execution_count": 10,
   "metadata": {
    "collapsed": true
   },
   "outputs": [],
   "source": [
    "function cached(label) -- is it cached? t/f\n",
    "    for f in paths.iterfiles(params.tmp_dir) do\n",
    "        if f == filename then\n",
    "            -- print(filename .. 'already exists')\n",
    "            return true\n",
    "        end\n",
    "    end\n",
    "    return false\n",
    "end"
   ]
  },
  {
   "cell_type": "code",
   "execution_count": 11,
   "metadata": {
    "collapsed": false
   },
   "outputs": [
    {
     "data": {
      "text/plain": [
       "{\n",
       "  gpu : -1\n",
       "  pooling : max\n",
       "  content_layers : relu4_2\n",
       "  style_dir : data/cubism/\n",
       "  style_layers : relu4_1\n",
       "  tmp_dir : tmp/\n",
       "  proto_file : models/VGG_ILSVRC_19_layers_deploy.prototxt\n",
       "  model_file : models/VGG_ILSVRC_19_layers.caffemodel\n",
       "}\n"
      ]
     },
     "execution_count": 11,
     "metadata": {},
     "output_type": "execute_result"
    }
   ],
   "source": [
    "-- let's get started\n",
    "\n",
    "local arg = {} -- when running from cli, this will be defined\n",
    "params = cmd:parse(arg)\n",
    "print(params)"
   ]
  },
  {
   "cell_type": "code",
   "execution_count": 12,
   "metadata": {
    "collapsed": true
   },
   "outputs": [
    {
     "data": {
      "text/plain": [
       "Successfully loaded models/VGG_ILSVRC_19_layers.caffemodel\n"
      ]
     },
     "execution_count": 12,
     "metadata": {},
     "output_type": "execute_result"
    },
    {
     "data": {
      "text/plain": [
       "conv1_1: 64 3 3 3\n"
      ]
     },
     "execution_count": 12,
     "metadata": {},
     "output_type": "execute_result"
    },
    {
     "data": {
      "text/plain": [
       "conv1_2: 64 64 3 3\n",
       "conv2_1: 128 64 3 3\n",
       "conv2_2: 128 128 3 3\n",
       "conv3_1: 256 128 3 3\n",
       "conv3_2: 256 256 3 3\n",
       "conv3_3: 256 256 3 3\n",
       "conv3_4: 256 256 3 3\n"
      ]
     },
     "execution_count": 12,
     "metadata": {},
     "output_type": "execute_result"
    },
    {
     "data": {
      "text/plain": [
       "conv4_1: 512 256 3 3\n"
      ]
     },
     "execution_count": 12,
     "metadata": {},
     "output_type": "execute_result"
    },
    {
     "data": {
      "text/plain": [
       "conv4_2: 512 512 3 3\n"
      ]
     },
     "execution_count": 12,
     "metadata": {},
     "output_type": "execute_result"
    },
    {
     "data": {
      "text/plain": [
       "conv4_3: 512 512 3 3\n"
      ]
     },
     "execution_count": 12,
     "metadata": {},
     "output_type": "execute_result"
    },
    {
     "data": {
      "text/plain": [
       "conv4_4: 512 512 3 3\n"
      ]
     },
     "execution_count": 12,
     "metadata": {},
     "output_type": "execute_result"
    },
    {
     "data": {
      "text/plain": [
       "conv5_1: 512 512 3 3\n"
      ]
     },
     "execution_count": 12,
     "metadata": {},
     "output_type": "execute_result"
    },
    {
     "data": {
      "text/plain": [
       "conv5_2: 512 512 3 3\n"
      ]
     },
     "execution_count": 12,
     "metadata": {},
     "output_type": "execute_result"
    },
    {
     "data": {
      "text/plain": [
       "conv5_3: 512 512 3 3\n"
      ]
     },
     "execution_count": 12,
     "metadata": {},
     "output_type": "execute_result"
    },
    {
     "data": {
      "text/plain": [
       "conv5_4: 512 512 3 3\n"
      ]
     },
     "execution_count": 12,
     "metadata": {},
     "output_type": "execute_result"
    },
    {
     "data": {
      "text/plain": [
       "fc6: 1 1 25088 4096\n"
      ]
     },
     "execution_count": 12,
     "metadata": {},
     "output_type": "execute_result"
    },
    {
     "data": {
      "text/plain": [
       "fc7: 1 1 4096 4096\n"
      ]
     },
     "execution_count": 12,
     "metadata": {},
     "output_type": "execute_result"
    },
    {
     "data": {
      "text/plain": [
       "fc8: 1 1 4096 1000\n"
      ]
     },
     "execution_count": 12,
     "metadata": {},
     "output_type": "execute_result"
    }
   ],
   "source": [
    "-- load caffe network image\n",
    "cnn = loadcaffe_wrap.load(params.proto_file, params.model_file, params.backend):float()\n",
    "\n",
    "if params.gpu >= 0 then cnn:cuda() end"
   ]
  },
  {
   "cell_type": "code",
   "execution_count": 14,
   "metadata": {
    "collapsed": false
   },
   "outputs": [
    {
     "data": {
      "text/plain": [
       "{\n",
       "  6_ARTSTOR_103_41822003848650 : FloatTensor - size: 3x768x596\n",
       "  7_AMICO_METRO_103826558 : FloatTensor - size: 3x768x633\n",
       "  18_ARTSTOR_103_41822003848767 : FloatTensor - size: 3x768x559\n",
       "  22_ARTSTOR_103_41822003848817 : FloatTensor - size: 3x748x1024\n",
       "  3_AMOMA_10312309950 : FloatTensor - size: 3x768x795\n",
       "  13_ARTSTOR_103_41822003848718 : FloatTensor - size: 3x768x590\n",
       "  9_ARTSTOR_103_41822001700788 : FloatTensor - size: 3x272x400\n",
       "  2_ARTSTOR_103_41822003778188 : FloatTensor - size: 3x768x571\n",
       "  19_ARTSTOR_103_41822003848759 : FloatTensor - size: 3x768x569\n",
       "  10_ARTSTOR_103_41822003288345 : FloatTensor - size: 3x768x569\n",
       "  8_ASFMOMAIG_10312704327 : FloatTensor - size: 3x768x599\n",
       "  12_ARTSTOR_103_41822003848734 : FloatTensor - size: 3x768x580\n",
       "  14_ARTSTOR_103_41822003848700 : FloatTensor - size: 3x768x666\n",
       "  20_ARTSTOR_103_41822003848791 : FloatTensor - size: 3x768x574\n",
       "  16_ARTSTOR_103_41822003848783 : FloatTensor - size: 3x768x605\n",
       "  5_ARTSTOR_103_41822003755939 : FloatTensor - size: 3x673x1024\n",
       "  1_AYALEARTIG_10312577306 : FloatTensor - size: 3x768x764\n",
       "  17_ARTSTOR_103_41822003848775 : FloatTensor - size: 3x768x1007\n",
       "  21_ARTSTOR_103_41822003848809 : FloatTensor - size: 3x768x483\n",
       "  4_ARTSTOR_103_41822003755905 : FloatTensor - size: 3x768x714\n",
       "  23_ARTSTOR_103_41822003848825 : FloatTensor - size: 3x768x999\n",
       "  11_ARTSTOR_103_41822003778170 : FloatTensor - size: 3x768x538\n",
       "  15_ARTSTOR_103_41822003848668 : FloatTensor - size: 3x768x809\n",
       "}\n"
      ]
     },
     "execution_count": 14,
     "metadata": {},
     "output_type": "execute_result"
    }
   ],
   "source": [
    "-- load style_images\n",
    "\n",
    "style_images = {}\n",
    "\n",
    "for f in paths.iterfiles(params.style_dir) do\n",
    "    if string.match(f, '.jpg') then\n",
    "\n",
    "        local img = image.load(params.style_dir .. f)\n",
    "        img = preprocess(img):float()\n",
    "\n",
    "        if params.gpu >= 0 then img = img:cuda() end\n",
    "\n",
    "        label = string.split(f, '.jpg')[1]\n",
    "\n",
    "        -- itorch.image(img)\n",
    "        style_images[label] = img\n",
    "    end\n",
    "end\n",
    "\n",
    "print(style_images)"
   ]
  },
  {
   "cell_type": "code",
   "execution_count": 15,
   "metadata": {
    "collapsed": false
   },
   "outputs": [
    {
     "data": {
      "text/plain": [
       "2348.5419921875\t\n"
      ]
     },
     "execution_count": 15,
     "metadata": {},
     "output_type": "execute_result"
    }
   ],
   "source": [
    "collectgarbage('count')"
   ]
  },
  {
   "cell_type": "code",
   "execution_count": null,
   "metadata": {
    "collapsed": false,
    "scrolled": true
   },
   "outputs": [
    {
     "data": {
      "text/plain": [
       "6_ARTSTOR_103_41822003848650:\trelu4_1 ..."
      ]
     },
     "execution_count": 16,
     "metadata": {},
     "output_type": "execute_result"
    }
   ],
   "source": [
    "-- Run Style2Vec, caching tensors in tmp/\n",
    "\n",
    "-- styles = {}\n",
    "for label, image in pairs(style_images) do\n",
    "\n",
    "    io.write(label .. ':\\t' .. params.style_layers .. ' ...' ) \n",
    "    \n",
    "    local wrapper = {}\n",
    "    \n",
    "    if not cached(label) then\n",
    "        \n",
    "        local vec = Style2Vec(image, cnn)\n",
    "        wrapper['image'] = image\n",
    "        wrapper['style'] = vec\n",
    "        \n",
    "        io.write(' caching ... ')\n",
    "        cache_json(label, wrapper)\n",
    "    else\n",
    "        wrapper = load_json(label) \n",
    "    end\n",
    "    \n",
    "--     styles[label] = wrapper\n",
    "\n",
    "    io.write(' Done!\\n')\n",
    "        \n",
    "    collectgarbage()\n",
    "end"
   ]
  },
  {
   "cell_type": "code",
   "execution_count": null,
   "metadata": {
    "collapsed": false
   },
   "outputs": [],
   "source": [
    "print(#styles)"
   ]
  },
  {
   "cell_type": "code",
   "execution_count": null,
   "metadata": {
    "collapsed": true
   },
   "outputs": [],
   "source": [
    "-- clean up a little\n",
    "cnn = nil\n",
    "style_images = nil\n",
    "collectgarbage()"
   ]
  },
  {
   "cell_type": "code",
   "execution_count": null,
   "metadata": {
    "collapsed": false
   },
   "outputs": [],
   "source": [
    "collectgarbage('count')"
   ]
  },
  {
   "cell_type": "code",
   "execution_count": 39,
   "metadata": {
    "collapsed": false
   },
   "outputs": [
    {
     "data": {
      "text/plain": [
       "\n",
       "     19\n",
       " 262144\n",
       "[torch.LongStorage of size 2]\n",
       "\n"
      ]
     },
     "execution_count": 39,
     "metadata": {},
     "output_type": "execute_result"
    }
   ],
   "source": [
    "local ct = 1\n",
    "local size = 262144 -- 512^2 - relu4_1\n",
    "\n",
    "local tensors = nil\n",
    "local labels = torch.String\n",
    "\n",
    "for f in paths.iterfiles(params.tmp_dir) do\n",
    "    local table = torch.load(params.tmp_dir .. f, params.cache_format)\n",
    "    t = flatten(table['relu4_1']:double())\n",
    "    \n",
    "    if tensors then\n",
    "        tensors = torch.cat(tensors, t)\n",
    "    else\n",
    "        tensors = t\n",
    "    end\n",
    "        \n",
    "    ct = ct + 1    \n",
    "end\n",
    "\n",
    "views = torch.view(tensors, -1, size)\n",
    "\n",
    "print(#views)\n"
   ]
  },
  {
   "cell_type": "code",
   "execution_count": 35,
   "metadata": {
    "collapsed": false
   },
   "outputs": [
    {
     "data": {
      "text/plain": [
       "Computing P-values...\t\n",
       "Running t-SNE...\t\n",
       "Iteration 10: KL divergence is 26.355649156069\t\n",
       "Iteration 20: KL divergence is 21.360202021903\t\n",
       "Iteration 30: KL divergence is 23.230125370646\t\n",
       "Iteration 40: KL divergence is 27.024930613218\t\n",
       "Iteration 50: KL divergence is 25.266509976266\t\n",
       "Iteration 60: KL divergence is 26.771714931245\t\n",
       "Iteration 70: KL divergence is 24.595036025478\t\n",
       "Iteration 80: KL divergence is 25.046394745488\t\n",
       "Iteration 90: KL divergence is 27.353937811515\t\n",
       "Iteration 100: KL divergence is 24.049066734159\t\n",
       "Iteration 110: KL divergence is 26.549208571448\t\n",
       "Iteration 120: KL divergence is 23.401027251369\t\n",
       "Iteration 130: KL divergence is 26.38630383098\t\n",
       "Iteration 140: KL divergence is 24.470353374956\t\n",
       "Iteration 150: KL divergence is 32.283046492902\t\n",
       "Iteration 160: KL divergence is 25.86199844962\t\n",
       "Iteration 170: KL divergence is 25.761608615848\t\n",
       "Iteration 180: KL divergence is 24.507163955304\t\n",
       "Iteration 190: KL divergence is 23.887872709282\t\n",
       "Iteration 200: KL divergence is 2.245085218845\t\n",
       "Iteration 210: KL divergence is 1.5603497531656\t\n",
       "Iteration 220: KL divergence is 1.0555400162975\t\n",
       "Iteration 230: KL divergence is 0.64304387225362\t\n",
       "Iteration 240: KL divergence is 0.50796600426153\t\n",
       "Iteration 250: KL divergence is 0.48715148054914\t\n",
       "Iteration 260: KL divergence is 0.45400659063632\t\n",
       "Iteration 270: KL divergence is 0.44530112702695\t\n",
       "Iteration 280: KL divergence is 0.46844753741952\t\n",
       "Iteration 290: KL divergence is 0.46025965849022\t\n",
       "Iteration 300: KL divergence is 0.44602777849513\t\n",
       "Iteration 310: KL divergence is 0.43176276636713\t\n",
       "Iteration 320: KL divergence is 0.39601532878507\t\n",
       "Iteration 330: KL divergence is 0.39210836717607\t\n",
       "Iteration 340: KL divergence is 0.38877032751858\t\n",
       "Iteration 350: KL divergence is 0.38662326141277\t\n",
       "Iteration 360: KL divergence is 0.38618520048914\t\n",
       "Iteration 370: KL divergence is 0.38601628410723\t\n",
       "Iteration 380: KL divergence is 0.38591836023288\t\n",
       "Iteration 390: KL divergence is 0.3858672668835\t\n",
       "Iteration 400: KL divergence is 0.38584270050217\t\n",
       "Iteration 410: KL divergence is 0.38583004340999\t\n",
       "Iteration 420: KL divergence is 0.38558302045979\t\n",
       "Iteration 430: KL divergence is 0.38497363228202\t\n",
       "Iteration 440: KL divergence is 0.38173475682587\t\n",
       "Iteration 450: KL divergence is 0.37791347460948\t\n",
       "Iteration 460: KL divergence is 0.37688045393227\t\n",
       "Iteration 470: KL divergence is 0.37562691545971\t\n",
       "Iteration 480: KL divergence is 0.37575886547071\t\n",
       "Iteration 490: KL divergence is 0.37576618820121\t\n",
       "Iteration 500: KL divergence is 0.37576075623639\t\n",
       "Iteration 510: KL divergence is 0.37575584041708\t\n",
       "Iteration 520: KL divergence is 0.37575280341433\t\n",
       "Iteration 530: KL divergence is 0.37546529831115\t\n",
       "Iteration 540: KL divergence is 0.37277983614611\t\n",
       "Iteration 550: KL divergence is 0.37069920350458\t\n",
       "Iteration 560: KL divergence is 0.3678440338374\t\n",
       "Iteration 570: KL divergence is 0.36539564940909\t\n",
       "Iteration 580: KL divergence is 0.36431131245519\t\n",
       "Iteration 590: KL divergence is 0.36323695992516\t\n",
       "Iteration 600: KL divergence is 0.36205760787511\t\n",
       "Iteration 610: KL divergence is 0.36091436871626\t\n",
       "Iteration 620: KL divergence is 0.35991593888556\t\n",
       "Iteration 630: KL divergence is 0.35912149883304\t\n",
       "Iteration 640: KL divergence is 0.358528434112\t\n",
       "Iteration 650: KL divergence is 0.35804981477284\t\n",
       "Iteration 660: KL divergence is 0.3575322457282\t\n",
       "Iteration 670: KL divergence is 0.3569282662322\t\n",
       "Iteration 680: KL divergence is 0.35592254831963\t\n",
       "Iteration 690: KL divergence is 0.35431995406559\t\n",
       "Iteration 700: KL divergence is 0.35294454042574\t\n",
       "Iteration 710: KL divergence is 0.35198741419076\t\n",
       "Iteration 720: KL divergence is 0.35098045785971\t\n",
       "Iteration 730: KL divergence is 0.34981376677961\t\n",
       "Iteration 740: KL divergence is 0.3481542204074\t\n",
       "Iteration 750: KL divergence is 0.34523130174632\t\n",
       "Iteration 760: KL divergence is 0.34062783622969\t\n",
       "Iteration 770: KL divergence is 0.33559482497132\t\n",
       "Iteration 780: KL divergence is 0.33106383445904\t\n",
       "Iteration 790: KL divergence is 0.32759001298094\t\n",
       "Iteration 800: KL divergence is 0.32522505963192\t\n",
       "Iteration 810: KL divergence is 0.32360732552945\t\n",
       "Iteration 820: KL divergence is 0.322366699863"
      ]
     },
     "execution_count": 35,
     "metadata": {},
     "output_type": "execute_result"
    },
    {
     "data": {
      "text/plain": [
       "5\t\n",
       "Iteration 830: KL divergence is 0.32074039541963\t\n",
       "Iteration 840: KL divergence is 0.31768209716727\t\n",
       "Iteration 850: KL divergence is 0.31435088638005\t\n",
       "Iteration 860: KL divergence is 0.31180135275276\t\n",
       "Iteration 870: KL divergence is 0.31011885819432\t\n",
       "Iteration 880: KL divergence is 0.30891456891116\t\n",
       "Iteration 890: KL divergence is 0.30792547875231\t\n",
       "Iteration 900: KL divergence is 0.30709504829411\t\n",
       "Iteration 910: KL divergence is 0.30631784318907\t\n",
       "Iteration 920: KL divergence is 0.30506288442605\t\n",
       "Iteration 930: KL divergence is 0.30275314282627\t\n",
       "Iteration 940: KL divergence is 0.29980855761917\t\n",
       "Iteration 950: KL divergence is 0.29689501241048\t\n",
       "Iteration 960: KL divergence is 0.29443203411925\t\n",
       "Iteration 970: KL divergence is 0.29242770326785\t\n",
       "Iteration 980: KL divergence is 0.29070046805961\t\n",
       "Iteration 990: KL divergence is 0.28910741624957\t\n",
       "Iteration 1000: KL divergence is 0.28739712607142\t\n"
      ]
     },
     "execution_count": 35,
     "metadata": {},
     "output_type": "execute_result"
    }
   ],
   "source": [
    "local m = require 'manifold'\n",
    "p = m.embedding.tsne(views, {dim=2, perplexity=8})"
   ]
  },
  {
   "cell_type": "code",
   "execution_count": 36,
   "metadata": {
    "collapsed": false
   },
   "outputs": [
    {
     "data": {
      "text/plain": [
       " 604.7034 -269.6182\n",
       " 258.5209   13.2617\n",
       "-290.1599   -2.6792\n",
       " 464.2557   59.8725\n",
       " -77.4056   73.1160\n",
       "-511.0287   84.7488\n",
       "-114.3906 -147.1168\n",
       "-453.5069  -56.0094\n",
       " -42.9370  207.1664\n",
       " 125.1980 -348.7263\n",
       " 407.7959 -151.6246\n",
       " 232.3759 -133.6583\n",
       "-382.3847  158.9189\n",
       " 123.6943   35.7421\n",
       "-305.5637 -288.9049\n",
       " 289.8681  273.3978\n",
       "-339.4825  374.2545\n",
       "  -3.3650 -442.0694\n",
       "  13.8126  559.9284\n",
       "[torch.DoubleTensor of size 19x2]\n",
       "\n"
      ]
     },
     "execution_count": 36,
     "metadata": {},
     "output_type": "execute_result"
    }
   ],
   "source": [
    "print(p)"
   ]
  },
  {
   "cell_type": "markdown",
   "metadata": {},
   "source": [
    "---"
   ]
  },
  {
   "cell_type": "code",
   "execution_count": null,
   "metadata": {
    "collapsed": true
   },
   "outputs": [],
   "source": [
    "function CosineSimilarity(x, y)\n",
    "    local net = nn.Sequential()\n",
    "    net:add(nn.CosineDistance())\n",
    "    return net:forward({x, y})\n",
    "end\n",
    "\n",
    "function StyleDistance(x, y, sorted_layers)\n",
    "    -- this function will return the distance from each layer, assuming x and y\n",
    "    -- x[\"relu2_1 \"] = torch.FloatTensor\n",
    "    \n",
    "    for _, i in ipairs(sorted_layers) do -- can you tell I'm new to Lua?\n",
    "        local distance_vector = CosineSimilarity(x[i]:double(), y[i]:double())\n",
    "        local avg_distance = torch.mean(distance_vector)\n",
    "        \n",
    "        local msg ='Distance at layer %s is: %f'\n",
    "        print(string.format(msg, i, avg_distance))\n",
    "    end\n",
    "    \n",
    "end"
   ]
  },
  {
   "cell_type": "code",
   "execution_count": null,
   "metadata": {
    "collapsed": true
   },
   "outputs": [],
   "source": [
    "\n",
    "-- -- this is a little embarassing, no?\n",
    "-- local labels = params.style_layers:split(',')\n",
    "-- table.sort(labels)\n",
    "\n",
    "StyleDistance(style_vecs['haring_bw.jpg'], style_vecs['haring_bw.jpg'], labels)\n",
    "-- -- x = torch.Tensor({1, 2, 3})\n",
    "-- -- y = torch.Tensor({4, 5, 6})\n",
    "-- -- print(CosineSimilarity(x, y))"
   ]
  }
 ],
 "metadata": {
  "kernelspec": {
   "display_name": "iTorch",
   "language": "lua",
   "name": "itorch"
  },
  "language_info": {
   "name": "lua",
   "version": "20100"
  }
 },
 "nbformat": 4,
 "nbformat_minor": 0
}
