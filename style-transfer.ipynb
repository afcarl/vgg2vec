{
 "cells": [
  {
   "cell_type": "code",
   "execution_count": 1,
   "metadata": {
    "collapsed": true
   },
   "outputs": [],
   "source": [
    "require 'torch'\n",
    "require 'nn'\n",
    "require 'image'\n",
    "require 'optim'"
   ]
  },
  {
   "cell_type": "code",
   "execution_count": 2,
   "metadata": {
    "collapsed": false
   },
   "outputs": [],
   "source": [
    "loadcaffe_wrap = require 'loadcaffe_wrapper'\n",
    "cjson = require 'cjson'\n",
    "string = require 'string'"
   ]
  },
  {
   "cell_type": "code",
   "execution_count": 3,
   "metadata": {
    "collapsed": false
   },
   "outputs": [],
   "source": [
    "cmd = torch.CmdLine()\n",
    "\n",
    "-- Basic options\n",
    "cmd:option('-style_dir', 'data/picasso_cubism/', 'Style input directory')\n",
    "cmd:option('-tmp_dir', 'tmp/', 'Directory to store vectors on disk')\n",
    "cmd:option('-gpu', -1, 'Zero-indexed ID of the GPU to use; for CPU mode set -gpu = -1')\n",
    "\n",
    "-- Other options\n",
    "cmd:option('-pooling', 'max', 'max|avg')\n",
    "cmd:option('-proto_file', 'models/VGG_ILSVRC_19_layers_deploy.prototxt')\n",
    "cmd:option('-model_file', 'models/VGG_ILSVRC_19_layers.caffemodel')\n",
    "\n",
    "cmd:option('-content_layers', 'relu4_2', 'layers for content')\n",
    "cmd:option('-style_layers', 'relu4_1', 'layers for style') -- tbh all but relu6 and relu7, which cause size mismatches\n",
    "                            -- 'relu1_1,relu2_1,relu3_1,relu4_1,relu5_1'\n",
    "                            -- 'relu1_1,relu1_2,relu2_1,relu2_2,relu3_1,relu3_2,relu3_3,relu3_4,relu4_1,relu4_2,relu4_3,relu4_4,relu5_1,relu5_2,relu5_3,relu5_4'"
   ]
  },
  {
   "cell_type": "code",
   "execution_count": 4,
   "metadata": {
    "collapsed": true
   },
   "outputs": [],
   "source": [
    "-- Preprocess an image before passing it to a Caffe model.\n",
    "-- We need to rescale from [0, 1] to [0, 255], convert from RGB to BGR,\n",
    "-- and subtract the mean pixel. [jcjohnson]\n",
    "function preprocess(img)\n",
    "  local mean_pixel = torch.DoubleTensor({103.939, 116.779, 123.68})\n",
    "  local perm = torch.LongTensor{3, 2, 1}\n",
    "  img = img:index(1, perm):mul(256.0)\n",
    "  mean_pixel = mean_pixel:view(3, 1, 1):expandAs(img)\n",
    "  img:add(-1, mean_pixel)\n",
    "  return img\n",
    "end"
   ]
  },
  {
   "cell_type": "code",
   "execution_count": 5,
   "metadata": {
    "collapsed": true
   },
   "outputs": [],
   "source": [
    "-- Returns a network that computes the CxC Gram matrix from inputs\n",
    "-- of size C x H x W – jcjohnson's version\n",
    "function GramMatrix()\n",
    "    local net = nn.Sequential()\n",
    "    net:add(nn.View(-1):setNumInputDims(2))\n",
    "    local concat = nn.ConcatTable()\n",
    "    concat:add(nn.Identity())\n",
    "    concat:add(nn.Identity())\n",
    "    net:add(concat)\n",
    "    net:add(nn.MM(false, true))\n",
    "    return net\n",
    "end"
   ]
  },
  {
   "cell_type": "code",
   "execution_count": 6,
   "metadata": {
    "collapsed": true
   },
   "outputs": [],
   "source": [
    "-- utility function to reshape a tensor from M x N x ... to an MxN array\n",
    "function flatten(t)\n",
    "    return torch.view(t, -1) -- :storage() exposes a raw memory interface\n",
    "end"
   ]
  },
  {
   "cell_type": "code",
   "execution_count": 7,
   "metadata": {
    "collapsed": false
   },
   "outputs": [],
   "source": [
    "function Style2Vec(img, cnn)\n",
    "    --[[ runs img through cnn, saving the output tensor at each of style_layers\n",
    "\n",
    "    relu1_1 : FloatTensor - size: 64x64\n",
    "    relu1_2 : FloatTensor - size: 64x64\n",
    "    relu2_1 : FloatTensor - size: 128x128\n",
    "    relu2_2 : FloatTensor - size: 128x128\n",
    "    relu3_1 : FloatTensor - size: 256x256\n",
    "    relu3_2 : FloatTensor - size: 256x256\n",
    "    relu3_3 : FloatTensor - size: 256x256\n",
    "    relu3_4 : FloatTensor - size: 256x256\n",
    "    relu4_1 : FloatTensor - size: 512x512\n",
    "    relu4_2 : FloatTensor - size: 512x512\n",
    "    relu4_3 : FloatTensor - size: 512x512\n",
    "    relu4_4 : FloatTensor - size: 512x512\n",
    "    relu5_1 : FloatTensor - size: 512x512\n",
    "    relu5_2 : FloatTensor - size: 512x512\n",
    "    relu5_3 : FloatTensor - size: 512x512\n",
    "    relu5_4 : FloatTensor - size: 512x512\n",
    "    \n",
    "    Returns a Lua table with the above key-value pairs.\n",
    "    \n",
    "    --]]\n",
    "    \n",
    "    local next_style_idx = 1\n",
    "    local net = nn.Sequential()\n",
    "    local style_vec = {}\n",
    "    local style_layers = params.style_layers:split(',')\n",
    "    \n",
    "    -- Build up net from cnn\n",
    "    \n",
    "    for i = 1, #cnn do\n",
    "        if next_style_idx <= #style_layers then\n",
    "            local layer = cnn:get(i)\n",
    "            local layer_name = layer.name\n",
    "            local layer_type = torch.type(layer)\n",
    "            local is_pooling = (layer_type == 'cudnn.SpatialMaxPooling' or layer_type == 'nn.SpatialMaxPooling')\n",
    "            \n",
    "            -- add layers to net from cnn, replacing max-pooling if necessary [jcjohnson]\n",
    "            if is_pooling and params.pooling == 'avg' then\n",
    "                local msg = 'Replacing max pooling at layer %d with average pooling'\n",
    "                print(string.format(msg, i))\n",
    "                assert(layer.padW == 0 and layer.padH == 0)\n",
    "                -- kWxkH regions by step size dWxdH\n",
    "                local kW, kH = layer.kW, layer.kH\n",
    "                local dW, dH = layer.dW, layer.dH\n",
    "                local avg_pool_layer = nn.SpatialAveragePooling(kW, kH, dW, dH):float()\n",
    "                if params.gpu >= 0 then avg_pool_layer:cuda() end\n",
    "                net:add(avg_pool_layer)\n",
    "            else\n",
    "                net:add(layer)\n",
    "            end\n",
    "            \n",
    "            -- now to grab style layers\n",
    "            \n",
    "            if (layer_name == style_layers[next_style_idx]) then\n",
    "                    \n",
    "                local gram = GramMatrix():float()\n",
    "                if params.gpu >= 0 then gram = gram:cuda() end\n",
    "                local target_features = net:forward(img)\n",
    "                local target_i = gram:forward(target_features)\n",
    "                \n",
    "                target_i:div(target_features:nElement())\n",
    "                \n",
    "                style_vec[layer_name] = torch.totable(flatten(target_i))\n",
    "                -- itorch.image(target_i) -- YA THIS IS THE VECTOR!!!\n",
    "                                \n",
    "                next_style_idx = next_style_idx + 1\n",
    "            end\n",
    "        end\n",
    "    end\n",
    "    \n",
    "    collectgarbage()\n",
    "    return style_vec\n",
    "end"
   ]
  },
  {
   "cell_type": "code",
   "execution_count": 8,
   "metadata": {
    "collapsed": true
   },
   "outputs": [],
   "source": [
    "function load_json(filename, file)\n",
    "    local str = torch.load(params.tmp_dir .. filename .. '.json', 'ascii')\n",
    "    return cjson.decode(str)\n",
    "end"
   ]
  },
  {
   "cell_type": "code",
   "execution_count": 9,
   "metadata": {
    "collapsed": true
   },
   "outputs": [],
   "source": [
    "function cache_json(filename, file)    \n",
    "    if paths.dir(tmp) == nil then paths.mkdir(tmp) end\n",
    "    \n",
    "    json_string = cjson.encode(file)\n",
    "    torch.save(params.tmp_dir .. filename .. '.json', json_string, 'ascii')\n",
    "end"
   ]
  },
  {
   "cell_type": "code",
   "execution_count": 10,
   "metadata": {
    "collapsed": true
   },
   "outputs": [],
   "source": [
    "function cached(label) -- is it cached? t/f\n",
    "    for f in paths.iterfiles(params.tmp_dir) do\n",
    "        if f == filename then\n",
    "            -- print(filename .. 'already exists')\n",
    "            return true\n",
    "        end\n",
    "    end\n",
    "    return false\n",
    "end"
   ]
  },
  {
   "cell_type": "code",
   "execution_count": 11,
   "metadata": {
    "collapsed": false
   },
   "outputs": [
    {
     "data": {
      "text/plain": [
       "{\n",
       "  gpu : -1\n",
       "  pooling : max\n",
       "  content_layers : relu4_2\n",
       "  style_dir : data/picasso_cubism/\n",
       "  style_layers : relu4_1\n",
       "  tmp_dir : tmp/\n",
       "  proto_file : models/VGG_ILSVRC_19_layers_deploy.prototxt\n",
       "  model_file : models/VGG_ILSVRC_19_layers.caffemodel\n",
       "}\n"
      ]
     },
     "execution_count": 11,
     "metadata": {},
     "output_type": "execute_result"
    }
   ],
   "source": [
    "-- let's get started\n",
    "\n",
    "local arg = {} -- when running from cli, this will be defined\n",
    "params = cmd:parse(arg)\n",
    "print(params)"
   ]
  },
  {
   "cell_type": "code",
   "execution_count": 12,
   "metadata": {
    "collapsed": true
   },
   "outputs": [
    {
     "data": {
      "text/plain": [
       "Successfully loaded models/VGG_ILSVRC_19_layers.caffemodel\n"
      ]
     },
     "execution_count": 12,
     "metadata": {},
     "output_type": "execute_result"
    },
    {
     "data": {
      "text/plain": [
       "conv1_1: 64 3 3 3\n",
       "conv1_2: 64 64 3 3\n",
       "conv2_1: 128 64 3 3\n"
      ]
     },
     "execution_count": 12,
     "metadata": {},
     "output_type": "execute_result"
    },
    {
     "data": {
      "text/plain": [
       "conv2_2: 128 128 3 3\n",
       "conv3_1: 256 128 3 3\n"
      ]
     },
     "execution_count": 12,
     "metadata": {},
     "output_type": "execute_result"
    },
    {
     "data": {
      "text/plain": [
       "conv3_2: 256 256 3 3\n"
      ]
     },
     "execution_count": 12,
     "metadata": {},
     "output_type": "execute_result"
    },
    {
     "data": {
      "text/plain": [
       "conv3_3: 256 256 3 3\n"
      ]
     },
     "execution_count": 12,
     "metadata": {},
     "output_type": "execute_result"
    },
    {
     "data": {
      "text/plain": [
       "conv3_4: 256 256 3 3\n"
      ]
     },
     "execution_count": 12,
     "metadata": {},
     "output_type": "execute_result"
    },
    {
     "data": {
      "text/plain": [
       "conv4_1: 512 256 3 3\n"
      ]
     },
     "execution_count": 12,
     "metadata": {},
     "output_type": "execute_result"
    },
    {
     "data": {
      "text/plain": [
       "conv4_2: 512 512 3 3\n"
      ]
     },
     "execution_count": 12,
     "metadata": {},
     "output_type": "execute_result"
    },
    {
     "data": {
      "text/plain": [
       "conv4_3: 512 512 3 3\n"
      ]
     },
     "execution_count": 12,
     "metadata": {},
     "output_type": "execute_result"
    },
    {
     "data": {
      "text/plain": [
       "conv4_4: 512 512 3 3\n"
      ]
     },
     "execution_count": 12,
     "metadata": {},
     "output_type": "execute_result"
    },
    {
     "data": {
      "text/plain": [
       "conv5_1: 512 512 3 3\n"
      ]
     },
     "execution_count": 12,
     "metadata": {},
     "output_type": "execute_result"
    },
    {
     "data": {
      "text/plain": [
       "conv5_2: 512 512 3 3\n"
      ]
     },
     "execution_count": 12,
     "metadata": {},
     "output_type": "execute_result"
    },
    {
     "data": {
      "text/plain": [
       "conv5_3: 512 512 3 3\n"
      ]
     },
     "execution_count": 12,
     "metadata": {},
     "output_type": "execute_result"
    },
    {
     "data": {
      "text/plain": [
       "conv5_4: 512 512 3 3\n"
      ]
     },
     "execution_count": 12,
     "metadata": {},
     "output_type": "execute_result"
    },
    {
     "data": {
      "text/plain": [
       "fc6: 1 1 25088 4096\n"
      ]
     },
     "execution_count": 12,
     "metadata": {},
     "output_type": "execute_result"
    },
    {
     "data": {
      "text/plain": [
       "fc7: 1 1 4096 4096\n"
      ]
     },
     "execution_count": 12,
     "metadata": {},
     "output_type": "execute_result"
    },
    {
     "data": {
      "text/plain": [
       "fc8: 1 1 4096 1000\n"
      ]
     },
     "execution_count": 12,
     "metadata": {},
     "output_type": "execute_result"
    }
   ],
   "source": [
    "-- load caffe network image\n",
    "cnn = loadcaffe_wrap.load(params.proto_file, params.model_file, params.backend):float()\n",
    "\n",
    "if params.gpu >= 0 then cnn:cuda() end\n",
    "collectgarbage()"
   ]
  },
  {
   "cell_type": "code",
   "execution_count": 13,
   "metadata": {
    "collapsed": false
   },
   "outputs": [
    {
     "data": {
      "text/plain": [
       "1663.40625\t\n"
      ]
     },
     "execution_count": 13,
     "metadata": {},
     "output_type": "execute_result"
    }
   ],
   "source": [
    "collectgarbage('count')"
   ]
  },
  {
   "cell_type": "code",
   "execution_count": 14,
   "metadata": {
    "collapsed": false
   },
   "outputs": [
    {
     "data": {
      "text/plain": [
       "ARTSTOR_103_41822001426012\t\n",
       "BRYN_MAWR_95511124810\t\n",
       "BRYN_MAWR_95511125220\t\n",
       "BRYN_MAWR_95511125221\t\n",
       "BRYN_MAWR_95511128363\t\n",
       "BRYN_MAWR_9559344931\t\n",
       "BRYN_MAWR_9559344942\t\n",
       "BRYN_MAWR_9559344968\t\n",
       "BRYN_MAWR_9559345042\t\n",
       "BRYN_MAWR_9559345159\t\n",
       "BRYN_MAWR_9559352713\t\n",
       "LESSING_ART_10310751494\t\n"
      ]
     },
     "execution_count": 14,
     "metadata": {},
     "output_type": "execute_result"
    }
   ],
   "source": [
    "-- load style_images\n",
    "\n",
    "style_images = {}\n",
    "sorte = {}\n",
    "\n",
    "for f in paths.iterfiles(params.style_dir) do    \n",
    "    if string.match(f, '.jpg') then\n",
    "\n",
    "        local img = image.load(params.style_dir .. f)\n",
    "        img = preprocess(img):float()\n",
    "\n",
    "        if params.gpu >= 0 then img = img:cuda() end\n",
    "\n",
    "        label = string.split(f, '.jpg')[1]\n",
    "\n",
    "        table.insert(sorted, label)\n",
    "        \n",
    "        style_images[label] = img\n",
    "    end\n",
    "end\n",
    "\n",
    "-- print(style_images)\n",
    "table.sort(sorted)\n",
    "for i,n in ipairs(sorted) do print(n) end\n"
   ]
  },
  {
   "cell_type": "code",
   "execution_count": 39,
   "metadata": {
    "collapsed": false
   },
   "outputs": [
    {
     "data": {
      "text/plain": [
       "5829.248046875\t\n"
      ]
     },
     "execution_count": 39,
     "metadata": {},
     "output_type": "execute_result"
    }
   ],
   "source": [
    "collectgarbage('count')"
   ]
  },
  {
   "cell_type": "code",
   "execution_count": 47,
   "metadata": {
    "collapsed": false
   },
   "outputs": [
    {
     "data": {
      "text/plain": [
       "ARTSTOR_103_41822001426012:\trelu4_1 ..."
      ]
     },
     "execution_count": 47,
     "metadata": {},
     "output_type": "execute_result"
    },
    {
     "data": {
      "text/plain": [
       " Done!\n",
       "BRYN_MAWR_95511124810:\trelu4_1 ..."
      ]
     },
     "execution_count": 47,
     "metadata": {},
     "output_type": "execute_result"
    },
    {
     "data": {
      "text/plain": [
       " Done!\n"
      ]
     },
     "execution_count": 47,
     "metadata": {},
     "output_type": "execute_result"
    }
   ],
   "source": [
    "-- Run Style2Vec\n",
    "\n",
    "vecs = {}\n",
    "local ct = 1\n",
    "\n",
    "for i, label in ipairs(sorted) do\n",
    "    collectgarbage()\n",
    "    io.write(label .. ':\\t' .. params.style_layers .. ' ...' ) \n",
    "    \n",
    "    local image = style_images[label]\n",
    "    local vec = Style2Vec(image, cnn)\n",
    "    \n",
    "    vecs[i] = vec['relu4_1']\n",
    "    \n",
    "    io.write(' Done!\\n')\n",
    "    \n",
    "    ct = ct + 1\n",
    "--     if ct > 2 then break end\n",
    "end\n"
   ]
  },
  {
   "cell_type": "code",
   "execution_count": 49,
   "metadata": {
    "collapsed": false
   },
   "outputs": [],
   "source": [
    "-- store our output\n",
    "torch.save('sorted.json', cjson.encode(a), 'ascii')\n",
    "torch.save('vecs.json', cjson.encode(vecs), 'ascii')"
   ]
  },
  {
   "cell_type": "code",
   "execution_count": 33,
   "metadata": {
    "collapsed": false
   },
   "outputs": [
    {
     "data": {
      "text/plain": [
       "BRYN_MAWR_95511125220\t\n",
       "BRYN_MAWR_9559344968\t\n",
       "BRYN_MAWR_9559352713\t\n"
      ]
     },
     "execution_count": 33,
     "metadata": {},
     "output_type": "execute_result"
    }
   ],
   "source": [
    "for i, n in ipairs(sorted) do -- sorted labels\n",
    "    if vecs[n] ~= nil then\n",
    "        print(n)\n",
    "    end\n",
    "end"
   ]
  },
  {
   "cell_type": "code",
   "execution_count": 23,
   "metadata": {
    "collapsed": false
   },
   "outputs": [],
   "source": [
    "vecs = nil"
   ]
  },
  {
   "cell_type": "code",
   "execution_count": null,
   "metadata": {
    "collapsed": true
   },
   "outputs": [],
   "source": [
    "-- clean up a little\n",
    "cnn = nil\n",
    "style_images = nil\n",
    "collectgarbage()"
   ]
  },
  {
   "cell_type": "code",
   "execution_count": null,
   "metadata": {
    "collapsed": false
   },
   "outputs": [],
   "source": [
    "collectgarbage('count')"
   ]
  },
  {
   "cell_type": "code",
   "execution_count": null,
   "metadata": {
    "collapsed": true
   },
   "outputs": [],
   "source": [
    "-- tbh I don't remember what exactly this does\n",
    "\n",
    "\n",
    "-- local ct = 1\n",
    "-- local size = 262144 -- 512^2 - relu4_1\n",
    "\n",
    "-- local tensors = nil\n",
    "-- local labels = torch.String\n",
    "\n",
    "-- for f in paths.iterfiles(params.tmp_dir) do\n",
    "--     local table = torch.load(params.tmp_dir .. f, params.cache_format)\n",
    "--     t = flatten(table['relu4_1']:double())\n",
    "    \n",
    "--     if tensors then\n",
    "--         tensors = torch.cat(tensors, t)\n",
    "--     else\n",
    "--         tensors = t\n",
    "--     end\n",
    "        \n",
    "--     ct = ct + 1    \n",
    "-- end\n",
    "\n",
    "-- views = torch.view(tensors, -1, size)\n",
    "\n",
    "-- print(#views)\n"
   ]
  },
  {
   "cell_type": "code",
   "execution_count": 56,
   "metadata": {
    "collapsed": false
   },
   "outputs": [
    {
     "data": {
      "text/plain": [
       "\n",
       "      2\n",
       " 262144\n",
       "[torch.LongStorage of size 2]\n",
       "\n"
      ]
     },
     "execution_count": 56,
     "metadata": {},
     "output_type": "execute_result"
    }
   ],
   "source": [
    "local m = require 'manifold'\n",
    "p = m.embedding.tsne(vecs, {dim=2, perplexity=8}) -- THIS DOESN'T WORK because vecs is a table now"
   ]
  },
  {
   "cell_type": "markdown",
   "metadata": {},
   "source": [
    "---"
   ]
  },
  {
   "cell_type": "code",
   "execution_count": null,
   "metadata": {
    "collapsed": true
   },
   "outputs": [],
   "source": [
    "function CosineSimilarity(x, y)\n",
    "    local net = nn.Sequential()\n",
    "    net:add(nn.CosineDistance())\n",
    "    return net:forward({x, y})\n",
    "end\n",
    "\n",
    "function StyleDistance(x, y, sorted_layers)\n",
    "    -- this function will return the distance from each layer, assuming x and y\n",
    "    -- x[\"relu2_1 \"] = torch.FloatTensor\n",
    "    \n",
    "    for _, i in ipairs(sorted_layers) do -- can you tell I'm new to Lua?\n",
    "        local distance_vector = CosineSimilarity(x[i]:double(), y[i]:double())\n",
    "        local avg_distance = torch.mean(distance_vector)\n",
    "        \n",
    "        local msg ='Distance at layer %s is: %f'\n",
    "        print(string.format(msg, i, avg_distance))\n",
    "    end\n",
    "    \n",
    "end"
   ]
  },
  {
   "cell_type": "code",
   "execution_count": null,
   "metadata": {
    "collapsed": true
   },
   "outputs": [],
   "source": [
    "\n",
    "-- -- this is a little embarassing, no?\n",
    "-- local labels = params.style_layers:split(',')\n",
    "-- table.sort(labels)\n",
    "\n",
    "StyleDistance(style_vecs['haring_bw.jpg'], style_vecs['haring_bw.jpg'], labels)\n",
    "-- -- x = torch.Tensor({1, 2, 3})\n",
    "-- -- y = torch.Tensor({4, 5, 6})\n",
    "-- -- print(CosineSimilarity(x, y))"
   ]
  }
 ],
 "metadata": {
  "kernelspec": {
   "display_name": "iTorch",
   "language": "lua",
   "name": "itorch"
  },
  "language_info": {
   "name": "lua",
   "version": "20100"
  }
 },
 "nbformat": 4,
 "nbformat_minor": 0
}
